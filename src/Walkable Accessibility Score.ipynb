{
 "cells": [
  {
   "cell_type": "markdown",
   "metadata": {},
   "source": [
    "# Walkable Accessibility Score (WAS)"
   ]
  },
  {
   "cell_type": "markdown",
   "metadata": {},
   "source": [
    "### Date: July, 25, 2024"
   ]
  },
  {
   "cell_type": "markdown",
   "metadata": {},
   "source": [
    "### Compute a Walkable Accessibility Score (WAS) at the block group scale using InfoUSA POI data"
   ]
  },
  {
   "cell_type": "markdown",
   "metadata": {},
   "source": [
    "This notebook creates a Walkable Accessibility Score (WAS) computing the distance between businesses (points) and the centroids of block groups (points). The goal is to show through an example how to compute an access metric and to make it accessible enough for practitioners and scholars to use for their own purpose. Thus, businesses could be easily changed with other data of interest, such as schools, parks, or any other data. Also, the polygons (in this case, block groups), can be interchanged with other geographies, such as tracts, blocks or a similar type of geography that you might be interested in.\n",
    "\n",
    "In this example, we use business data from INFO USA and the geometries of the block groups from [IPUMS NHGIS](https://data2.nhgis.org/)."
   ]
  },
  {
   "cell_type": "markdown",
   "metadata": {},
   "source": [
    "### 1. Load libraries needed"
   ]
  },
  {
   "cell_type": "code",
   "execution_count": 1,
   "metadata": {},
   "outputs": [],
   "source": [
    "# Load libraries\n",
    "from sklearn.neighbors import BallTree\n",
    "import numpy as np\n",
    "import pandas as pd\n",
    "import geopandas as gpd"
   ]
  },
  {
   "cell_type": "markdown",
   "metadata": {},
   "source": [
    "### 2. Load data"
   ]
  },
  {
   "cell_type": "markdown",
   "metadata": {},
   "source": [
    "Load data that contain latitude and longitude as columns of the table. These could be points or centroids of polygons."
   ]
  },
  {
   "cell_type": "code",
   "execution_count": 2,
   "metadata": {},
   "outputs": [
    {
     "name": "stderr",
     "output_type": "stream",
     "text": [
      "/var/folders/93/2tplx4tn2jdc1zgf9bm7hmfr0000gn/T/ipykernel_6269/3889559082.py:3: DtypeWarning: Columns (27,28,36,52) have mixed types. Specify dtype option on import or set low_memory=False.\n",
      "  df = pd.read_csv('../../../Downloads/1997_Business_Academic_QCQ.txt', sep=\",\", encoding='latin-1')\n"
     ]
    },
    {
     "data": {
      "text/html": [
       "<div>\n",
       "<style scoped>\n",
       "    .dataframe tbody tr th:only-of-type {\n",
       "        vertical-align: middle;\n",
       "    }\n",
       "\n",
       "    .dataframe tbody tr th {\n",
       "        vertical-align: top;\n",
       "    }\n",
       "\n",
       "    .dataframe thead th {\n",
       "        text-align: right;\n",
       "    }\n",
       "</style>\n",
       "<table border=\"1\" class=\"dataframe\">\n",
       "  <thead>\n",
       "    <tr style=\"text-align: right;\">\n",
       "      <th></th>\n",
       "      <th>Company</th>\n",
       "      <th>Address Line 1</th>\n",
       "      <th>City</th>\n",
       "      <th>State</th>\n",
       "      <th>ZipCode</th>\n",
       "      <th>Zip4</th>\n",
       "      <th>County Code</th>\n",
       "      <th>Area Code</th>\n",
       "      <th>IDCode</th>\n",
       "      <th>Location Employee Size Code</th>\n",
       "      <th>...</th>\n",
       "      <th>Population Code</th>\n",
       "      <th>Census Tract</th>\n",
       "      <th>Census Block</th>\n",
       "      <th>Latitude</th>\n",
       "      <th>Longitude</th>\n",
       "      <th>Match Code</th>\n",
       "      <th>CBSA Code</th>\n",
       "      <th>CBSA Level</th>\n",
       "      <th>CSA Code</th>\n",
       "      <th>FIPS Code</th>\n",
       "    </tr>\n",
       "  </thead>\n",
       "  <tbody>\n",
       "    <tr>\n",
       "      <th>0</th>\n",
       "      <td>BOB'S AUTO REPAIR</td>\n",
       "      <td>1688 MAIN ST</td>\n",
       "      <td>AGAWAM</td>\n",
       "      <td>MA</td>\n",
       "      <td>1001</td>\n",
       "      <td>2577.0</td>\n",
       "      <td>13.0</td>\n",
       "      <td>413</td>\n",
       "      <td>NaN</td>\n",
       "      <td>A</td>\n",
       "      <td>...</td>\n",
       "      <td>1.0</td>\n",
       "      <td>813205.0</td>\n",
       "      <td>4.0</td>\n",
       "      <td>42.036140</td>\n",
       "      <td>-72.617520</td>\n",
       "      <td>P</td>\n",
       "      <td>44140.0</td>\n",
       "      <td>2.0</td>\n",
       "      <td>521.0</td>\n",
       "      <td>25013</td>\n",
       "    </tr>\n",
       "    <tr>\n",
       "      <th>1</th>\n",
       "      <td>RIVER STREET AUTO CLINIC INC</td>\n",
       "      <td>27 RIVER</td>\n",
       "      <td>AGAWAM</td>\n",
       "      <td>MA</td>\n",
       "      <td>1001</td>\n",
       "      <td>NaN</td>\n",
       "      <td>13.0</td>\n",
       "      <td>413</td>\n",
       "      <td>NaN</td>\n",
       "      <td>A</td>\n",
       "      <td>...</td>\n",
       "      <td>1.0</td>\n",
       "      <td>813207.0</td>\n",
       "      <td>5.0</td>\n",
       "      <td>42.098970</td>\n",
       "      <td>-72.634420</td>\n",
       "      <td>P</td>\n",
       "      <td>44140.0</td>\n",
       "      <td>2.0</td>\n",
       "      <td>521.0</td>\n",
       "      <td>25013</td>\n",
       "    </tr>\n",
       "    <tr>\n",
       "      <th>2</th>\n",
       "      <td>ALWAYS BLOOMING BALLOONS</td>\n",
       "      <td>3 PLANTATION DR</td>\n",
       "      <td>AGAWAM</td>\n",
       "      <td>MA</td>\n",
       "      <td>1001</td>\n",
       "      <td>3231.0</td>\n",
       "      <td>13.0</td>\n",
       "      <td>413</td>\n",
       "      <td>NaN</td>\n",
       "      <td>A</td>\n",
       "      <td>...</td>\n",
       "      <td>1.0</td>\n",
       "      <td>813203.0</td>\n",
       "      <td>4.0</td>\n",
       "      <td>42.073470</td>\n",
       "      <td>-72.604280</td>\n",
       "      <td>P</td>\n",
       "      <td>44140.0</td>\n",
       "      <td>2.0</td>\n",
       "      <td>521.0</td>\n",
       "      <td>25013</td>\n",
       "    </tr>\n",
       "    <tr>\n",
       "      <th>3</th>\n",
       "      <td>VICTOR'S HAIRSTYLING</td>\n",
       "      <td>332 WALNUT STREET EXT</td>\n",
       "      <td>AGAWAM</td>\n",
       "      <td>MA</td>\n",
       "      <td>1001</td>\n",
       "      <td>1524.0</td>\n",
       "      <td>13.0</td>\n",
       "      <td>413</td>\n",
       "      <td>NaN</td>\n",
       "      <td>A</td>\n",
       "      <td>...</td>\n",
       "      <td>1.0</td>\n",
       "      <td>813207.0</td>\n",
       "      <td>4.0</td>\n",
       "      <td>42.088669</td>\n",
       "      <td>-72.629398</td>\n",
       "      <td>P</td>\n",
       "      <td>44140.0</td>\n",
       "      <td>2.0</td>\n",
       "      <td>521.0</td>\n",
       "      <td>25013</td>\n",
       "    </tr>\n",
       "    <tr>\n",
       "      <th>4</th>\n",
       "      <td>AXLER'S BICYCLE CORNER</td>\n",
       "      <td>313 SPRINGFIELD ST</td>\n",
       "      <td>AGAWAM</td>\n",
       "      <td>MA</td>\n",
       "      <td>1001</td>\n",
       "      <td>1511.0</td>\n",
       "      <td>13.0</td>\n",
       "      <td>413</td>\n",
       "      <td>NaN</td>\n",
       "      <td>A</td>\n",
       "      <td>...</td>\n",
       "      <td>1.0</td>\n",
       "      <td>813207.0</td>\n",
       "      <td>4.0</td>\n",
       "      <td>42.087320</td>\n",
       "      <td>-72.640320</td>\n",
       "      <td>4</td>\n",
       "      <td>44140.0</td>\n",
       "      <td>2.0</td>\n",
       "      <td>521.0</td>\n",
       "      <td>25013</td>\n",
       "    </tr>\n",
       "    <tr>\n",
       "      <th>5</th>\n",
       "      <td>RACK N CUE PRO SHOP</td>\n",
       "      <td>80 RAMAH CIR</td>\n",
       "      <td>AGAWAM</td>\n",
       "      <td>MA</td>\n",
       "      <td>1001</td>\n",
       "      <td>NaN</td>\n",
       "      <td>13.0</td>\n",
       "      <td>413</td>\n",
       "      <td>NaN</td>\n",
       "      <td>A</td>\n",
       "      <td>...</td>\n",
       "      <td>1.0</td>\n",
       "      <td>813207.0</td>\n",
       "      <td>4.0</td>\n",
       "      <td>42.084930</td>\n",
       "      <td>-72.631940</td>\n",
       "      <td>P</td>\n",
       "      <td>44140.0</td>\n",
       "      <td>2.0</td>\n",
       "      <td>521.0</td>\n",
       "      <td>25013</td>\n",
       "    </tr>\n",
       "    <tr>\n",
       "      <th>6</th>\n",
       "      <td>NaN</td>\n",
       "      <td>1744 MAIN ST</td>\n",
       "      <td>AGAWAM</td>\n",
       "      <td>MA</td>\n",
       "      <td>1001</td>\n",
       "      <td>2513.0</td>\n",
       "      <td>13.0</td>\n",
       "      <td>413</td>\n",
       "      <td>NaN</td>\n",
       "      <td>A</td>\n",
       "      <td>...</td>\n",
       "      <td>1.0</td>\n",
       "      <td>813205.0</td>\n",
       "      <td>4.0</td>\n",
       "      <td>42.035431</td>\n",
       "      <td>-72.617565</td>\n",
       "      <td>P</td>\n",
       "      <td>44140.0</td>\n",
       "      <td>2.0</td>\n",
       "      <td>521.0</td>\n",
       "      <td>25013</td>\n",
       "    </tr>\n",
       "    <tr>\n",
       "      <th>7</th>\n",
       "      <td>MC GUIRE PECK &amp; CO</td>\n",
       "      <td>630 SILVER ST</td>\n",
       "      <td>AGAWAM</td>\n",
       "      <td>MA</td>\n",
       "      <td>1001</td>\n",
       "      <td>2987.0</td>\n",
       "      <td>13.0</td>\n",
       "      <td>413</td>\n",
       "      <td>NaN</td>\n",
       "      <td>A</td>\n",
       "      <td>...</td>\n",
       "      <td>1.0</td>\n",
       "      <td>813205.0</td>\n",
       "      <td>5.0</td>\n",
       "      <td>42.055700</td>\n",
       "      <td>-72.650810</td>\n",
       "      <td>4</td>\n",
       "      <td>44140.0</td>\n",
       "      <td>2.0</td>\n",
       "      <td>521.0</td>\n",
       "      <td>25013</td>\n",
       "    </tr>\n",
       "    <tr>\n",
       "      <th>8</th>\n",
       "      <td>AFFORDABLE WEDDING &amp; ANNVRSRY</td>\n",
       "      <td>65 SPRINGFIELD ST</td>\n",
       "      <td>AGAWAM</td>\n",
       "      <td>MA</td>\n",
       "      <td>1001</td>\n",
       "      <td>1505.0</td>\n",
       "      <td>13.0</td>\n",
       "      <td>413</td>\n",
       "      <td>NaN</td>\n",
       "      <td>A</td>\n",
       "      <td>...</td>\n",
       "      <td>1.0</td>\n",
       "      <td>813207.0</td>\n",
       "      <td>4.0</td>\n",
       "      <td>42.089474</td>\n",
       "      <td>-72.631680</td>\n",
       "      <td>0</td>\n",
       "      <td>44140.0</td>\n",
       "      <td>2.0</td>\n",
       "      <td>521.0</td>\n",
       "      <td>25013</td>\n",
       "    </tr>\n",
       "    <tr>\n",
       "      <th>9</th>\n",
       "      <td>AGAWAM ADVERTISING AGENCY</td>\n",
       "      <td>65 SPRINGFIELD ST</td>\n",
       "      <td>AGAWAM</td>\n",
       "      <td>MA</td>\n",
       "      <td>1001</td>\n",
       "      <td>1505.0</td>\n",
       "      <td>13.0</td>\n",
       "      <td>413</td>\n",
       "      <td>NaN</td>\n",
       "      <td>A</td>\n",
       "      <td>...</td>\n",
       "      <td>1.0</td>\n",
       "      <td>813207.0</td>\n",
       "      <td>4.0</td>\n",
       "      <td>42.089474</td>\n",
       "      <td>-72.631680</td>\n",
       "      <td>0</td>\n",
       "      <td>44140.0</td>\n",
       "      <td>2.0</td>\n",
       "      <td>521.0</td>\n",
       "      <td>25013</td>\n",
       "    </tr>\n",
       "  </tbody>\n",
       "</table>\n",
       "<p>10 rows × 53 columns</p>\n",
       "</div>"
      ],
      "text/plain": [
       "                         Company         Address Line 1    City State  \\\n",
       "0              BOB'S AUTO REPAIR           1688 MAIN ST  AGAWAM    MA   \n",
       "1   RIVER STREET AUTO CLINIC INC               27 RIVER  AGAWAM    MA   \n",
       "2       ALWAYS BLOOMING BALLOONS        3 PLANTATION DR  AGAWAM    MA   \n",
       "3           VICTOR'S HAIRSTYLING  332 WALNUT STREET EXT  AGAWAM    MA   \n",
       "4         AXLER'S BICYCLE CORNER     313 SPRINGFIELD ST  AGAWAM    MA   \n",
       "5            RACK N CUE PRO SHOP           80 RAMAH CIR  AGAWAM    MA   \n",
       "6                            NaN           1744 MAIN ST  AGAWAM    MA   \n",
       "7             MC GUIRE PECK & CO          630 SILVER ST  AGAWAM    MA   \n",
       "8  AFFORDABLE WEDDING & ANNVRSRY      65 SPRINGFIELD ST  AGAWAM    MA   \n",
       "9      AGAWAM ADVERTISING AGENCY      65 SPRINGFIELD ST  AGAWAM    MA   \n",
       "\n",
       "   ZipCode    Zip4  County Code  Area Code  IDCode  \\\n",
       "0     1001  2577.0         13.0        413     NaN   \n",
       "1     1001     NaN         13.0        413     NaN   \n",
       "2     1001  3231.0         13.0        413     NaN   \n",
       "3     1001  1524.0         13.0        413     NaN   \n",
       "4     1001  1511.0         13.0        413     NaN   \n",
       "5     1001     NaN         13.0        413     NaN   \n",
       "6     1001  2513.0         13.0        413     NaN   \n",
       "7     1001  2987.0         13.0        413     NaN   \n",
       "8     1001  1505.0         13.0        413     NaN   \n",
       "9     1001  1505.0         13.0        413     NaN   \n",
       "\n",
       "  Location Employee Size Code  ... Population Code  Census Tract Census Block  \\\n",
       "0                           A  ...             1.0      813205.0          4.0   \n",
       "1                           A  ...             1.0      813207.0          5.0   \n",
       "2                           A  ...             1.0      813203.0          4.0   \n",
       "3                           A  ...             1.0      813207.0          4.0   \n",
       "4                           A  ...             1.0      813207.0          4.0   \n",
       "5                           A  ...             1.0      813207.0          4.0   \n",
       "6                           A  ...             1.0      813205.0          4.0   \n",
       "7                           A  ...             1.0      813205.0          5.0   \n",
       "8                           A  ...             1.0      813207.0          4.0   \n",
       "9                           A  ...             1.0      813207.0          4.0   \n",
       "\n",
       "    Latitude  Longitude  Match Code CBSA Code  CBSA Level  CSA Code  FIPS Code  \n",
       "0  42.036140 -72.617520           P   44140.0         2.0     521.0      25013  \n",
       "1  42.098970 -72.634420           P   44140.0         2.0     521.0      25013  \n",
       "2  42.073470 -72.604280           P   44140.0         2.0     521.0      25013  \n",
       "3  42.088669 -72.629398           P   44140.0         2.0     521.0      25013  \n",
       "4  42.087320 -72.640320           4   44140.0         2.0     521.0      25013  \n",
       "5  42.084930 -72.631940           P   44140.0         2.0     521.0      25013  \n",
       "6  42.035431 -72.617565           P   44140.0         2.0     521.0      25013  \n",
       "7  42.055700 -72.650810           4   44140.0         2.0     521.0      25013  \n",
       "8  42.089474 -72.631680           0   44140.0         2.0     521.0      25013  \n",
       "9  42.089474 -72.631680           0   44140.0         2.0     521.0      25013  \n",
       "\n",
       "[10 rows x 53 columns]"
      ]
     },
     "execution_count": 2,
     "metadata": {},
     "output_type": "execute_result"
    }
   ],
   "source": [
    "# Load 2019 InfoUSA data - other data can be used\n",
    "# Takes ~2 min to run\n",
    "df = pd.read_csv('../../../Downloads/1997_Business_Academic_QCQ.txt', sep=\",\", encoding='latin-1')\n",
    "\n",
    "#Similarly, if you have a csv, you could read it as:\n",
    "# \n",
    "df.head(10)"
   ]
  },
  {
   "cell_type": "markdown",
   "metadata": {},
   "source": [
    "### 3. Know your data!"
   ]
  },
  {
   "cell_type": "markdown",
   "metadata": {},
   "source": [
    "#### Check how large is your data and what information it contains."
   ]
  },
  {
   "cell_type": "code",
   "execution_count": 3,
   "metadata": {},
   "outputs": [
    {
     "data": {
      "text/plain": [
       "'Your data contains 11263921 rows.'"
      ]
     },
     "execution_count": 3,
     "metadata": {},
     "output_type": "execute_result"
    }
   ],
   "source": [
    "\"Your data contains \" + str(len(df)) + \" rows.\""
   ]
  },
  {
   "cell_type": "markdown",
   "metadata": {},
   "source": [
    "The table contains the followning information:"
   ]
  },
  {
   "cell_type": "code",
   "execution_count": 4,
   "metadata": {},
   "outputs": [
    {
     "data": {
      "text/plain": [
       "['ABI',\n",
       " 'Address Line 1',\n",
       " 'Address Type Indicator',\n",
       " 'Archive Version Year',\n",
       " 'Area Code',\n",
       " 'Business Status Code',\n",
       " 'CBSA Code',\n",
       " 'CBSA Level',\n",
       " 'CSA Code',\n",
       " 'Census Block',\n",
       " 'Census Tract',\n",
       " 'City',\n",
       " 'Company',\n",
       " 'Company Holding Status',\n",
       " 'County Code',\n",
       " 'Employee Size (5) - Location',\n",
       " 'FIPS Code',\n",
       " 'IDCode',\n",
       " 'Industry Specific First Byte',\n",
       " 'Latitude',\n",
       " 'Location Employee Size Code',\n",
       " 'Location Sales Volume Code',\n",
       " 'Longitude',\n",
       " 'Match Code',\n",
       " 'NAICS8 Descriptions',\n",
       " 'Office Size Code',\n",
       " 'Parent Actual Employee Size',\n",
       " 'Parent Actual Sales Volume',\n",
       " 'Parent Employee Size Code',\n",
       " 'Parent Number',\n",
       " 'Parent Sales Volume Code',\n",
       " 'Population Code',\n",
       " 'Primary NAICS Code',\n",
       " 'Primary SIC Code',\n",
       " 'SIC Code',\n",
       " 'SIC Code 1',\n",
       " 'SIC Code 2',\n",
       " 'SIC Code 3',\n",
       " 'SIC Code 4',\n",
       " 'SIC6_Descriptions',\n",
       " 'SIC6_Descriptions (SIC)',\n",
       " 'SIC6_Descriptions (SIC1)',\n",
       " 'SIC6_Descriptions(SIC2)',\n",
       " 'SIC6_Descriptions(SIC3)',\n",
       " 'SIC6_Descriptions(SIC4)',\n",
       " 'Sales Volume (9) - Location',\n",
       " 'Site Number',\n",
       " 'State',\n",
       " 'Subsidiary Number',\n",
       " 'Year Established',\n",
       " 'Yellow Page Code',\n",
       " 'Zip4',\n",
       " 'ZipCode']"
      ]
     },
     "execution_count": 4,
     "metadata": {},
     "output_type": "execute_result"
    }
   ],
   "source": [
    "sorted(list(df.columns.values.tolist()))"
   ]
  },
  {
   "cell_type": "markdown",
   "metadata": {},
   "source": [
    "### 4. Clean data of interest"
   ]
  },
  {
   "cell_type": "markdown",
   "metadata": {},
   "source": [
    "#### 4.1. Filter data"
   ]
  },
  {
   "cell_type": "code",
   "execution_count": 5,
   "metadata": {},
   "outputs": [
    {
     "data": {
      "text/plain": [
       "NAICS4\n",
       "6211    538447\n",
       "5411    516143\n",
       "7225    449267\n",
       "8131    340021\n",
       "8121    327799\n",
       "         ...  \n",
       "9271        29\n",
       "1131        23\n",
       "1132        17\n",
       "1122        15\n",
       "1124         5\n",
       "Name: count, Length: 312, dtype: int64"
      ]
     },
     "execution_count": 5,
     "metadata": {},
     "output_type": "execute_result"
    }
   ],
   "source": [
    "# Amenities: groceries, restaurants, coffee shops, banks, parks, schools, bookstores, entertainment, and general shopping establishments \n",
    "#schools (https://nces.ed.gov/programs/edge/geographic/schoollocations) and parks (centroids - https://www.arcgis.com/home/item.html?id=f092c20803a047cba81fbf1e30eff0b5)\n",
    "\n",
    "#Convert the column to string\n",
    "df['Primary NAICS Code'].astype(str)\n",
    "\n",
    "#Created new categories of NAICS codes so it was easier to filter the categories of interest.\n",
    "df['NAICS'] = df['Primary NAICS Code'].astype(str)\n",
    "df['NAICS2'] = df.NAICS.str[:2]\n",
    "df['NAICS4'] = df.NAICS.str[:4]\n",
    "df['NAICS6'] = df.NAICS.str[:6]\n",
    "df.NAICS4.value_counts()"
   ]
  },
  {
   "cell_type": "code",
   "execution_count": 6,
   "metadata": {},
   "outputs": [],
   "source": [
    "# Specific amenity NAICS codes\n",
    "\n",
    "#Filter\n",
    "filtered = df.loc[(df['NAICS2'] == '72') | (df['NAICS4'] == '4421') | (df['NAICS4'] == '4431') | (df['NAICS4'] == '4451') | \n",
    "                (df['NAICS4'] == '4461') | (df['NAICS4'] == '4481') | (df['NAICS4'] == '4482') | (df['NAICS4'] == '4483') |\n",
    "                (df['NAICS4'] == '4511') | (df['NAICS4'] == '4531') | (df['NAICS4'] == '4532') | (df['NAICS4'] == '4539') |\n",
    "                (df['NAICS4'] == '4453') | (df['NAICS4'] == '4523') | (df['NAICS4'] == '5221') | (df['NAICS6'] == '311811') |\n",
    "                (df['NAICS6'] == '451211')]\n",
    "\n",
    "# Remove Puerto Rico, Alaska, Hawaii, and US Virgin Islands because we will be measuring distances and islands will affect our analysis\n",
    "filtered = filtered[(filtered['State'] != 'PR') & (filtered['State'] != 'AK') & (filtered['State'] != 'HI') & (filtered['State'] != 'VI')]"
   ]
  },
  {
   "cell_type": "markdown",
   "metadata": {},
   "source": [
    "#### Check your data...How large is your filtered data and how does it look?"
   ]
  },
  {
   "cell_type": "code",
   "execution_count": 7,
   "metadata": {},
   "outputs": [
    {
     "data": {
      "text/plain": [
       "'Your filtered data contains 1812062 rows.'"
      ]
     },
     "execution_count": 7,
     "metadata": {},
     "output_type": "execute_result"
    }
   ],
   "source": [
    "\"Your filtered data contains \" + str(len(filtered)) + \" rows.\""
   ]
  },
  {
   "cell_type": "code",
   "execution_count": 8,
   "metadata": {},
   "outputs": [
    {
     "data": {
      "text/html": [
       "<div>\n",
       "<style scoped>\n",
       "    .dataframe tbody tr th:only-of-type {\n",
       "        vertical-align: middle;\n",
       "    }\n",
       "\n",
       "    .dataframe tbody tr th {\n",
       "        vertical-align: top;\n",
       "    }\n",
       "\n",
       "    .dataframe thead th {\n",
       "        text-align: right;\n",
       "    }\n",
       "</style>\n",
       "<table border=\"1\" class=\"dataframe\">\n",
       "  <thead>\n",
       "    <tr style=\"text-align: right;\">\n",
       "      <th></th>\n",
       "      <th>Company</th>\n",
       "      <th>Address Line 1</th>\n",
       "      <th>City</th>\n",
       "      <th>State</th>\n",
       "      <th>ZipCode</th>\n",
       "      <th>Zip4</th>\n",
       "      <th>County Code</th>\n",
       "      <th>Area Code</th>\n",
       "      <th>IDCode</th>\n",
       "      <th>Location Employee Size Code</th>\n",
       "      <th>...</th>\n",
       "      <th>Longitude</th>\n",
       "      <th>Match Code</th>\n",
       "      <th>CBSA Code</th>\n",
       "      <th>CBSA Level</th>\n",
       "      <th>CSA Code</th>\n",
       "      <th>FIPS Code</th>\n",
       "      <th>NAICS</th>\n",
       "      <th>NAICS2</th>\n",
       "      <th>NAICS4</th>\n",
       "      <th>NAICS6</th>\n",
       "    </tr>\n",
       "  </thead>\n",
       "  <tbody>\n",
       "    <tr>\n",
       "      <th>2</th>\n",
       "      <td>ALWAYS BLOOMING BALLOONS</td>\n",
       "      <td>3 PLANTATION DR</td>\n",
       "      <td>AGAWAM</td>\n",
       "      <td>MA</td>\n",
       "      <td>1001</td>\n",
       "      <td>3231.0</td>\n",
       "      <td>13.0</td>\n",
       "      <td>413</td>\n",
       "      <td>NaN</td>\n",
       "      <td>A</td>\n",
       "      <td>...</td>\n",
       "      <td>-72.60428</td>\n",
       "      <td>P</td>\n",
       "      <td>44140.0</td>\n",
       "      <td>2.0</td>\n",
       "      <td>521.0</td>\n",
       "      <td>25013</td>\n",
       "      <td>45322002.0</td>\n",
       "      <td>45</td>\n",
       "      <td>4532</td>\n",
       "      <td>453220</td>\n",
       "    </tr>\n",
       "    <tr>\n",
       "      <th>4</th>\n",
       "      <td>AXLER'S BICYCLE CORNER</td>\n",
       "      <td>313 SPRINGFIELD ST</td>\n",
       "      <td>AGAWAM</td>\n",
       "      <td>MA</td>\n",
       "      <td>1001</td>\n",
       "      <td>1511.0</td>\n",
       "      <td>13.0</td>\n",
       "      <td>413</td>\n",
       "      <td>NaN</td>\n",
       "      <td>A</td>\n",
       "      <td>...</td>\n",
       "      <td>-72.64032</td>\n",
       "      <td>4</td>\n",
       "      <td>44140.0</td>\n",
       "      <td>2.0</td>\n",
       "      <td>521.0</td>\n",
       "      <td>25013</td>\n",
       "      <td>45111006.0</td>\n",
       "      <td>45</td>\n",
       "      <td>4511</td>\n",
       "      <td>451110</td>\n",
       "    </tr>\n",
       "    <tr>\n",
       "      <th>8</th>\n",
       "      <td>AFFORDABLE WEDDING &amp; ANNVRSRY</td>\n",
       "      <td>65 SPRINGFIELD ST</td>\n",
       "      <td>AGAWAM</td>\n",
       "      <td>MA</td>\n",
       "      <td>1001</td>\n",
       "      <td>1505.0</td>\n",
       "      <td>13.0</td>\n",
       "      <td>413</td>\n",
       "      <td>NaN</td>\n",
       "      <td>A</td>\n",
       "      <td>...</td>\n",
       "      <td>-72.63168</td>\n",
       "      <td>0</td>\n",
       "      <td>44140.0</td>\n",
       "      <td>2.0</td>\n",
       "      <td>521.0</td>\n",
       "      <td>25013</td>\n",
       "      <td>45399870.0</td>\n",
       "      <td>45</td>\n",
       "      <td>4539</td>\n",
       "      <td>453998</td>\n",
       "    </tr>\n",
       "  </tbody>\n",
       "</table>\n",
       "<p>3 rows × 57 columns</p>\n",
       "</div>"
      ],
      "text/plain": [
       "                         Company      Address Line 1    City State  ZipCode  \\\n",
       "2       ALWAYS BLOOMING BALLOONS     3 PLANTATION DR  AGAWAM    MA     1001   \n",
       "4         AXLER'S BICYCLE CORNER  313 SPRINGFIELD ST  AGAWAM    MA     1001   \n",
       "8  AFFORDABLE WEDDING & ANNVRSRY   65 SPRINGFIELD ST  AGAWAM    MA     1001   \n",
       "\n",
       "     Zip4  County Code  Area Code  IDCode Location Employee Size Code  ...  \\\n",
       "2  3231.0         13.0        413     NaN                           A  ...   \n",
       "4  1511.0         13.0        413     NaN                           A  ...   \n",
       "8  1505.0         13.0        413     NaN                           A  ...   \n",
       "\n",
       "  Longitude  Match Code CBSA Code  CBSA Level CSA Code  FIPS Code       NAICS  \\\n",
       "2 -72.60428           P   44140.0         2.0    521.0      25013  45322002.0   \n",
       "4 -72.64032           4   44140.0         2.0    521.0      25013  45111006.0   \n",
       "8 -72.63168           0   44140.0         2.0    521.0      25013  45399870.0   \n",
       "\n",
       "   NAICS2  NAICS4  NAICS6  \n",
       "2      45    4532  453220  \n",
       "4      45    4511  451110  \n",
       "8      45    4539  453998  \n",
       "\n",
       "[3 rows x 57 columns]"
      ]
     },
     "execution_count": 8,
     "metadata": {},
     "output_type": "execute_result"
    }
   ],
   "source": [
    "filtered.head(3)"
   ]
  },
  {
   "cell_type": "code",
   "execution_count": 9,
   "metadata": {},
   "outputs": [],
   "source": [
    "# Making sure that the latitude and longitude include all decimal points. # Is this right?\n",
    "filtered = filtered[filtered.Longitude != '-000.000-76']\n",
    "filtered = filtered[filtered.Latitude != '-000.000-76']"
   ]
  },
  {
   "cell_type": "markdown",
   "metadata": {},
   "source": [
    "### 4.2 Bring in the spatial!"
   ]
  },
  {
   "cell_type": "code",
   "execution_count": 10,
   "metadata": {},
   "outputs": [],
   "source": [
    "# Create a geodataframe from coordinates (latitude and longitude)\n",
    "gdf = gpd.GeoDataFrame(\n",
    "    filtered,\n",
    "    geometry=gpd.points_from_xy(filtered.Longitude, filtered.Latitude),\n",
    "    crs='epsg:4326') # epsg specifies the projection"
   ]
  },
  {
   "cell_type": "code",
   "execution_count": 11,
   "metadata": {},
   "outputs": [
    {
     "data": {
      "text/html": [
       "<div>\n",
       "<style scoped>\n",
       "    .dataframe tbody tr th:only-of-type {\n",
       "        vertical-align: middle;\n",
       "    }\n",
       "\n",
       "    .dataframe tbody tr th {\n",
       "        vertical-align: top;\n",
       "    }\n",
       "\n",
       "    .dataframe thead th {\n",
       "        text-align: right;\n",
       "    }\n",
       "</style>\n",
       "<table border=\"1\" class=\"dataframe\">\n",
       "  <thead>\n",
       "    <tr style=\"text-align: right;\">\n",
       "      <th></th>\n",
       "      <th>Company</th>\n",
       "      <th>Address Line 1</th>\n",
       "      <th>City</th>\n",
       "      <th>State</th>\n",
       "      <th>ZipCode</th>\n",
       "      <th>Zip4</th>\n",
       "      <th>County Code</th>\n",
       "      <th>Area Code</th>\n",
       "      <th>IDCode</th>\n",
       "      <th>Location Employee Size Code</th>\n",
       "      <th>...</th>\n",
       "      <th>Match Code</th>\n",
       "      <th>CBSA Code</th>\n",
       "      <th>CBSA Level</th>\n",
       "      <th>CSA Code</th>\n",
       "      <th>FIPS Code</th>\n",
       "      <th>NAICS</th>\n",
       "      <th>NAICS2</th>\n",
       "      <th>NAICS4</th>\n",
       "      <th>NAICS6</th>\n",
       "      <th>geometry</th>\n",
       "    </tr>\n",
       "  </thead>\n",
       "  <tbody>\n",
       "    <tr>\n",
       "      <th>2</th>\n",
       "      <td>ALWAYS BLOOMING BALLOONS</td>\n",
       "      <td>3 PLANTATION DR</td>\n",
       "      <td>AGAWAM</td>\n",
       "      <td>MA</td>\n",
       "      <td>1001</td>\n",
       "      <td>3231.0</td>\n",
       "      <td>13.0</td>\n",
       "      <td>413</td>\n",
       "      <td>NaN</td>\n",
       "      <td>A</td>\n",
       "      <td>...</td>\n",
       "      <td>P</td>\n",
       "      <td>44140.0</td>\n",
       "      <td>2.0</td>\n",
       "      <td>521.0</td>\n",
       "      <td>25013</td>\n",
       "      <td>45322002.0</td>\n",
       "      <td>45</td>\n",
       "      <td>4532</td>\n",
       "      <td>453220</td>\n",
       "      <td>POINT (-72.60428 42.07347)</td>\n",
       "    </tr>\n",
       "    <tr>\n",
       "      <th>4</th>\n",
       "      <td>AXLER'S BICYCLE CORNER</td>\n",
       "      <td>313 SPRINGFIELD ST</td>\n",
       "      <td>AGAWAM</td>\n",
       "      <td>MA</td>\n",
       "      <td>1001</td>\n",
       "      <td>1511.0</td>\n",
       "      <td>13.0</td>\n",
       "      <td>413</td>\n",
       "      <td>NaN</td>\n",
       "      <td>A</td>\n",
       "      <td>...</td>\n",
       "      <td>4</td>\n",
       "      <td>44140.0</td>\n",
       "      <td>2.0</td>\n",
       "      <td>521.0</td>\n",
       "      <td>25013</td>\n",
       "      <td>45111006.0</td>\n",
       "      <td>45</td>\n",
       "      <td>4511</td>\n",
       "      <td>451110</td>\n",
       "      <td>POINT (-72.64032 42.08732)</td>\n",
       "    </tr>\n",
       "    <tr>\n",
       "      <th>8</th>\n",
       "      <td>AFFORDABLE WEDDING &amp; ANNVRSRY</td>\n",
       "      <td>65 SPRINGFIELD ST</td>\n",
       "      <td>AGAWAM</td>\n",
       "      <td>MA</td>\n",
       "      <td>1001</td>\n",
       "      <td>1505.0</td>\n",
       "      <td>13.0</td>\n",
       "      <td>413</td>\n",
       "      <td>NaN</td>\n",
       "      <td>A</td>\n",
       "      <td>...</td>\n",
       "      <td>0</td>\n",
       "      <td>44140.0</td>\n",
       "      <td>2.0</td>\n",
       "      <td>521.0</td>\n",
       "      <td>25013</td>\n",
       "      <td>45399870.0</td>\n",
       "      <td>45</td>\n",
       "      <td>4539</td>\n",
       "      <td>453998</td>\n",
       "      <td>POINT (-72.63168 42.08947)</td>\n",
       "    </tr>\n",
       "  </tbody>\n",
       "</table>\n",
       "<p>3 rows × 58 columns</p>\n",
       "</div>"
      ],
      "text/plain": [
       "                         Company      Address Line 1    City State  ZipCode  \\\n",
       "2       ALWAYS BLOOMING BALLOONS     3 PLANTATION DR  AGAWAM    MA     1001   \n",
       "4         AXLER'S BICYCLE CORNER  313 SPRINGFIELD ST  AGAWAM    MA     1001   \n",
       "8  AFFORDABLE WEDDING & ANNVRSRY   65 SPRINGFIELD ST  AGAWAM    MA     1001   \n",
       "\n",
       "     Zip4  County Code  Area Code  IDCode Location Employee Size Code  ...  \\\n",
       "2  3231.0         13.0        413     NaN                           A  ...   \n",
       "4  1511.0         13.0        413     NaN                           A  ...   \n",
       "8  1505.0         13.0        413     NaN                           A  ...   \n",
       "\n",
       "  Match Code  CBSA Code CBSA Level  CSA Code FIPS Code       NAICS NAICS2  \\\n",
       "2          P    44140.0        2.0     521.0     25013  45322002.0     45   \n",
       "4          4    44140.0        2.0     521.0     25013  45111006.0     45   \n",
       "8          0    44140.0        2.0     521.0     25013  45399870.0     45   \n",
       "\n",
       "   NAICS4  NAICS6                    geometry  \n",
       "2    4532  453220  POINT (-72.60428 42.07347)  \n",
       "4    4511  451110  POINT (-72.64032 42.08732)  \n",
       "8    4539  453998  POINT (-72.63168 42.08947)  \n",
       "\n",
       "[3 rows x 58 columns]"
      ]
     },
     "execution_count": 11,
     "metadata": {},
     "output_type": "execute_result"
    }
   ],
   "source": [
    "# Note that a geometry column is added at the end of the table\n",
    "gdf.head(3)"
   ]
  },
  {
   "cell_type": "code",
   "execution_count": 12,
   "metadata": {},
   "outputs": [],
   "source": [
    "# Change the Coordinate Reference System (CRS)\n",
    "# Check for different projections here: https://epsg.io/\n",
    "gdf = gdf.to_crs('esri:102003')"
   ]
  },
  {
   "cell_type": "code",
   "execution_count": 13,
   "metadata": {},
   "outputs": [
    {
     "data": {
      "text/plain": [
       "<Projected CRS: ESRI:102003>\n",
       "Name: USA_Contiguous_Albers_Equal_Area_Conic\n",
       "Axis Info [cartesian]:\n",
       "- E[east]: Easting (metre)\n",
       "- N[north]: Northing (metre)\n",
       "Area of Use:\n",
       "- name: United States (USA) - CONUS onshore - Alabama; Arizona; Arkansas; California; Colorado; Connecticut; Delaware; Florida; Georgia; Idaho; Illinois; Indiana; Iowa; Kansas; Kentucky; Louisiana; Maine; Maryland; Massachusetts; Michigan; Minnesota; Mississippi; Missouri; Montana; Nebraska; Nevada; New Hampshire; New Jersey; New Mexico; New York; North Carolina; North Dakota; Ohio; Oklahoma; Oregon; Pennsylvania; Rhode Island; South Carolina; South Dakota; Tennessee; Texas; Utah; Vermont; Virginia; Washington; West Virginia; Wisconsin; Wyoming.\n",
       "- bounds: (-124.79, 24.41, -66.91, 49.38)\n",
       "Coordinate Operation:\n",
       "- name: USA_Contiguous_Albers_Equal_Area_Conic\n",
       "- method: Albers Equal Area\n",
       "Datum: North American Datum 1983\n",
       "- Ellipsoid: GRS 1980\n",
       "- Prime Meridian: Greenwich"
      ]
     },
     "execution_count": 13,
     "metadata": {},
     "output_type": "execute_result"
    }
   ],
   "source": [
    "# Check that the CRS actually changed\n",
    "gdf.crs"
   ]
  },
  {
   "cell_type": "code",
   "execution_count": 14,
   "metadata": {},
   "outputs": [],
   "source": [
    "# Make sure that the geometry for each row has a value\n",
    "gdf = gdf[~gdf.is_empty]"
   ]
  },
  {
   "cell_type": "code",
   "execution_count": 15,
   "metadata": {},
   "outputs": [
    {
     "data": {
      "text/plain": [
       "'The data contains 1811016 rows.'"
      ]
     },
     "execution_count": 15,
     "metadata": {},
     "output_type": "execute_result"
    }
   ],
   "source": [
    "\"The data contains \" + str(len(gdf)) + \" rows.\""
   ]
  },
  {
   "cell_type": "markdown",
   "metadata": {},
   "source": [
    "#### 4.3 Add more data: schools and parks"
   ]
  },
  {
   "cell_type": "code",
   "execution_count": null,
   "metadata": {},
   "outputs": [],
   "source": [
    "# Add 2011 GreatSchools school data (can use other sources)\n",
    "sch = gpd.read_file('GreatSchools_2011_us48.shp') \n",
    "sch = sch.to_crs('esri:102003')\n",
    "#2021 ESRI parks data (centroids)\n",
    "prk = gpd.read_file('Centroids_for_USA_Parks_2021_Buffer2.shp') \n",
    "prk = prk.to_crs('esri:102003')"
   ]
  },
  {
   "cell_type": "code",
   "execution_count": null,
   "metadata": {},
   "outputs": [],
   "source": [
    "lst=[gbis,sch,prk]\n",
    "am=pd.concat(lst, ignore_index=True, axis=0)\n",
    "am[\"ID\"] = am.index"
   ]
  },
  {
   "cell_type": "code",
   "execution_count": 16,
   "metadata": {},
   "outputs": [
    {
     "data": {
      "text/html": [
       "<div>\n",
       "<style scoped>\n",
       "    .dataframe tbody tr th:only-of-type {\n",
       "        vertical-align: middle;\n",
       "    }\n",
       "\n",
       "    .dataframe tbody tr th {\n",
       "        vertical-align: top;\n",
       "    }\n",
       "\n",
       "    .dataframe thead th {\n",
       "        text-align: right;\n",
       "    }\n",
       "</style>\n",
       "<table border=\"1\" class=\"dataframe\">\n",
       "  <thead>\n",
       "    <tr style=\"text-align: right;\">\n",
       "      <th></th>\n",
       "      <th>geometry</th>\n",
       "    </tr>\n",
       "  </thead>\n",
       "  <tbody>\n",
       "    <tr>\n",
       "      <th>2</th>\n",
       "      <td>POINT (1903292.607 747815.533)</td>\n",
       "    </tr>\n",
       "    <tr>\n",
       "      <th>4</th>\n",
       "      <td>POINT (1900043.044 748596.863)</td>\n",
       "    </tr>\n",
       "    <tr>\n",
       "      <th>8</th>\n",
       "      <td>POINT (1900672.943 749003.317)</td>\n",
       "    </tr>\n",
       "    <tr>\n",
       "      <th>16</th>\n",
       "      <td>POINT (1900885.474 748973.976)</td>\n",
       "    </tr>\n",
       "    <tr>\n",
       "      <th>26</th>\n",
       "      <td>POINT (1902633.436 746023.805)</td>\n",
       "    </tr>\n",
       "    <tr>\n",
       "      <th>...</th>\n",
       "      <td>...</td>\n",
       "    </tr>\n",
       "    <tr>\n",
       "      <th>11226983</th>\n",
       "      <td>POINT (-1609892.81 1175691.993)</td>\n",
       "    </tr>\n",
       "    <tr>\n",
       "      <th>11226994</th>\n",
       "      <td>POINT (-1608627.525 1175461.963)</td>\n",
       "    </tr>\n",
       "    <tr>\n",
       "      <th>11226995</th>\n",
       "      <td>POINT (-1612397.437 1173531.478)</td>\n",
       "    </tr>\n",
       "    <tr>\n",
       "      <th>11226996</th>\n",
       "      <td>POINT (-1609259.248 1175625.435)</td>\n",
       "    </tr>\n",
       "    <tr>\n",
       "      <th>11227004</th>\n",
       "      <td>POINT (-1608885.896 1175639.552)</td>\n",
       "    </tr>\n",
       "  </tbody>\n",
       "</table>\n",
       "<p>1811016 rows × 1 columns</p>\n",
       "</div>"
      ],
      "text/plain": [
       "                                  geometry\n",
       "2           POINT (1903292.607 747815.533)\n",
       "4           POINT (1900043.044 748596.863)\n",
       "8           POINT (1900672.943 749003.317)\n",
       "16          POINT (1900885.474 748973.976)\n",
       "26          POINT (1902633.436 746023.805)\n",
       "...                                    ...\n",
       "11226983   POINT (-1609892.81 1175691.993)\n",
       "11226994  POINT (-1608627.525 1175461.963)\n",
       "11226995  POINT (-1612397.437 1173531.478)\n",
       "11226996  POINT (-1609259.248 1175625.435)\n",
       "11227004  POINT (-1608885.896 1175639.552)\n",
       "\n",
       "[1811016 rows x 1 columns]"
      ]
     },
     "execution_count": 16,
     "metadata": {},
     "output_type": "execute_result"
    }
   ],
   "source": [
    "\n",
    "#Change this later (Irene)\n",
    "am_id = gdf[['geometry']]\n",
    "am_id"
   ]
  },
  {
   "cell_type": "markdown",
   "metadata": {},
   "source": [
    "### 5. Load the geography!"
   ]
  },
  {
   "cell_type": "markdown",
   "metadata": {},
   "source": [
    "#### 5.1. In this case, we upload block groups"
   ]
  },
  {
   "cell_type": "code",
   "execution_count": 18,
   "metadata": {},
   "outputs": [],
   "source": [
    "# Block group file we're using in this case - one spatial deifnition of demand units for all time periods\n",
    "#s_v = gpd.read_file('BG_2011_2015ADI_us48.shp') # Load geography (oftentimes as shapefile).\n",
    "\n",
    "s_v = gpd.read_file('WAS_USA/data/US_blck_grp_2015.shp') # Load geography (oftentimes as shapefile).\n"
   ]
  },
  {
   "cell_type": "code",
   "execution_count": 20,
   "metadata": {},
   "outputs": [
    {
     "data": {
      "text/html": [
       "<div>\n",
       "<style scoped>\n",
       "    .dataframe tbody tr th:only-of-type {\n",
       "        vertical-align: middle;\n",
       "    }\n",
       "\n",
       "    .dataframe tbody tr th {\n",
       "        vertical-align: top;\n",
       "    }\n",
       "\n",
       "    .dataframe thead th {\n",
       "        text-align: right;\n",
       "    }\n",
       "</style>\n",
       "<table border=\"1\" class=\"dataframe\">\n",
       "  <thead>\n",
       "    <tr style=\"text-align: right;\">\n",
       "      <th></th>\n",
       "      <th>STATEFP</th>\n",
       "      <th>COUNTYFP</th>\n",
       "      <th>TRACTCE</th>\n",
       "      <th>BLKGRPCE</th>\n",
       "      <th>GEOID</th>\n",
       "      <th>NAMELSAD</th>\n",
       "      <th>MTFCC</th>\n",
       "      <th>FUNCSTAT</th>\n",
       "      <th>ALAND</th>\n",
       "      <th>AWATER</th>\n",
       "      <th>INTPTLAT</th>\n",
       "      <th>INTPTLON</th>\n",
       "      <th>GISJOIN</th>\n",
       "      <th>Shape_Leng</th>\n",
       "      <th>Shape_Area</th>\n",
       "      <th>geometry</th>\n",
       "    </tr>\n",
       "  </thead>\n",
       "  <tbody>\n",
       "    <tr>\n",
       "      <th>0</th>\n",
       "      <td>06</td>\n",
       "      <td>001</td>\n",
       "      <td>400100</td>\n",
       "      <td>1</td>\n",
       "      <td>060014001001</td>\n",
       "      <td>Block Group 1</td>\n",
       "      <td>G5030</td>\n",
       "      <td>S</td>\n",
       "      <td>6894340.0</td>\n",
       "      <td>0.0</td>\n",
       "      <td>+37.8676275</td>\n",
       "      <td>-122.2319460</td>\n",
       "      <td>G06000104001001</td>\n",
       "      <td>14302.720874</td>\n",
       "      <td>6.894336e+06</td>\n",
       "      <td>POLYGON ((-2255602.272 353149.335, -2255597.39...</td>\n",
       "    </tr>\n",
       "    <tr>\n",
       "      <th>1</th>\n",
       "      <td>06</td>\n",
       "      <td>001</td>\n",
       "      <td>400200</td>\n",
       "      <td>1</td>\n",
       "      <td>060014002001</td>\n",
       "      <td>Block Group 1</td>\n",
       "      <td>G5030</td>\n",
       "      <td>S</td>\n",
       "      <td>288960.0</td>\n",
       "      <td>0.0</td>\n",
       "      <td>+37.8497418</td>\n",
       "      <td>-122.2488605</td>\n",
       "      <td>G06000104002001</td>\n",
       "      <td>2970.286365</td>\n",
       "      <td>2.889614e+05</td>\n",
       "      <td>POLYGON ((-2258184.246 353217.527, -2258186.81...</td>\n",
       "    </tr>\n",
       "  </tbody>\n",
       "</table>\n",
       "</div>"
      ],
      "text/plain": [
       "  STATEFP COUNTYFP TRACTCE BLKGRPCE         GEOID       NAMELSAD  MTFCC  \\\n",
       "0      06      001  400100        1  060014001001  Block Group 1  G5030   \n",
       "1      06      001  400200        1  060014002001  Block Group 1  G5030   \n",
       "\n",
       "  FUNCSTAT      ALAND  AWATER     INTPTLAT      INTPTLON          GISJOIN  \\\n",
       "0        S  6894340.0     0.0  +37.8676275  -122.2319460  G06000104001001   \n",
       "1        S   288960.0     0.0  +37.8497418  -122.2488605  G06000104002001   \n",
       "\n",
       "     Shape_Leng    Shape_Area  \\\n",
       "0  14302.720874  6.894336e+06   \n",
       "1   2970.286365  2.889614e+05   \n",
       "\n",
       "                                            geometry  \n",
       "0  POLYGON ((-2255602.272 353149.335, -2255597.39...  \n",
       "1  POLYGON ((-2258184.246 353217.527, -2258186.81...  "
      ]
     },
     "execution_count": 20,
     "metadata": {},
     "output_type": "execute_result"
    }
   ],
   "source": [
    "# Check the data\n",
    "s_v.head(2)"
   ]
  },
  {
   "cell_type": "code",
   "execution_count": 23,
   "metadata": {},
   "outputs": [
    {
     "data": {
      "text/plain": [
       "219768"
      ]
     },
     "execution_count": 23,
     "metadata": {},
     "output_type": "execute_result"
    }
   ],
   "source": [
    "#Size of the dataset\n",
    "len(s_v)"
   ]
  },
  {
   "cell_type": "code",
   "execution_count": 21,
   "metadata": {},
   "outputs": [],
   "source": [
    "# Change the Coordinate Refernce System\n",
    "s_v = s_v.set_crs('esri:102003', allow_override=True) # Set the Coordinate Reference System\n",
    "s_v.rename(columns={'GEOID': 'ID'}, inplace=True) # Rename the columns for convenience"
   ]
  },
  {
   "cell_type": "code",
   "execution_count": 28,
   "metadata": {},
   "outputs": [
    {
     "data": {
      "text/plain": [
       "0          POINT (-2256868.242 354675.748)\n",
       "1           POINT (-2258832.974 353148.92)\n",
       "2          POINT (-2259050.925 352843.123)\n",
       "3          POINT (-2258992.688 352523.532)\n",
       "4          POINT (-2259688.712 351991.729)\n",
       "                        ...               \n",
       "219763    POINT (-1908234.387 1497325.964)\n",
       "219764    POINT (-1898568.202 1489014.042)\n",
       "219765    POINT (-1898338.775 1493691.189)\n",
       "219766    POINT (-1916369.259 1477086.152)\n",
       "219767    POINT (-1862164.966 1511347.082)\n",
       "Length: 219768, dtype: geometry"
      ]
     },
     "execution_count": 28,
     "metadata": {},
     "output_type": "execute_result"
    }
   ],
   "source": [
    "# Irene -- adding the centroids because I think that's what your original file was?\n",
    "s_v = s_v[\"geometry\"].centroid\n",
    "s_v"
   ]
  },
  {
   "cell_type": "markdown",
   "metadata": {},
   "source": [
    "#### 5.2 Create subsets of data to *avoid* computing irrelevant distances."
   ]
  },
  {
   "cell_type": "markdown",
   "metadata": {},
   "source": [
    "In this case, we create a subset of continental US Block Groups to avoid estimating distances between a business in California and a block group in New York."
   ]
  },
  {
   "cell_type": "code",
   "execution_count": 29,
   "metadata": {},
   "outputs": [],
   "source": [
    "# Irene, ask Kevin how he set these cutoffs?\n",
    "\n",
    "\n",
    "s_v1 = s_v.iloc[0:43167]\n",
    "s_v1 = s_v1.reset_index(drop=True)\n",
    "\n",
    "s_v2 = s_v.iloc[43167:86333]\n",
    "s_v2 = s_v2.reset_index(drop=True)\n",
    "\n",
    "s_v3 = s_v.iloc[86333:129500]\n",
    "s_v3 = s_v3.reset_index(drop=True)\n",
    "\n",
    "s_v4 = s_v.iloc[129500:172666]\n",
    "s_v4 = s_v4.reset_index(drop=True)\n",
    "\n",
    "s_v5 = s_v.iloc[172666:len(s_v)] # changed last number\n",
    "s_v5 = s_v5.reset_index(drop=True)"
   ]
  },
  {
   "cell_type": "markdown",
   "metadata": {},
   "source": [
    "### 6. We have the data ready, let's create the access score!"
   ]
  },
  {
   "cell_type": "markdown",
   "metadata": {},
   "source": [
    "#### 6.1. Find number of nearest k POI points to each block group"
   ]
  },
  {
   "cell_type": "code",
   "execution_count": 30,
   "metadata": {},
   "outputs": [],
   "source": [
    "# This cell is creating a function for eastimating nearest neighbors from point to point.\n",
    "\n",
    "def get_nearest_neighbors(gdf1, gdf2, k_neighbors=2):\n",
    "    '''Find k nearest neighbors for all source points from a set of candidate points\n",
    "    modified from: https://automating-gis-processes.github.io/site/notebooks/L3/nearest-neighbor-faster.html    \n",
    "    Parameters\n",
    "    ----------\n",
    "    gdf1 : geopandas.DataFrame\n",
    "    Geometries to search from.\n",
    "    gdf2 : geopandas.DataFrame\n",
    "    Geoemtries to be searched.\n",
    "    k_neighbors : int, optional\n",
    "    Number of nearest neighbors. The default is 2.\n",
    "    Returns\n",
    "    -------\n",
    "    gdf_final : geopandas.DataFrame\n",
    "    gdf1 with distance, index and all other columns from gdf2.'''\n",
    "\n",
    "    src_points = [(x,y) for x,y in zip(gdf1.geometry.x , gdf1.geometry.y)]\n",
    "    candidates =  [(x,y) for x,y in zip(gdf2.geometry.x , gdf2.geometry.y)]\n",
    "\n",
    "    # Create tree from the candidate points\n",
    "    tree = BallTree(candidates, leaf_size=15, metric='euclidean')\n",
    "\n",
    "    # Find closest points and distances\n",
    "    distances, indices = tree.query(src_points, k=k_neighbors)\n",
    "\n",
    "    # Transpose to get distances and indices into arrays\n",
    "    distances = distances.transpose()\n",
    "    indices = indices.transpose()\n",
    "\n",
    "    closest_gdfs = []\n",
    "    for k in np.arange(k_neighbors):\n",
    "        gdf_new = gdf2.iloc[indices[k]].reset_index()\n",
    "        gdf_new['distance'] =  distances[k]\n",
    "        gdf_new = gdf_new.add_suffix(f'_{k+1}')\n",
    "        closest_gdfs.append(gdf_new)\n",
    "    \n",
    "    closest_gdfs.insert(0,gdf1)    \n",
    "    gdf_final = pd.concat(closest_gdfs,axis=1)\n",
    "\n",
    "    return gdf_final"
   ]
  },
  {
   "cell_type": "code",
   "execution_count": 31,
   "metadata": {},
   "outputs": [],
   "source": [
    "#find closest k amenities for each BG and get also the distance based on Euclidean distance\n",
    "#whole US subsets\n",
    "closest_am1 = get_nearest_neighbors(s_v1, am_id, k_neighbors=150)\n",
    "closest_am2 = get_nearest_neighbors(s_v2, am_id, k_neighbors=150)\n",
    "closest_am3 = get_nearest_neighbors(s_v3, am_id, k_neighbors=150)\n",
    "closest_am4 = get_nearest_neighbors(s_v4, am_id, k_neighbors=150)\n",
    "closest_am5 = get_nearest_neighbors(s_v5, am_id, k_neighbors=150)"
   ]
  },
  {
   "cell_type": "code",
   "execution_count": 34,
   "metadata": {},
   "outputs": [
    {
     "data": {
      "text/html": [
       "<div>\n",
       "<style scoped>\n",
       "    .dataframe tbody tr th:only-of-type {\n",
       "        vertical-align: middle;\n",
       "    }\n",
       "\n",
       "    .dataframe tbody tr th {\n",
       "        vertical-align: top;\n",
       "    }\n",
       "\n",
       "    .dataframe thead th {\n",
       "        text-align: right;\n",
       "    }\n",
       "</style>\n",
       "<table border=\"1\" class=\"dataframe\">\n",
       "  <thead>\n",
       "    <tr style=\"text-align: right;\">\n",
       "      <th></th>\n",
       "      <th>0</th>\n",
       "      <th>index_1</th>\n",
       "      <th>geometry_1</th>\n",
       "      <th>distance_1</th>\n",
       "      <th>index_2</th>\n",
       "      <th>geometry_2</th>\n",
       "      <th>distance_2</th>\n",
       "      <th>index_3</th>\n",
       "      <th>geometry_3</th>\n",
       "      <th>distance_3</th>\n",
       "      <th>...</th>\n",
       "      <th>index_148</th>\n",
       "      <th>geometry_148</th>\n",
       "      <th>distance_148</th>\n",
       "      <th>index_149</th>\n",
       "      <th>geometry_149</th>\n",
       "      <th>distance_149</th>\n",
       "      <th>index_150</th>\n",
       "      <th>geometry_150</th>\n",
       "      <th>distance_150</th>\n",
       "      <th>ID2</th>\n",
       "    </tr>\n",
       "  </thead>\n",
       "  <tbody>\n",
       "    <tr>\n",
       "      <th>0</th>\n",
       "      <td>POINT (-2256868.242 354675.748)</td>\n",
       "      <td>10494070</td>\n",
       "      <td>POINT (-2257495.198 355774.071)</td>\n",
       "      <td>1264.668954</td>\n",
       "      <td>10494068</td>\n",
       "      <td>POINT (-2257495.198 355774.071)</td>\n",
       "      <td>1264.668954</td>\n",
       "      <td>10494087</td>\n",
       "      <td>POINT (-2257495.198 355774.071)</td>\n",
       "      <td>1264.668954</td>\n",
       "      <td>...</td>\n",
       "      <td>10488966</td>\n",
       "      <td>POINT (-2259066.974 355401.818)</td>\n",
       "      <td>2315.513241</td>\n",
       "      <td>10488668</td>\n",
       "      <td>POINT (-2259085.291 355344.569)</td>\n",
       "      <td>2315.734962</td>\n",
       "      <td>10488567</td>\n",
       "      <td>POINT (-2259166.639 354959.307)</td>\n",
       "      <td>2315.822878</td>\n",
       "      <td>0</td>\n",
       "    </tr>\n",
       "    <tr>\n",
       "      <th>1</th>\n",
       "      <td>POINT (-2258832.974 353148.92)</td>\n",
       "      <td>10484384</td>\n",
       "      <td>POINT (-2258799.952 353071.899)</td>\n",
       "      <td>83.801807</td>\n",
       "      <td>10484276</td>\n",
       "      <td>POINT (-2259087.328 353205.434)</td>\n",
       "      <td>260.556732</td>\n",
       "      <td>10484386</td>\n",
       "      <td>POINT (-2259106.787 353144.78)</td>\n",
       "      <td>273.844669</td>\n",
       "      <td>...</td>\n",
       "      <td>10489635</td>\n",
       "      <td>POINT (-2258909.537 354150.844)</td>\n",
       "      <td>1004.845322</td>\n",
       "      <td>10489734</td>\n",
       "      <td>POINT (-2258909.537 354150.844)</td>\n",
       "      <td>1004.845322</td>\n",
       "      <td>10489803</td>\n",
       "      <td>POINT (-2258909.331 354151.252)</td>\n",
       "      <td>1005.236012</td>\n",
       "      <td>1</td>\n",
       "    </tr>\n",
       "  </tbody>\n",
       "</table>\n",
       "<p>2 rows × 452 columns</p>\n",
       "</div>"
      ],
      "text/plain": [
       "                                 0   index_1                       geometry_1  \\\n",
       "0  POINT (-2256868.242 354675.748)  10494070  POINT (-2257495.198 355774.071)   \n",
       "1   POINT (-2258832.974 353148.92)  10484384  POINT (-2258799.952 353071.899)   \n",
       "\n",
       "    distance_1   index_2                       geometry_2   distance_2  \\\n",
       "0  1264.668954  10494068  POINT (-2257495.198 355774.071)  1264.668954   \n",
       "1    83.801807  10484276  POINT (-2259087.328 353205.434)   260.556732   \n",
       "\n",
       "    index_3                       geometry_3   distance_3  ...  index_148  \\\n",
       "0  10494087  POINT (-2257495.198 355774.071)  1264.668954  ...   10488966   \n",
       "1  10484386   POINT (-2259106.787 353144.78)   273.844669  ...   10489635   \n",
       "\n",
       "                      geometry_148  distance_148  index_149  \\\n",
       "0  POINT (-2259066.974 355401.818)   2315.513241   10488668   \n",
       "1  POINT (-2258909.537 354150.844)   1004.845322   10489734   \n",
       "\n",
       "                      geometry_149  distance_149  index_150  \\\n",
       "0  POINT (-2259085.291 355344.569)   2315.734962   10488567   \n",
       "1  POINT (-2258909.537 354150.844)   1004.845322   10489803   \n",
       "\n",
       "                      geometry_150  distance_150  ID2  \n",
       "0  POINT (-2259166.639 354959.307)   2315.822878    0  \n",
       "1  POINT (-2258909.331 354151.252)   1005.236012    1  \n",
       "\n",
       "[2 rows x 452 columns]"
      ]
     },
     "execution_count": 34,
     "metadata": {},
     "output_type": "execute_result"
    }
   ],
   "source": [
    "# Take a look at one table of the results:\n",
    "closest_am1.head(2)"
   ]
  },
  {
   "cell_type": "code",
   "execution_count": 32,
   "metadata": {},
   "outputs": [
    {
     "name": "stderr",
     "output_type": "stream",
     "text": [
      "/Users/irenefarah/Library/Python/3.9/lib/python/site-packages/geopandas/geodataframe.py:1819: PerformanceWarning: DataFrame is highly fragmented.  This is usually the result of calling `frame.insert` many times, which has poor performance.  Consider joining all columns at once using pd.concat(axis=1) instead. To get a de-fragmented frame, use `newframe = frame.copy()`\n",
      "  super().__setitem__(key, value)\n"
     ]
    },
    {
     "ename": "ValueError",
     "evalue": "Cannot mask with non-boolean array containing NA / NaN values",
     "output_type": "error",
     "traceback": [
      "\u001b[0;31m---------------------------------------------------------------------------\u001b[0m",
      "\u001b[0;31mValueError\u001b[0m                                Traceback (most recent call last)",
      "Cell \u001b[0;32mIn[32], line 4\u001b[0m\n\u001b[1;32m      1\u001b[0m \u001b[38;5;66;03m#Wide to long\u001b[39;00m\n\u001b[1;32m      2\u001b[0m \u001b[38;5;66;03m#Whole US subsets\u001b[39;00m\n\u001b[1;32m      3\u001b[0m closest_am1[\u001b[38;5;124m\"\u001b[39m\u001b[38;5;124mID2\u001b[39m\u001b[38;5;124m\"\u001b[39m] \u001b[38;5;241m=\u001b[39m closest_am1\u001b[38;5;241m.\u001b[39mindex\n\u001b[0;32m----> 4\u001b[0m closest_l1 \u001b[38;5;241m=\u001b[39m \u001b[43mpd\u001b[49m\u001b[38;5;241;43m.\u001b[39;49m\u001b[43mwide_to_long\u001b[49m\u001b[43m(\u001b[49m\u001b[43mclosest_am1\u001b[49m\u001b[43m,\u001b[49m\u001b[43m \u001b[49m\u001b[43m[\u001b[49m\u001b[38;5;124;43m\"\u001b[39;49m\u001b[38;5;124;43mdistance_\u001b[39;49m\u001b[38;5;124;43m\"\u001b[39;49m\u001b[43m,\u001b[49m\u001b[38;5;124;43m\"\u001b[39;49m\u001b[38;5;124;43mindex_\u001b[39;49m\u001b[38;5;124;43m\"\u001b[39;49m\u001b[43m,\u001b[49m\u001b[38;5;124;43m\"\u001b[39;49m\u001b[38;5;124;43mgeometry_\u001b[39;49m\u001b[38;5;124;43m\"\u001b[39;49m\u001b[43m]\u001b[49m\u001b[43m,\u001b[49m\u001b[43m \u001b[49m\u001b[43mi\u001b[49m\u001b[38;5;241;43m=\u001b[39;49m\u001b[38;5;124;43m\"\u001b[39;49m\u001b[38;5;124;43mID2\u001b[39;49m\u001b[38;5;124;43m\"\u001b[39;49m\u001b[43m,\u001b[49m\u001b[43m \u001b[49m\u001b[43mj\u001b[49m\u001b[38;5;241;43m=\u001b[39;49m\u001b[38;5;124;43m\"\u001b[39;49m\u001b[38;5;124;43mneighbor\u001b[39;49m\u001b[38;5;124;43m\"\u001b[39;49m\u001b[43m)\u001b[49m\n",
      "File \u001b[0;32m~/Library/Python/3.9/lib/python/site-packages/pandas/core/reshape/melt.py:501\u001b[0m, in \u001b[0;36mwide_to_long\u001b[0;34m(df, stubnames, i, j, sep, suffix)\u001b[0m\n\u001b[1;32m    499\u001b[0m value_vars_flattened \u001b[38;5;241m=\u001b[39m []\n\u001b[1;32m    500\u001b[0m \u001b[38;5;28;01mfor\u001b[39;00m stub \u001b[38;5;129;01min\u001b[39;00m stubnames:\n\u001b[0;32m--> 501\u001b[0m     value_var \u001b[38;5;241m=\u001b[39m \u001b[43mget_var_names\u001b[49m\u001b[43m(\u001b[49m\u001b[43mdf\u001b[49m\u001b[43m,\u001b[49m\u001b[43m \u001b[49m\u001b[43mstub\u001b[49m\u001b[43m,\u001b[49m\u001b[43m \u001b[49m\u001b[43msep\u001b[49m\u001b[43m,\u001b[49m\u001b[43m \u001b[49m\u001b[43msuffix\u001b[49m\u001b[43m)\u001b[49m\n\u001b[1;32m    502\u001b[0m     value_vars_flattened\u001b[38;5;241m.\u001b[39mextend(value_var)\n\u001b[1;32m    503\u001b[0m     _melted\u001b[38;5;241m.\u001b[39mappend(melt_stub(df, stub, i, j, value_var, sep))\n",
      "File \u001b[0;32m~/Library/Python/3.9/lib/python/site-packages/pandas/core/reshape/melt.py:461\u001b[0m, in \u001b[0;36mwide_to_long.<locals>.get_var_names\u001b[0;34m(df, stub, sep, suffix)\u001b[0m\n\u001b[1;32m    459\u001b[0m \u001b[38;5;28;01mdef\u001b[39;00m \u001b[38;5;21mget_var_names\u001b[39m(df, stub: \u001b[38;5;28mstr\u001b[39m, sep: \u001b[38;5;28mstr\u001b[39m, suffix: \u001b[38;5;28mstr\u001b[39m):\n\u001b[1;32m    460\u001b[0m     regex \u001b[38;5;241m=\u001b[39m \u001b[38;5;124mrf\u001b[39m\u001b[38;5;124m\"\u001b[39m\u001b[38;5;124m^\u001b[39m\u001b[38;5;132;01m{\u001b[39;00mre\u001b[38;5;241m.\u001b[39mescape(stub)\u001b[38;5;132;01m}\u001b[39;00m\u001b[38;5;132;01m{\u001b[39;00mre\u001b[38;5;241m.\u001b[39mescape(sep)\u001b[38;5;132;01m}\u001b[39;00m\u001b[38;5;132;01m{\u001b[39;00msuffix\u001b[38;5;132;01m}\u001b[39;00m\u001b[38;5;124m$\u001b[39m\u001b[38;5;124m\"\u001b[39m\n\u001b[0;32m--> 461\u001b[0m     \u001b[38;5;28;01mreturn\u001b[39;00m \u001b[43mdf\u001b[49m\u001b[38;5;241;43m.\u001b[39;49m\u001b[43mcolumns\u001b[49m\u001b[43m[\u001b[49m\u001b[43mdf\u001b[49m\u001b[38;5;241;43m.\u001b[39;49m\u001b[43mcolumns\u001b[49m\u001b[38;5;241;43m.\u001b[39;49m\u001b[43mstr\u001b[49m\u001b[38;5;241;43m.\u001b[39;49m\u001b[43mmatch\u001b[49m\u001b[43m(\u001b[49m\u001b[43mregex\u001b[49m\u001b[43m)\u001b[49m\u001b[43m]\u001b[49m\n",
      "File \u001b[0;32m~/Library/Python/3.9/lib/python/site-packages/pandas/core/indexes/base.py:5396\u001b[0m, in \u001b[0;36mIndex.__getitem__\u001b[0;34m(self, key)\u001b[0m\n\u001b[1;32m   5391\u001b[0m \u001b[38;5;28;01mif\u001b[39;00m \u001b[38;5;28misinstance\u001b[39m(key, \u001b[38;5;28mslice\u001b[39m):\n\u001b[1;32m   5392\u001b[0m     \u001b[38;5;66;03m# This case is separated from the conditional above to avoid\u001b[39;00m\n\u001b[1;32m   5393\u001b[0m     \u001b[38;5;66;03m# pessimization com.is_bool_indexer and ndim checks.\u001b[39;00m\n\u001b[1;32m   5394\u001b[0m     \u001b[38;5;28;01mreturn\u001b[39;00m \u001b[38;5;28mself\u001b[39m\u001b[38;5;241m.\u001b[39m_getitem_slice(key)\n\u001b[0;32m-> 5396\u001b[0m \u001b[38;5;28;01mif\u001b[39;00m \u001b[43mcom\u001b[49m\u001b[38;5;241;43m.\u001b[39;49m\u001b[43mis_bool_indexer\u001b[49m\u001b[43m(\u001b[49m\u001b[43mkey\u001b[49m\u001b[43m)\u001b[49m:\n\u001b[1;32m   5397\u001b[0m     \u001b[38;5;66;03m# if we have list[bools, length=1e5] then doing this check+convert\u001b[39;00m\n\u001b[1;32m   5398\u001b[0m     \u001b[38;5;66;03m#  takes 166 µs + 2.1 ms and cuts the ndarray.__getitem__\u001b[39;00m\n\u001b[1;32m   5399\u001b[0m     \u001b[38;5;66;03m#  time below from 3.8 ms to 496 µs\u001b[39;00m\n\u001b[1;32m   5400\u001b[0m     \u001b[38;5;66;03m# if we already have ndarray[bool], the overhead is 1.4 µs or .25%\u001b[39;00m\n\u001b[1;32m   5401\u001b[0m     \u001b[38;5;28;01mif\u001b[39;00m \u001b[38;5;28misinstance\u001b[39m(\u001b[38;5;28mgetattr\u001b[39m(key, \u001b[38;5;124m\"\u001b[39m\u001b[38;5;124mdtype\u001b[39m\u001b[38;5;124m\"\u001b[39m, \u001b[38;5;28;01mNone\u001b[39;00m), ExtensionDtype):\n\u001b[1;32m   5402\u001b[0m         key \u001b[38;5;241m=\u001b[39m key\u001b[38;5;241m.\u001b[39mto_numpy(dtype\u001b[38;5;241m=\u001b[39m\u001b[38;5;28mbool\u001b[39m, na_value\u001b[38;5;241m=\u001b[39m\u001b[38;5;28;01mFalse\u001b[39;00m)\n",
      "File \u001b[0;32m~/Library/Python/3.9/lib/python/site-packages/pandas/core/common.py:136\u001b[0m, in \u001b[0;36mis_bool_indexer\u001b[0;34m(key)\u001b[0m\n\u001b[1;32m    132\u001b[0m     na_msg \u001b[38;5;241m=\u001b[39m \u001b[38;5;124m\"\u001b[39m\u001b[38;5;124mCannot mask with non-boolean array containing NA / NaN values\u001b[39m\u001b[38;5;124m\"\u001b[39m\n\u001b[1;32m    133\u001b[0m     \u001b[38;5;28;01mif\u001b[39;00m lib\u001b[38;5;241m.\u001b[39mis_bool_array(key_array, skipna\u001b[38;5;241m=\u001b[39m\u001b[38;5;28;01mTrue\u001b[39;00m):\n\u001b[1;32m    134\u001b[0m         \u001b[38;5;66;03m# Don't raise on e.g. [\"A\", \"B\", np.nan], see\u001b[39;00m\n\u001b[1;32m    135\u001b[0m         \u001b[38;5;66;03m#  test_loc_getitem_list_of_labels_categoricalindex_with_na\u001b[39;00m\n\u001b[0;32m--> 136\u001b[0m         \u001b[38;5;28;01mraise\u001b[39;00m \u001b[38;5;167;01mValueError\u001b[39;00m(na_msg)\n\u001b[1;32m    137\u001b[0m     \u001b[38;5;28;01mreturn\u001b[39;00m \u001b[38;5;28;01mFalse\u001b[39;00m\n\u001b[1;32m    138\u001b[0m \u001b[38;5;28;01mreturn\u001b[39;00m \u001b[38;5;28;01mTrue\u001b[39;00m\n",
      "\u001b[0;31mValueError\u001b[0m: Cannot mask with non-boolean array containing NA / NaN values"
     ]
    }
   ],
   "source": [
    "#Wide to long\n",
    "#Whole US subsets\n",
    "closest_am1[\"ID2\"] = closest_am1.index\n",
    "closest_l1 = pd.wide_to_long(closest_am1, [\"distance_\",\"index_\",\"geometry_\"], i=\"ID2\", j=\"neighbor\")"
   ]
  },
  {
   "cell_type": "code",
   "execution_count": 35,
   "metadata": {},
   "outputs": [
    {
     "name": "stderr",
     "output_type": "stream",
     "text": [
      "/Users/irenefarah/Library/Python/3.9/lib/python/site-packages/geopandas/geodataframe.py:1819: PerformanceWarning: DataFrame is highly fragmented.  This is usually the result of calling `frame.insert` many times, which has poor performance.  Consider joining all columns at once using pd.concat(axis=1) instead. To get a de-fragmented frame, use `newframe = frame.copy()`\n",
      "  super().__setitem__(key, value)\n"
     ]
    },
    {
     "ename": "ValueError",
     "evalue": "Cannot mask with non-boolean array containing NA / NaN values",
     "output_type": "error",
     "traceback": [
      "\u001b[0;31m---------------------------------------------------------------------------\u001b[0m",
      "\u001b[0;31mValueError\u001b[0m                                Traceback (most recent call last)",
      "Cell \u001b[0;32mIn[35], line 2\u001b[0m\n\u001b[1;32m      1\u001b[0m closest_am2[\u001b[38;5;124m\"\u001b[39m\u001b[38;5;124mID2\u001b[39m\u001b[38;5;124m\"\u001b[39m] \u001b[38;5;241m=\u001b[39m closest_am2\u001b[38;5;241m.\u001b[39mindex\n\u001b[0;32m----> 2\u001b[0m closest_l2 \u001b[38;5;241m=\u001b[39m \u001b[43mpd\u001b[49m\u001b[38;5;241;43m.\u001b[39;49m\u001b[43mwide_to_long\u001b[49m\u001b[43m(\u001b[49m\u001b[43mclosest_am2\u001b[49m\u001b[43m,\u001b[49m\u001b[43m \u001b[49m\u001b[43m[\u001b[49m\u001b[38;5;124;43m\"\u001b[39;49m\u001b[38;5;124;43mdistance_\u001b[39;49m\u001b[38;5;124;43m\"\u001b[39;49m\u001b[43m,\u001b[49m\u001b[38;5;124;43m\"\u001b[39;49m\u001b[38;5;124;43mindex_\u001b[39;49m\u001b[38;5;124;43m\"\u001b[39;49m\u001b[43m,\u001b[49m\u001b[38;5;124;43m\"\u001b[39;49m\u001b[38;5;124;43mgeometry_\u001b[39;49m\u001b[38;5;124;43m\"\u001b[39;49m\u001b[43m]\u001b[49m\u001b[43m,\u001b[49m\u001b[43m \u001b[49m\u001b[43mi\u001b[49m\u001b[38;5;241;43m=\u001b[39;49m\u001b[38;5;124;43m\"\u001b[39;49m\u001b[38;5;124;43mID2\u001b[39;49m\u001b[38;5;124;43m\"\u001b[39;49m\u001b[43m,\u001b[49m\u001b[43m \u001b[49m\u001b[43mj\u001b[49m\u001b[38;5;241;43m=\u001b[39;49m\u001b[38;5;124;43m\"\u001b[39;49m\u001b[38;5;124;43mneighbor\u001b[39;49m\u001b[38;5;124;43m\"\u001b[39;49m\u001b[43m)\u001b[49m\n",
      "File \u001b[0;32m~/Library/Python/3.9/lib/python/site-packages/pandas/core/reshape/melt.py:501\u001b[0m, in \u001b[0;36mwide_to_long\u001b[0;34m(df, stubnames, i, j, sep, suffix)\u001b[0m\n\u001b[1;32m    499\u001b[0m value_vars_flattened \u001b[38;5;241m=\u001b[39m []\n\u001b[1;32m    500\u001b[0m \u001b[38;5;28;01mfor\u001b[39;00m stub \u001b[38;5;129;01min\u001b[39;00m stubnames:\n\u001b[0;32m--> 501\u001b[0m     value_var \u001b[38;5;241m=\u001b[39m \u001b[43mget_var_names\u001b[49m\u001b[43m(\u001b[49m\u001b[43mdf\u001b[49m\u001b[43m,\u001b[49m\u001b[43m \u001b[49m\u001b[43mstub\u001b[49m\u001b[43m,\u001b[49m\u001b[43m \u001b[49m\u001b[43msep\u001b[49m\u001b[43m,\u001b[49m\u001b[43m \u001b[49m\u001b[43msuffix\u001b[49m\u001b[43m)\u001b[49m\n\u001b[1;32m    502\u001b[0m     value_vars_flattened\u001b[38;5;241m.\u001b[39mextend(value_var)\n\u001b[1;32m    503\u001b[0m     _melted\u001b[38;5;241m.\u001b[39mappend(melt_stub(df, stub, i, j, value_var, sep))\n",
      "File \u001b[0;32m~/Library/Python/3.9/lib/python/site-packages/pandas/core/reshape/melt.py:461\u001b[0m, in \u001b[0;36mwide_to_long.<locals>.get_var_names\u001b[0;34m(df, stub, sep, suffix)\u001b[0m\n\u001b[1;32m    459\u001b[0m \u001b[38;5;28;01mdef\u001b[39;00m \u001b[38;5;21mget_var_names\u001b[39m(df, stub: \u001b[38;5;28mstr\u001b[39m, sep: \u001b[38;5;28mstr\u001b[39m, suffix: \u001b[38;5;28mstr\u001b[39m):\n\u001b[1;32m    460\u001b[0m     regex \u001b[38;5;241m=\u001b[39m \u001b[38;5;124mrf\u001b[39m\u001b[38;5;124m\"\u001b[39m\u001b[38;5;124m^\u001b[39m\u001b[38;5;132;01m{\u001b[39;00mre\u001b[38;5;241m.\u001b[39mescape(stub)\u001b[38;5;132;01m}\u001b[39;00m\u001b[38;5;132;01m{\u001b[39;00mre\u001b[38;5;241m.\u001b[39mescape(sep)\u001b[38;5;132;01m}\u001b[39;00m\u001b[38;5;132;01m{\u001b[39;00msuffix\u001b[38;5;132;01m}\u001b[39;00m\u001b[38;5;124m$\u001b[39m\u001b[38;5;124m\"\u001b[39m\n\u001b[0;32m--> 461\u001b[0m     \u001b[38;5;28;01mreturn\u001b[39;00m \u001b[43mdf\u001b[49m\u001b[38;5;241;43m.\u001b[39;49m\u001b[43mcolumns\u001b[49m\u001b[43m[\u001b[49m\u001b[43mdf\u001b[49m\u001b[38;5;241;43m.\u001b[39;49m\u001b[43mcolumns\u001b[49m\u001b[38;5;241;43m.\u001b[39;49m\u001b[43mstr\u001b[49m\u001b[38;5;241;43m.\u001b[39;49m\u001b[43mmatch\u001b[49m\u001b[43m(\u001b[49m\u001b[43mregex\u001b[49m\u001b[43m)\u001b[49m\u001b[43m]\u001b[49m\n",
      "File \u001b[0;32m~/Library/Python/3.9/lib/python/site-packages/pandas/core/indexes/base.py:5396\u001b[0m, in \u001b[0;36mIndex.__getitem__\u001b[0;34m(self, key)\u001b[0m\n\u001b[1;32m   5391\u001b[0m \u001b[38;5;28;01mif\u001b[39;00m \u001b[38;5;28misinstance\u001b[39m(key, \u001b[38;5;28mslice\u001b[39m):\n\u001b[1;32m   5392\u001b[0m     \u001b[38;5;66;03m# This case is separated from the conditional above to avoid\u001b[39;00m\n\u001b[1;32m   5393\u001b[0m     \u001b[38;5;66;03m# pessimization com.is_bool_indexer and ndim checks.\u001b[39;00m\n\u001b[1;32m   5394\u001b[0m     \u001b[38;5;28;01mreturn\u001b[39;00m \u001b[38;5;28mself\u001b[39m\u001b[38;5;241m.\u001b[39m_getitem_slice(key)\n\u001b[0;32m-> 5396\u001b[0m \u001b[38;5;28;01mif\u001b[39;00m \u001b[43mcom\u001b[49m\u001b[38;5;241;43m.\u001b[39;49m\u001b[43mis_bool_indexer\u001b[49m\u001b[43m(\u001b[49m\u001b[43mkey\u001b[49m\u001b[43m)\u001b[49m:\n\u001b[1;32m   5397\u001b[0m     \u001b[38;5;66;03m# if we have list[bools, length=1e5] then doing this check+convert\u001b[39;00m\n\u001b[1;32m   5398\u001b[0m     \u001b[38;5;66;03m#  takes 166 µs + 2.1 ms and cuts the ndarray.__getitem__\u001b[39;00m\n\u001b[1;32m   5399\u001b[0m     \u001b[38;5;66;03m#  time below from 3.8 ms to 496 µs\u001b[39;00m\n\u001b[1;32m   5400\u001b[0m     \u001b[38;5;66;03m# if we already have ndarray[bool], the overhead is 1.4 µs or .25%\u001b[39;00m\n\u001b[1;32m   5401\u001b[0m     \u001b[38;5;28;01mif\u001b[39;00m \u001b[38;5;28misinstance\u001b[39m(\u001b[38;5;28mgetattr\u001b[39m(key, \u001b[38;5;124m\"\u001b[39m\u001b[38;5;124mdtype\u001b[39m\u001b[38;5;124m\"\u001b[39m, \u001b[38;5;28;01mNone\u001b[39;00m), ExtensionDtype):\n\u001b[1;32m   5402\u001b[0m         key \u001b[38;5;241m=\u001b[39m key\u001b[38;5;241m.\u001b[39mto_numpy(dtype\u001b[38;5;241m=\u001b[39m\u001b[38;5;28mbool\u001b[39m, na_value\u001b[38;5;241m=\u001b[39m\u001b[38;5;28;01mFalse\u001b[39;00m)\n",
      "File \u001b[0;32m~/Library/Python/3.9/lib/python/site-packages/pandas/core/common.py:136\u001b[0m, in \u001b[0;36mis_bool_indexer\u001b[0;34m(key)\u001b[0m\n\u001b[1;32m    132\u001b[0m     na_msg \u001b[38;5;241m=\u001b[39m \u001b[38;5;124m\"\u001b[39m\u001b[38;5;124mCannot mask with non-boolean array containing NA / NaN values\u001b[39m\u001b[38;5;124m\"\u001b[39m\n\u001b[1;32m    133\u001b[0m     \u001b[38;5;28;01mif\u001b[39;00m lib\u001b[38;5;241m.\u001b[39mis_bool_array(key_array, skipna\u001b[38;5;241m=\u001b[39m\u001b[38;5;28;01mTrue\u001b[39;00m):\n\u001b[1;32m    134\u001b[0m         \u001b[38;5;66;03m# Don't raise on e.g. [\"A\", \"B\", np.nan], see\u001b[39;00m\n\u001b[1;32m    135\u001b[0m         \u001b[38;5;66;03m#  test_loc_getitem_list_of_labels_categoricalindex_with_na\u001b[39;00m\n\u001b[0;32m--> 136\u001b[0m         \u001b[38;5;28;01mraise\u001b[39;00m \u001b[38;5;167;01mValueError\u001b[39;00m(na_msg)\n\u001b[1;32m    137\u001b[0m     \u001b[38;5;28;01mreturn\u001b[39;00m \u001b[38;5;28;01mFalse\u001b[39;00m\n\u001b[1;32m    138\u001b[0m \u001b[38;5;28;01mreturn\u001b[39;00m \u001b[38;5;28;01mTrue\u001b[39;00m\n",
      "\u001b[0;31mValueError\u001b[0m: Cannot mask with non-boolean array containing NA / NaN values"
     ]
    }
   ],
   "source": [
    "closest_am2[\"ID2\"] = closest_am2.index\n",
    "closest_l2 = pd.wide_to_long(closest_am2, [\"distance_\",\"index_\",\"geometry_\"], i=\"ID2\", j=\"neighbor\")"
   ]
  },
  {
   "cell_type": "code",
   "execution_count": null,
   "metadata": {},
   "outputs": [],
   "source": [
    "closest_am3[\"ID2\"] = closest_am3.index\n",
    "closest_l3 = pd.wide_to_long(closest_am3, [\"distance_\",\"index_\",\"geometry_\"], i=\"ID2\", j=\"neighbor\")"
   ]
  },
  {
   "cell_type": "code",
   "execution_count": null,
   "metadata": {},
   "outputs": [],
   "source": [
    "closest_am4[\"ID2\"] = closest_am4.index\n",
    "closest_l4 = pd.wide_to_long(closest_am4, [\"distance_\",\"index_\",\"geometry_\"], i=\"ID2\", j=\"neighbor\")"
   ]
  },
  {
   "cell_type": "code",
   "execution_count": null,
   "metadata": {},
   "outputs": [],
   "source": [
    "closest_am5[\"ID2\"] = closest_am5.index\n",
    "closest_l5 = pd.wide_to_long(closest_am5, [\"distance_\",\"index_\",\"geometry_\"], i=\"ID2\", j=\"neighbor\")"
   ]
  },
  {
   "cell_type": "code",
   "execution_count": null,
   "metadata": {},
   "outputs": [],
   "source": [
    "#rename to 'eucidean', 'origin', 'dest'\n",
    "#whole US subsets\n",
    "closest_l1['origin'] = closest_l1['ID']\n",
    "closest_l1['dest'] = closest_l1['index_']\n",
    "closest_l1['euclidean'] = closest_l1['distance_']\n",
    "closest_l1= closest_l1.reset_index(level=(\"neighbor\",))\n",
    "cost1 = closest_l1[['euclidean', 'origin', 'dest','neighbor']]\n",
    "cost1.sort_values(by=['origin','euclidean'],inplace=True)"
   ]
  },
  {
   "cell_type": "code",
   "execution_count": null,
   "metadata": {},
   "outputs": [],
   "source": [
    "closest_l2['origin'] = closest_l2['ID']\n",
    "closest_l2['dest'] = closest_l2['index_']\n",
    "closest_l2['euclidean'] = closest_l2['distance_']\n",
    "closest_l2= closest_l2.reset_index(level=(\"neighbor\",))\n",
    "cost2 = closest_l2[['euclidean', 'origin', 'dest','neighbor']]\n",
    "cost2.sort_values(by=['origin','euclidean'],inplace=True)"
   ]
  },
  {
   "cell_type": "code",
   "execution_count": null,
   "metadata": {},
   "outputs": [],
   "source": [
    "closest_l3['origin'] = closest_l3['ID']\n",
    "closest_l3['dest'] = closest_l3['index_']\n",
    "closest_l3['euclidean'] = closest_l3['distance_']\n",
    "closest_l3= closest_l3.reset_index(level=(\"neighbor\",))\n",
    "cost3 = closest_l3[['euclidean', 'origin', 'dest','neighbor']]\n",
    "cost3.sort_values(by=['origin','euclidean'],inplace=True)"
   ]
  },
  {
   "cell_type": "code",
   "execution_count": null,
   "metadata": {},
   "outputs": [],
   "source": [
    "closest_l4['origin'] = closest_l4['ID']\n",
    "closest_l4['dest'] = closest_l4['index_']\n",
    "closest_l4['euclidean'] = closest_l4['distance_']\n",
    "closest_l4= closest_l4.reset_index(level=(\"neighbor\",))\n",
    "cost4 = closest_l4[['euclidean', 'origin', 'dest','neighbor']]\n",
    "cost4.sort_values(by=['origin','euclidean'],inplace=True)"
   ]
  },
  {
   "cell_type": "code",
   "execution_count": null,
   "metadata": {},
   "outputs": [],
   "source": [
    "closest_l5['origin'] = closest_l5['ID']\n",
    "closest_l5['dest'] = closest_l5['index_']\n",
    "closest_l5['euclidean'] = closest_l5['distance_']\n",
    "closest_l5= closest_l5.reset_index(level=(\"neighbor\",))\n",
    "cost5 = closest_l5[['euclidean', 'origin', 'dest','neighbor']]\n",
    "cost5.sort_values(by=['origin','euclidean'],inplace=True)"
   ]
  },
  {
   "cell_type": "markdown",
   "metadata": {},
   "source": [
    "#### 6.2. Calculate accessibility measure"
   ]
  },
  {
   "cell_type": "code",
   "execution_count": null,
   "metadata": {},
   "outputs": [],
   "source": [
    "# https://journals-sagepub-com.may.idm.oclc.org/doi/10.1177/0265813516641685\n",
    "#convert distance into time (rate of 5kph)\n",
    "cost1['time'] = (cost1.euclidean*3600)/5000\n",
    "cost2['time'] = (cost2.euclidean*3600)/5000\n",
    "cost3['time'] = (cost3.euclidean*3600)/5000\n",
    "cost4['time'] = (cost4.euclidean*3600)/5000\n",
    "cost5['time'] = (cost5.euclidean*3600)/5000\n",
    "\n",
    "# choose 'upper' parameter (for testing)\n",
    "# upper = 800\n",
    "# upper = 1600\n",
    "# upper = 2400\n",
    "\n",
    "# choose decay rate\n",
    "# decay = .005\n",
    "# decay = .008\n",
    "# decay = .01"
   ]
  },
  {
   "cell_type": "code",
   "execution_count": null,
   "metadata": {},
   "outputs": [],
   "source": [
    "cost1['LogitT_5'] = 1-(1/(np.e**((upper/180)-decay*cost1.time)+1))\n",
    "cost2['LogitT_5'] = 1-(1/(np.e**((upper/180)-decay*cost2.time)+1))\n",
    "cost3['LogitT_5'] = 1-(1/(np.e**((upper/180)-decay*cost3.time)+1))\n",
    "cost4['LogitT_5'] = 1-(1/(np.e**((upper/180)-decay*cost4.time)+1))\n",
    "cost5['LogitT_5'] = 1-(1/(np.e**((upper/180)-decay*cost5.time)+1))"
   ]
  },
  {
   "cell_type": "code",
   "execution_count": null,
   "metadata": {},
   "outputs": [],
   "source": [
    "# plt.hist(cost.LogitT_5, bins=50)\n",
    "# plt.hist(cost1.LogitT_5, bins=50)"
   ]
  },
  {
   "cell_type": "code",
   "execution_count": null,
   "metadata": {},
   "outputs": [],
   "source": [
    "#sum weighted distances by tract (origin) ID\n",
    "cost_sum1 = cost1.groupby(\"origin\").sum()\n",
    "cost_sum1['ID'] = cost_sum1.index\n",
    "cost_sum2 = cost2.groupby(\"origin\").sum()\n",
    "cost_sum2['ID'] = cost_sum2.index\n",
    "cost_sum3 = cost3.groupby(\"origin\").sum()\n",
    "cost_sum3['ID'] = cost_sum3.index\n",
    "cost_sum4 = cost4.groupby(\"origin\").sum()\n",
    "cost_sum4['ID'] = cost_sum4.index\n",
    "cost_sum5 = cost5.groupby(\"origin\").sum()\n",
    "cost_sum5['ID'] = cost_sum5.index"
   ]
  },
  {
   "cell_type": "code",
   "execution_count": null,
   "metadata": {},
   "outputs": [],
   "source": [
    "cost_merge1 = s_v1.merge(cost_sum1, how='inner', on='ID')\n",
    "cost_merge2 = s_v2.merge(cost_sum2, how='inner', on='ID')\n",
    "cost_merge3 = s_v3.merge(cost_sum3, how='inner', on='ID')\n",
    "cost_merge4 = s_v4.merge(cost_sum4, how='inner', on='ID')\n",
    "cost_merge5 = s_v5.merge(cost_sum5, how='inner', on='ID')"
   ]
  },
  {
   "cell_type": "code",
   "execution_count": null,
   "metadata": {},
   "outputs": [],
   "source": [
    "#export for given year\n",
    "# cost_merge1.to_file('us_walkability_access_score_2019_1.shp')\n",
    "# cost_merge2.to_file('us_walkability_access_score_2019_2.shp')\n",
    "# cost_merge3.to_file('us_walkability_access_score_2019_3.shp')\n",
    "# cost_merge4.to_file('us_walkability_access_score_2019_4.shp')\n",
    "# cost_merge5.to_file('us_walkability_access_score_2019_5.shp')"
   ]
  },
  {
   "cell_type": "markdown",
   "metadata": {},
   "source": [
    "### 7. Add the penalty scores"
   ]
  }
 ],
 "metadata": {
  "kernelspec": {
   "display_name": "Python 3 (ipykernel)",
   "language": "python",
   "name": "python3"
  },
  "language_info": {
   "codemirror_mode": {
    "name": "ipython",
    "version": 3
   },
   "file_extension": ".py",
   "mimetype": "text/x-python",
   "name": "python",
   "nbconvert_exporter": "python",
   "pygments_lexer": "ipython3",
   "version": "3.9.6"
  }
 },
 "nbformat": 4,
 "nbformat_minor": 4
}
