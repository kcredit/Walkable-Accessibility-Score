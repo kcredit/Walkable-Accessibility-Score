{
 "cells": [
  {
   "cell_type": "markdown",
   "id": "2dc0165b",
   "metadata": {},
   "source": [
    "<b>Import python libraries</b>"
   ]
  },
  {
   "cell_type": "code",
   "execution_count": 1,
   "id": "7f5e2b8f",
   "metadata": {},
   "outputs": [
    {
     "ename": "ModuleNotFoundError",
     "evalue": "No module named 'matplotlib'",
     "output_type": "error",
     "traceback": [
      "\u001b[0;31m---------------------------------------------------------------------------\u001b[0m",
      "\u001b[0;31mModuleNotFoundError\u001b[0m                       Traceback (most recent call last)",
      "Cell \u001b[0;32mIn[1], line 4\u001b[0m\n\u001b[1;32m      2\u001b[0m \u001b[38;5;28;01mimport\u001b[39;00m \u001b[38;5;21;01mpandas\u001b[39;00m \u001b[38;5;28;01mas\u001b[39;00m \u001b[38;5;21;01mpd\u001b[39;00m\n\u001b[1;32m      3\u001b[0m \u001b[38;5;28;01mimport\u001b[39;00m \u001b[38;5;21;01mmath\u001b[39;00m\n\u001b[0;32m----> 4\u001b[0m \u001b[38;5;28;01mimport\u001b[39;00m \u001b[38;5;21;01mmatplotlib\u001b[39;00m\u001b[38;5;21;01m.\u001b[39;00m\u001b[38;5;21;01mpyplot\u001b[39;00m \u001b[38;5;28;01mas\u001b[39;00m \u001b[38;5;21;01mplt\u001b[39;00m\n\u001b[1;32m      6\u001b[0m \u001b[38;5;28;01mimport\u001b[39;00m \u001b[38;5;21;01mgeopandas\u001b[39;00m \u001b[38;5;28;01mas\u001b[39;00m \u001b[38;5;21;01mgpd\u001b[39;00m\n\u001b[1;32m      7\u001b[0m \u001b[38;5;28;01mimport\u001b[39;00m \u001b[38;5;21;01mpandana\u001b[39;00m \u001b[38;5;28;01mas\u001b[39;00m \u001b[38;5;21;01mpdna\u001b[39;00m\n",
      "\u001b[0;31mModuleNotFoundError\u001b[0m: No module named 'matplotlib'"
     ]
    }
   ],
   "source": [
    "import numpy as np\n",
    "import pandas as pd\n",
    "import math\n",
    "import matplotlib.pyplot as plt\n",
    "\n",
    "import geopandas as gpd\n",
    "import pandana as pdna\n",
    "\n",
    "from shapely.geometry import Polygon, LineString, Point, box,shape\n",
    "from shapely.ops import unary_union,split, snap\n",
    "from shapely.wkt import loads\n",
    "import networkx as nx\n",
    "import momepy\n",
    "import collections\n",
    "\n",
    "%matplotlib inline\n",
    "\n",
    "pd.options.display.max_rows = 120\n",
    "pd.set_option('display.max_rows', 500)\n",
    "pd.set_option('display.max_columns', 500)\n",
    "pd.set_option('display.width', 1000)\n",
    "\n",
    "import warnings\n",
    "warnings.filterwarnings('ignore')"
   ]
  },
  {
   "cell_type": "markdown",
   "id": "0c4aa1f6",
   "metadata": {},
   "source": [
    "Data import"
   ]
  },
  {
   "cell_type": "code",
   "execution_count": 76,
   "id": "f0e09356",
   "metadata": {},
   "outputs": [],
   "source": [
    "# Street network\n",
    "road_network = gpd.read_file(\"./DATA/StreetNetwork/GIS_OSM_HK_2021_JTSK_SPLIT.shp\")  \n",
    "# Filter out non-walkable streets\n",
    "pedestrian_network = road_network[(road_network.code != 5131) & (road_network.code != 5111) & (road_network.code != 5112)]  \n",
    "\n",
    "# GRID centroids\n",
    "centriod_grid = gpd.read_file(\"./DATA/GRID/grid_stred_hk.shp\")\n",
    "\n",
    "# GRID (field ID500M has to be present in the input data)\n",
    "ctverce_grid_ = gpd.read_file(\"./DATA/GRID/grid_hk.shp\")\n",
    "ctverce_grid = ctverce_grid_.set_index('ID500M')\n",
    "\n",
    "# Amenities layer\n",
    "amenities_layer_all = gpd.read_file(\"./DATA/Amenities/cile_hk_classic.shp\") "
   ]
  },
  {
   "cell_type": "code",
   "execution_count": 77,
   "id": "db2fc3cb",
   "metadata": {},
   "outputs": [],
   "source": [
    "# Generate x,y coordinates for centriods\n",
    "centriod_grid['x'] = centriod_grid.geometry.x\n",
    "centriod_grid['y'] = centriod_grid.geometry.y"
   ]
  },
  {
   "cell_type": "code",
   "execution_count": 78,
   "id": "e1d43d26",
   "metadata": {},
   "outputs": [],
   "source": [
    "# Generate x,y coordinates for amenities\n",
    "amenities_layer_all['x'] = amenities_layer_all.geometry.x\n",
    "amenities_layer_all['y'] = amenities_layer_all.geometry.y\n",
    "# Filter out \"other\" amenities\n",
    "amenities_layer = amenities_layer_all.loc[amenities_layer_all['w_type'] !=  'other']"
   ]
  },
  {
   "cell_type": "code",
   "execution_count": 79,
   "id": "8cfc3d66",
   "metadata": {},
   "outputs": [],
   "source": [
    "# Define max. walk distance parameter (in meters)\n",
    "walk_distance = 400"
   ]
  },
  {
   "cell_type": "code",
   "execution_count": 80,
   "id": "f94a4338",
   "metadata": {},
   "outputs": [],
   "source": [
    "# Standard walking speed is 1.2 m/s \n",
    "walk_speed = 0.95"
   ]
  },
  {
   "cell_type": "code",
   "execution_count": 81,
   "id": "5e1d2229",
   "metadata": {},
   "outputs": [],
   "source": [
    "#Distance decay fuction\n",
    "dd_function = 'Gaussian'\n",
    "\n",
    "# Coefficient Beta set to 180 for people age between 65-69\n",
    "Beta_coeff = 180\n"
   ]
  },
  {
   "cell_type": "code",
   "execution_count": 82,
   "id": "e36a2627",
   "metadata": {},
   "outputs": [],
   "source": [
    "# Definition of Weights\n",
    "# http://pubs.cedeus.cl/omeka/files/original/b6fa690993d59007784a7a26804d42be.pdf\n",
    "amenity_weights = {\n",
    "    \"grocery\": [3],\n",
    "    \"restaurants\": [0.75, 0.45, 0.25, 0.25, 0.225, 0.225, 0.225, 0.225, 0.2, 0.2],\n",
    "    \"shopping\": [0.5, 0.45, 0.4, 0.35, 0.3],\n",
    "    \"coffee\": [1.25, 0.75],\n",
    "    \"banks\": [1],\n",
    "    \"parks\": [1],\n",
    "    \"schools\": [1],\n",
    "    \"books\": [1],\n",
    "    \"entertainment\": [1]\n",
    "}\n",
    "\n",
    "# Define number of the closest amenities considered for the analysis base on the specification of the weights \n",
    "num_pois_weights = []\n",
    "for key in amenity_weights:\n",
    "    amenity_type_weight = len(amenity_weights[key])\n",
    "    num_pois_weights.append(amenity_type_weight)\n",
    "    \n",
    "num_pois = max(num_pois_weights) # 10"
   ]
  },
  {
   "cell_type": "code",
   "execution_count": 83,
   "id": "5f432220",
   "metadata": {},
   "outputs": [],
   "source": [
    "# Generate buffers \n",
    "centriod_grid_buffer = centriod_grid.copy()\n",
    "centriod_grid_buffer['geometry'] = centriod_grid_buffer.geometry.buffer(walk_distance)\n",
    "centriod_grid_buffer['area'] = centriod_grid_buffer.area"
   ]
  },
  {
   "cell_type": "markdown",
   "id": "b9b20389",
   "metadata": {},
   "source": [
    "Pandana street network - graph"
   ]
  },
  {
   "cell_type": "code",
   "execution_count": 84,
   "id": "51ad0211",
   "metadata": {},
   "outputs": [],
   "source": [
    "# Pandana graph\n",
    "# Function credits to https://github.com/gcc-dav-official-github/dav_cot_walkability/blob/master/code/TTC%20Walkability%20Tutorial.ipynb\n",
    "def create_graph(gdf, precision=3):\n",
    "    '''Create a networkx given a GeoDataFrame of lines. Every line will\n",
    "    correspond to two directional graph edges, one forward, one reverse. The\n",
    "    original line row and direction will be stored in each edge. Every node\n",
    "    will be where endpoints meet (determined by being very close together) and\n",
    "    will store a clockwise ordering of incoming edges.\n",
    "    '''\n",
    "      \n",
    "    G = nx.Graph()\n",
    "\n",
    "    def make_node(coord, precision):\n",
    "        return tuple(np.round(coord, precision))\n",
    "\n",
    "    # Edges are stored as (from, to, data), where from and to are nodes.\n",
    "    def add_edges(row, G):\n",
    "        geometry = row.geometry\n",
    "        coords = list(geometry.coords)\n",
    "        geom_r = LineString(coords[::-1])\n",
    "        coords_r = geom_r.coords\n",
    "        start = make_node(coords[0], precision)\n",
    "        end = make_node(coords[-1], precision)\n",
    "        # Add forward edge\n",
    "        fwd_attr ={}\n",
    "        for k,v in row.items():\n",
    "            fwd_attr[k]=v\n",
    "        fwd_attr['forward']= 1\n",
    "       #fwd_attr['geometry']=  geometry\n",
    "        fwd_attr['length']=  geometry.length\n",
    "\n",
    "        fwd_attr['visited']= 0\n",
    "\n",
    "        G.add_edge(start, end, **fwd_attr)\n",
    "\n",
    "    gdf.apply(add_edges, axis=1, args=[G])\n",
    "\n",
    "    return G"
   ]
  },
  {
   "cell_type": "code",
   "execution_count": 85,
   "id": "8ca29a66",
   "metadata": {},
   "outputs": [],
   "source": [
    "# Inicialization of the create_graph() function\n",
    "G = create_graph(pedestrian_network)"
   ]
  },
  {
   "cell_type": "code",
   "execution_count": 86,
   "id": "37adb02c",
   "metadata": {},
   "outputs": [],
   "source": [
    "# Solution of street network islands issue\n",
    "network_components = []\n",
    "for i, c in enumerate(nx.connected_components(G)):\n",
    "    network_components.append(len(c))\n",
    "    \n",
    "# Keep only the highest connected component \n",
    "index_max_network_component = np.argmax(network_components)\n",
    "\n",
    "G_sub1 = [G.subgraph(c).copy() for c in nx.connected_components(G)]"
   ]
  },
  {
   "cell_type": "code",
   "execution_count": 87,
   "id": "3e089be9",
   "metadata": {},
   "outputs": [],
   "source": [
    "# Edges and nodes\n",
    "edges = nx.to_pandas_edgelist(G_sub1[index_max_network_component],'from','to')\n",
    "to = edges['to'].tolist()\n",
    "fr = edges['from'].tolist()\n",
    "fr = list(set(fr))\n",
    "to = list(set(to))\n",
    "to.extend(fr)\n",
    "nodes = list(set(to))\n",
    "nodes = pd.DataFrame(nodes)\n",
    "nodes.columns=['x', 'y']\n",
    "nodes['xy'] = nodes.apply(lambda z: (z.x,z.y),axis=1)"
   ]
  },
  {
   "cell_type": "code",
   "execution_count": 88,
   "id": "37490f4b",
   "metadata": {},
   "outputs": [],
   "source": [
    "# nodes ID definition\n",
    "nodes['id'] = nodes.index\n",
    "edges['to_node']=edges['to'].map(nodes.set_index('xy').id)\n",
    "edges['from_node']=edges['from'].map(nodes.set_index('xy').id)"
   ]
  },
  {
   "cell_type": "code",
   "execution_count": 89,
   "id": "11183060",
   "metadata": {},
   "outputs": [],
   "source": [
    "#G_sub = nx.to_pandas_dataframe(G_sub1[index_max_network_component]) \n",
    "edges_export = edges.copy()\n",
    "\n",
    "# Zip the coordinates into a point object and convert to a GeoData Frame\n",
    "geometry_line = [LineString(xy) for xy in zip(edges_export['from'], edges_export['to'])]\n",
    "geo_df = gpd.GeoDataFrame(edges_export, geometry=geometry_line)\n",
    "\n",
    "geo_df_clean = geo_df.drop(columns=['from','to'])"
   ]
  },
  {
   "cell_type": "markdown",
   "id": "f3034936",
   "metadata": {},
   "source": [
    "<b> Creating and Saving Pandana Network </b>"
   ]
  },
  {
   "cell_type": "code",
   "execution_count": 90,
   "id": "b67ae468",
   "metadata": {},
   "outputs": [],
   "source": [
    "# Pedestrian graph \n",
    "ped_net = pdna.Network(nodes[\"x\"],\n",
    "                        nodes[\"y\"],\n",
    "                        edges[\"from_node\"],\n",
    "                        edges[\"to_node\"],\n",
    "                        pd.DataFrame([edges['length']]).T,\n",
    "                        twoway=True)\n",
    "\n",
    "# Save pandana network\n",
    "ped_net.save_hdf5('./DATA/pedestrian_graph.hd5')"
   ]
  },
  {
   "cell_type": "code",
   "execution_count": 91,
   "id": "1274f6a6",
   "metadata": {},
   "outputs": [],
   "source": [
    "ped_net_nodes = ped_net.nodes_df\n",
    "ped_net_nodes['nodes_id'] = ped_net_nodes.index"
   ]
  },
  {
   "cell_type": "code",
   "execution_count": 92,
   "id": "790a11ca",
   "metadata": {},
   "outputs": [],
   "source": [
    "ped_net_nodes_gpd = gpd.GeoDataFrame(ped_net_nodes, geometry=gpd.points_from_xy(ped_net_nodes['x'], ped_net_nodes['y']))"
   ]
  },
  {
   "cell_type": "code",
   "execution_count": 93,
   "id": "9f16e810",
   "metadata": {},
   "outputs": [],
   "source": [
    "# Precompute a given horizon distance of 1000 meters - speed up the calculation process\n",
    "ped_net.precompute(5000)"
   ]
  },
  {
   "cell_type": "markdown",
   "id": "9c4f5339",
   "metadata": {},
   "source": [
    "The shortest path to amenities calculation "
   ]
  },
  {
   "cell_type": "code",
   "execution_count": 94,
   "id": "e2ccd54e",
   "metadata": {},
   "outputs": [],
   "source": [
    "# Configuration parameters\n",
    "amenities = amenities_layer['w_type'].unique()\n",
    "distance = walk_distance\n",
    "num_categories = len(amenities) # one for each amenity\n",
    "\n",
    "# Bounding box \n",
    "bbox_grid = centriod_grid.total_bounds"
   ]
  },
  {
   "cell_type": "code",
   "execution_count": 95,
   "id": "1b0604d8",
   "metadata": {},
   "outputs": [],
   "source": [
    "# Initialize the underlying C++ points-of-interest engine\n",
    "ped_net.init_pois(num_categories=num_categories, max_dist=distance, max_pois=num_pois)"
   ]
  },
  {
   "cell_type": "code",
   "execution_count": 96,
   "id": "ca23aef8",
   "metadata": {},
   "outputs": [
    {
     "data": {
      "text/plain": [
       "restaurants      1506\n",
       "shopping          800\n",
       "parks             596\n",
       "grocery           518\n",
       "entertainment     236\n",
       "schools           156\n",
       "coffee            138\n",
       "books              32\n",
       "banks              24\n",
       "Name: w_type, dtype: int64"
      ]
     },
     "execution_count": 96,
     "metadata": {},
     "output_type": "execute_result"
    }
   ],
   "source": [
    "amenities_layer['w_type'].value_counts()"
   ]
  },
  {
   "cell_type": "code",
   "execution_count": 97,
   "id": "46f7ddc5",
   "metadata": {},
   "outputs": [],
   "source": [
    "# nodeids definition for each centroid location\n",
    "x, y = centriod_grid.x, centriod_grid.y\n",
    "centriod_grid[\"node_ids\"] = ped_net.get_node_ids(x, y,mapping_distance=walk_distance) \n",
    "\n",
    "# nodeids definition for each amenity location \n",
    "x, y = amenities_layer.x, amenities_layer.y \n",
    "amenities_layer[\"node_ids\"] = ped_net.get_node_ids(x, y)"
   ]
  },
  {
   "cell_type": "code",
   "execution_count": 98,
   "id": "5a448b65",
   "metadata": {},
   "outputs": [
    {
     "name": "stdout",
     "output_type": "stream",
     "text": [
      "restaurants\n",
      "Reading parameters from init_pois()\n",
      "Reading parameters from init_pois()\n",
      "shopping\n",
      "Reading parameters from init_pois()\n",
      "Reading parameters from init_pois()\n",
      "entertainment\n",
      "Reading parameters from init_pois()\n",
      "Reading parameters from init_pois()\n",
      "coffee\n",
      "Reading parameters from init_pois()\n",
      "Reading parameters from init_pois()\n",
      "grocery\n",
      "Reading parameters from init_pois()\n",
      "Reading parameters from init_pois()\n",
      "books\n",
      "Reading parameters from init_pois()\n",
      "Reading parameters from init_pois()\n",
      "banks\n",
      "Reading parameters from init_pois()\n",
      "Reading parameters from init_pois()\n",
      "schools\n",
      "Reading parameters from init_pois()\n",
      "Reading parameters from init_pois()\n",
      "parks\n",
      "Reading parameters from init_pois()\n",
      "Reading parameters from init_pois()\n"
     ]
    }
   ],
   "source": [
    "# initialize each amenity category with the locations specified by the x and y columns\n",
    "\n",
    "access_data = []\n",
    "\n",
    "for amenity in amenities:\n",
    "    pois_subset = amenities_layer[amenities_layer['w_type']==amenity]\n",
    "    print(amenity)\n",
    "    \n",
    "    # set pois to network\n",
    "    ped_net.set_pois(category=amenity, x_col=pois_subset['x'], y_col=pois_subset['y'])\n",
    "    \n",
    "    # distance to the nearest amenity\n",
    "    ameniti_ped_access = ped_net.nearest_pois(distance=distance, category=amenity, num_pois=num_pois, max_distance = float(\"nan\"), include_poi_ids=False)\n",
    "    \n",
    "    ameniti_ped_access['amenity_type']=amenity\n",
    "    \n",
    "    access_data.append(ameniti_ped_access)\n",
    "    \n",
    "    \n",
    "access_data = pd.concat(access_data)    "
   ]
  },
  {
   "cell_type": "code",
   "execution_count": 99,
   "id": "2ea450dd",
   "metadata": {},
   "outputs": [],
   "source": [
    "# Rename columns\n",
    "columns =  ['d_'+str(i) for i in range(0,num_pois,1)]\n",
    "columns.append('amenity_type')\n",
    "\n",
    "access_data.columns = columns"
   ]
  },
  {
   "cell_type": "code",
   "execution_count": 100,
   "id": "63e6a1ff",
   "metadata": {},
   "outputs": [],
   "source": [
    "# Walk distance calculation from each centroid to all amenities\n",
    "\n",
    "centriod_grid_data = []\n",
    "\n",
    "for amenity in amenities:\n",
    "\n",
    "    access_data_selection = access_data[access_data.amenity_type == amenity]\n",
    "    centriod_grid_2 = centriod_grid.copy()\n",
    "    \n",
    "    centriod_grid_2['amenity_type']= amenity\n",
    "    \n",
    "    for i in range(num_pois):\n",
    "        centriod_grid_2['d_{}'.format(i)]=centriod_grid_2['node_ids'].map(access_data_selection['d_{}'.format(i)])\n",
    "    \n",
    "    centriod_grid_data.append(centriod_grid_2)\n",
    "\n",
    "centriod_grid_data = pd.concat(centriod_grid_data)     "
   ]
  },
  {
   "cell_type": "code",
   "execution_count": 101,
   "id": "f26dce28",
   "metadata": {},
   "outputs": [
    {
     "data": {
      "text/plain": [
       "4455"
      ]
     },
     "execution_count": 101,
     "metadata": {},
     "output_type": "execute_result"
    }
   ],
   "source": [
    "len(centriod_grid_data.index)"
   ]
  },
  {
   "cell_type": "code",
   "execution_count": 102,
   "id": "612f85f1",
   "metadata": {},
   "outputs": [],
   "source": [
    "# Solution for 0 distances\n",
    "centriod_grid_data_zero_distances = centriod_grid_data.loc[centriod_grid_data['d_0'] == 0]\n",
    "grid_join_amenity = centriod_grid_data_zero_distances.join(amenities_layer.set_index('node_ids'), on='node_ids', lsuffix='_grid', rsuffix='_ame')\n",
    "\n",
    "grid_df_coord = gpd.GeoDataFrame(grid_join_amenity, geometry=gpd.points_from_xy(grid_join_amenity.x_grid, grid_join_amenity.y_grid))\n",
    "amen_df_coord = gpd.GeoDataFrame(grid_join_amenity, geometry=gpd.points_from_xy(grid_join_amenity.x_ame, grid_join_amenity.y_ame))\n",
    "grid_join_amenity['distance'] = grid_df_coord.distance(amen_df_coord, align=False)\n",
    "grid_join_amenity_ = grid_join_amenity[['ID500M','distance']]\n"
   ]
  },
  {
   "cell_type": "code",
   "execution_count": 103,
   "id": "b74acdd2",
   "metadata": {},
   "outputs": [],
   "source": [
    "def convert_zero_to_dist(row,param=''):\n",
    "    if row[param] == 0:\n",
    "        output = grid_join_amenity_.loc[grid_join_amenity_.ID500M == row['ID500M'],'distance'].values[0]\n",
    "    else:\n",
    "        output = row[param]\n",
    "    return output\n",
    "\n",
    "for i in range(num_pois):\n",
    "    centriod_grid_data['d_{}'.format(i)]= centriod_grid_data.apply(convert_zero_to_dist, axis=1, param='d_{}'.format(i)) "
   ]
  },
  {
   "cell_type": "code",
   "execution_count": 104,
   "id": "c6ae1a3b",
   "metadata": {},
   "outputs": [],
   "source": [
    "# Convert walking distance to walking time\n",
    "def convert_to_time(row,param=''):\n",
    "    output = row[param]/(walk_speed*60)\n",
    "    return output\n",
    "\n",
    "for i in range(num_pois):\n",
    "    centriod_grid_data['t_{}'.format(i)]= centriod_grid_data.apply(convert_to_time, axis=1, param='d_{}'.format(i))   "
   ]
  },
  {
   "cell_type": "code",
   "execution_count": 105,
   "id": "ab59fa8e",
   "metadata": {},
   "outputs": [],
   "source": [
    "# Apply Distance decay function\n",
    "\n",
    "def apply_dd(row,param=''):\n",
    "    if dd_function == 'Gaussian':\n",
    "        output = np.exp(-1*(row[param]**2)/Beta_coeff)\n",
    "\n",
    "    return output\n",
    "\n",
    "for i in range(num_pois):\n",
    "    centriod_grid_data['t_{}_dd'.format(i)]= centriod_grid_data.apply(apply_dd, axis=1, param='t_{}'.format(i)) \n",
    "      "
   ]
  },
  {
   "cell_type": "code",
   "execution_count": 106,
   "id": "5a329628",
   "metadata": {},
   "outputs": [],
   "source": [
    "def apply_weights(row,weight_index,param=''):\n",
    "    typ_amenity = row['amenity_type']\n",
    "    if 0 <= weight_index < len(amenity_weights[typ_amenity]):\n",
    "        output = row[param]*amenity_weights[typ_amenity][weight_index] \n",
    "    else:\n",
    "        output = row[param]*0\n",
    "        \n",
    "    return output\n",
    "\n",
    "for i in range(num_pois):\n",
    "    centriod_grid_data['t_{}_dd_w'.format(i)]= centriod_grid_data.apply(apply_weights, axis=1, weight_index=i, param='t_{}_dd'.format(i)) \n",
    " "
   ]
  },
  {
   "cell_type": "code",
   "execution_count": 107,
   "id": "5afa48f0",
   "metadata": {},
   "outputs": [],
   "source": [
    "# Base of amenity score multiplied by 6.67 (100/15)\n",
    "def apply_multi(row,param=''):\n",
    "    output = row[param]*6.67\n",
    "    return output\n",
    "\n",
    "for i in range(num_pois):\n",
    "    centriod_grid_data['t_{}_dd_w_m'.format(i)]= centriod_grid_data.apply(apply_multi, axis=1, param='t_{}_dd_w'.format(i)) "
   ]
  },
  {
   "cell_type": "code",
   "execution_count": 108,
   "id": "39e927af",
   "metadata": {},
   "outputs": [],
   "source": [
    "# Base Walkscore calculation\n",
    "column_list_to_sum = []\n",
    "for i in range(num_pois): \n",
    "    column_list_to_sum.append('t_{}_dd_w_m'.format(i))\n",
    "\n",
    "centriod_grid_data[\"sum_score1\"] = centriod_grid_data[column_list_to_sum].sum(axis=1)\n",
    "final_score_1 = centriod_grid_data.groupby(['ID500M'], as_index=False)['sum_score1'].sum()"
   ]
  },
  {
   "cell_type": "markdown",
   "id": "e95f7dce",
   "metadata": {},
   "source": [
    "# Pedestrian Friendliness Metrics\n",
    "\n",
    "- Intersection density\n",
    "- Average block length"
   ]
  },
  {
   "cell_type": "code",
   "execution_count": 109,
   "id": "e35b6902",
   "metadata": {},
   "outputs": [
    {
     "data": {
      "text/plain": [
       "48653"
      ]
     },
     "execution_count": 109,
     "metadata": {},
     "output_type": "execute_result"
    }
   ],
   "source": [
    "# Intersection density\n",
    "df_nodes_valency = pd.DataFrame (list(G.degree()), columns = ['coordinates','count'])\n",
    "df_nodes_valency[['x', 'y']] = pd.DataFrame(df_nodes_valency['coordinates'].tolist(), index=df_nodes_valency.index)\n",
    "df_nodes_valency_gdp = gpd.GeoDataFrame(df_nodes_valency, geometry=gpd.points_from_xy(df_nodes_valency.x,df_nodes_valency.y))\n",
    "df_nodes_valency_gdp_export = df_nodes_valency_gdp[['count', 'geometry']]\n",
    "len(df_nodes_valency_gdp.index)"
   ]
  },
  {
   "cell_type": "code",
   "execution_count": 110,
   "id": "0b4dbb08",
   "metadata": {},
   "outputs": [
    {
     "data": {
      "text/plain": [
       "9834"
      ]
     },
     "execution_count": 110,
     "metadata": {},
     "output_type": "execute_result"
    }
   ],
   "source": [
    "df_nodes_valency_gdp_elim = df_nodes_valency_gdp.query('count > 2')\n",
    "len(df_nodes_valency_gdp_elim.index)"
   ]
  },
  {
   "cell_type": "code",
   "execution_count": 111,
   "id": "82341290",
   "metadata": {},
   "outputs": [],
   "source": [
    "r=15/2\n",
    "df_nodes_valency_gdp_elim_buffer = df_nodes_valency_gdp_elim.buffer(r)"
   ]
  },
  {
   "cell_type": "code",
   "execution_count": 112,
   "id": "11fca50e",
   "metadata": {},
   "outputs": [],
   "source": [
    "df_nodes_valency_gdp_elim_buffer_gdf = gpd.GeoDataFrame(geometry=gpd.GeoSeries(df_nodes_valency_gdp_elim_buffer))"
   ]
  },
  {
   "cell_type": "code",
   "execution_count": 113,
   "id": "47416a3b",
   "metadata": {},
   "outputs": [],
   "source": [
    "df_nodes_valency_gdp_elim_buffer_gdf_dissolve = df_nodes_valency_gdp_elim_buffer_gdf.dissolve()"
   ]
  },
  {
   "cell_type": "code",
   "execution_count": 114,
   "id": "e5cb293d",
   "metadata": {},
   "outputs": [],
   "source": [
    "inter_explode= df_nodes_valency_gdp_elim_buffer_gdf_dissolve.explode(index_parts=True)"
   ]
  },
  {
   "cell_type": "code",
   "execution_count": 115,
   "id": "8927308a",
   "metadata": {},
   "outputs": [],
   "source": [
    "inter_explode['area'] = inter_explode.area"
   ]
  },
  {
   "cell_type": "code",
   "execution_count": 116,
   "id": "0fa041d8",
   "metadata": {},
   "outputs": [],
   "source": [
    "inter_explode_sel = inter_explode[inter_explode['area'] > (math.pi)*(math.pow(r,2))]\n",
    "inter_explode_sel['id'] = inter_explode_sel.reset_index().index"
   ]
  },
  {
   "cell_type": "code",
   "execution_count": 117,
   "id": "31f4f32e",
   "metadata": {},
   "outputs": [],
   "source": [
    "nodes_in_buffer = df_nodes_valency_gdp_elim.overlay(inter_explode_sel, how='intersection')\n",
    "nodes_in_buffer_export = nodes_in_buffer[['count', 'geometry','area','id']]"
   ]
  },
  {
   "cell_type": "code",
   "execution_count": 118,
   "id": "93e5a72e",
   "metadata": {},
   "outputs": [],
   "source": [
    "nodes_out_buffer = df_nodes_valency_gdp_elim.overlay(inter_explode_sel, how='difference')\n",
    "nodes_out_buffer_export = nodes_out_buffer[['count', 'geometry']]"
   ]
  },
  {
   "cell_type": "code",
   "execution_count": 119,
   "id": "9d270d9c",
   "metadata": {},
   "outputs": [],
   "source": [
    "buffer_dissolve_centriod = inter_explode_sel.centroid\n",
    "buffer_dissolve_centriod_gdp = gpd.GeoDataFrame(gpd.GeoSeries(buffer_dissolve_centriod))\n",
    "buffer_dissolve_centriod_gdp_rename = buffer_dissolve_centriod_gdp.rename(columns ={0:'geometry'})\n",
    "buffer_dissolve_centriod_gdp_rename['count'] = 4"
   ]
  },
  {
   "cell_type": "code",
   "execution_count": 120,
   "id": "f9a52527",
   "metadata": {},
   "outputs": [],
   "source": [
    "export1 = nodes_out_buffer_export[['count','geometry']]\n",
    "export2 = buffer_dissolve_centriod_gdp_rename[['count','geometry']]\n",
    "final_street_crossing = pd.concat([export1,export2])\n",
    "final_street_crossing_ = final_street_crossing.reset_index()\n",
    "final_street_crossing_final = final_street_crossing_[['count','geometry']]\n",
    "final_street_crossing_final_ = final_street_crossing_final.set_crs(epsg=5514, inplace=True)"
   ]
  },
  {
   "cell_type": "code",
   "execution_count": 121,
   "id": "0435b8a7",
   "metadata": {},
   "outputs": [],
   "source": [
    "intersection_density_data = final_street_crossing_final_.overlay(centriod_grid_buffer, how='intersection')"
   ]
  },
  {
   "cell_type": "code",
   "execution_count": 122,
   "id": "dfeeee2c",
   "metadata": {},
   "outputs": [],
   "source": [
    "intersection_density_data_agregate = intersection_density_data.groupby(\"ID500M\").agg(\n",
    "    valency_count=pd.NamedAgg(column=\"count\", aggfunc=\"sum\"),\n",
    "    area=pd.NamedAgg(column=\"area\", aggfunc=\"first\"))\n",
    "intersection_density_data_agregate['cross_dens'] = intersection_density_data_agregate['valency_count'] / intersection_density_data_agregate['area']\n",
    "intersection_density_data_agregate['ID500M'] = intersection_density_data_agregate.index"
   ]
  },
  {
   "cell_type": "code",
   "execution_count": 123,
   "id": "fc1460f6",
   "metadata": {},
   "outputs": [],
   "source": [
    "final_score_2 = final_score_1.set_index('ID500M').join(intersection_density_data_agregate.set_index('ID500M'))\n",
    "final_score_2['cross_dens_mile2'] = final_score_2['cross_dens'] *2590000\n",
    "final_score_2['ID500M'] = final_score_2.index"
   ]
  },
  {
   "cell_type": "code",
   "execution_count": 124,
   "id": "b62c5335",
   "metadata": {},
   "outputs": [],
   "source": [
    "# Average block length\n",
    "pedestrian_network_nodes_removed = momepy.remove_false_nodes(pedestrian_network)\n",
    "pedestrian_network_nodes_removed['road_length'] = pedestrian_network_nodes_removed.geometry.length\n",
    "pedestrian_network_nodes_removed_centroid = gpd.sjoin(pedestrian_network_nodes_removed,centriod_grid_buffer)"
   ]
  },
  {
   "cell_type": "code",
   "execution_count": 125,
   "id": "c01678fb",
   "metadata": {},
   "outputs": [],
   "source": [
    "pedestrian_network_nodes_removed_centroid['geom_centroid'] = gpd.GeoSeries.from_xy(pedestrian_network_nodes_removed_centroid.x, pedestrian_network_nodes_removed_centroid.y,crs=\"EPSG:5514\")\n",
    "pedestrian_network_nodes_removed_centroid['geom_buffer'] = pedestrian_network_nodes_removed_centroid.geom_centroid.buffer(walk_distance)\n",
    "pedestrian_network_nodes_removed_centroid['crosses_buffer'] = pedestrian_network_nodes_removed_centroid['geometry'].crosses(pedestrian_network_nodes_removed_centroid['geom_buffer'])"
   ]
  },
  {
   "cell_type": "code",
   "execution_count": 126,
   "id": "78016d44",
   "metadata": {},
   "outputs": [],
   "source": [
    "pedestrian_network_nodes_removed_centroid_ = pedestrian_network_nodes_removed_centroid[pedestrian_network_nodes_removed_centroid.crosses_buffer == False]\n",
    "\n",
    "pedestrian_network_nodes_removed_centroid_agr = pedestrian_network_nodes_removed_centroid_.groupby(\"ID500M\").agg(\n",
    "    avg_road_length=pd.NamedAgg(column=\"road_length\", aggfunc=\"mean\"))\n",
    "\n",
    "pedestrian_network_nodes_removed_centroid_agr['ID500M'] = pedestrian_network_nodes_removed_centroid_agr.index"
   ]
  },
  {
   "cell_type": "code",
   "execution_count": 127,
   "id": "e0876730",
   "metadata": {},
   "outputs": [],
   "source": [
    "final_score_3 = final_score_2.set_index('ID500M').join(pedestrian_network_nodes_removed_centroid_agr.set_index('ID500M'))"
   ]
  },
  {
   "cell_type": "markdown",
   "id": "f23bf97b",
   "metadata": {},
   "source": [
    "Apply Pedestrian Friendliness Metrics\n",
    "\n",
    "Intersection density (intersections per square mile):<br>\n",
    "over 200: no penalty<br>\n",
    "150-200: 1% penalty<br>\n",
    "120-150: 2% penalty<br>\n",
    "90-120: 3% penalty<br>\n",
    "60-90: 4% penalty<br>\n",
    "under 60: 5% penalty<br>\n",
    "\n",
    "Average block length (in meters):<br>\n",
    "under 120 m: no penalty<br>\n",
    "120-150 m: 1% penalty<br>\n",
    "150-165 m: 2% penalty<br>\n",
    "165-180 m: 3% penalty<br>\n",
    "180-195m: 4% penalty<br>\n",
    "over 195m: 5% penalty<br>\n",
    "\n"
   ]
  },
  {
   "cell_type": "code",
   "execution_count": 128,
   "id": "bd91b8ef",
   "metadata": {},
   "outputs": [],
   "source": [
    "# Intersection density\n",
    "def apply_inter_density(row):\n",
    "    if (row['cross_dens_mile2'] > 200):\n",
    "        output = row['sum_score1']\n",
    "    elif (150 < row['cross_dens_mile2'] <= 200):\n",
    "        output = row['sum_score1'] - (row['sum_score1'] * 0.01)\n",
    "    elif (120 < row['cross_dens_mile2'] <= 150):\n",
    "        output = row['sum_score1'] - (row['sum_score1'] * 0.02)\n",
    "    elif (90 < row['cross_dens_mile2'] <= 120):\n",
    "        output = row['sum_score1'] - (row['sum_score1'] * 0.03)\n",
    "    elif (60 < row['cross_dens_mile2'] <= 90):\n",
    "        output = row['sum_score1'] - (row['sum_score1'] * 0.04)       \n",
    "    else:\n",
    "        output = row['sum_score1'] - (row['sum_score1'] * 0.05)\n",
    "\n",
    "    return output\n",
    "\n",
    "for i in range(num_pois):\n",
    "    final_score_3['sum_score2']= final_score_3.apply(apply_inter_density, axis=1) "
   ]
  },
  {
   "cell_type": "code",
   "execution_count": 129,
   "id": "efa9e2b7",
   "metadata": {},
   "outputs": [],
   "source": [
    "# Average block length\n",
    "\n",
    "def apply_road_length(row):\n",
    "    if (row['avg_road_length'] <= 120):\n",
    "        output = row['sum_score2']\n",
    "    elif (120 < row['avg_road_length'] <= 150):\n",
    "        output = row['sum_score2'] - (row['sum_score2'] * 0.01)\n",
    "    elif (150 < row['avg_road_length'] <= 165):\n",
    "        output = row['sum_score2'] - (row['sum_score2'] * 0.02)\n",
    "    elif (165 < row['avg_road_length'] <= 180):\n",
    "        output = row['sum_score2'] - (row['sum_score2'] * 0.03)\n",
    "    elif (180 < row['avg_road_length'] <= 195):\n",
    "        output = row['sum_score2'] - (row['sum_score2'] * 0.04)       \n",
    "    else:\n",
    "        output = row['sum_score2'] - (row['sum_score2'] * 0.05)\n",
    "\n",
    "    return output\n",
    "\n",
    "for i in range(num_pois):\n",
    "    final_score_3['final_score']= final_score_3.apply(apply_road_length, axis=1) "
   ]
  },
  {
   "cell_type": "code",
   "execution_count": 130,
   "id": "e8699748",
   "metadata": {},
   "outputs": [],
   "source": [
    "final_score_3.to_csv(\"./DATA/Walkscore_results/Walkscore.csv\")\n",
    "ctverce_grid_final= ctverce_grid.merge(final_score_3,left_index=True, right_index=True) \n",
    "ctverce_grid_final.to_file(\"./DATA/Walkscore_results/Walkscore.shp\") "
   ]
  }
 ],
 "metadata": {
  "interpreter": {
   "hash": "21976bf85afd4998a4cf12d2837df0c3cb3872a2b7eb7828325bfc2725c1aaa8"
  },
  "kernelspec": {
   "display_name": "Python 3 (ipykernel)",
   "language": "python",
   "name": "python3"
  },
  "language_info": {
   "codemirror_mode": {
    "name": "ipython",
    "version": 3
   },
   "file_extension": ".py",
   "mimetype": "text/x-python",
   "name": "python",
   "nbconvert_exporter": "python",
   "pygments_lexer": "ipython3",
   "version": "3.9.6"
  }
 },
 "nbformat": 4,
 "nbformat_minor": 5
}
