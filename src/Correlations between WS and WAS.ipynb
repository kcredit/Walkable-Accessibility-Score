{
 "cells": [
  {
   "cell_type": "markdown",
   "id": "dea94410-7800-4413-beac-5dabd291e620",
   "metadata": {},
   "source": [
    "# Histogram for Estimating the Best Parameters of Walkable Accessibility Score (WAS)"
   ]
  },
  {
   "cell_type": "markdown",
   "id": "0a16a430-4c4b-4f31-859e-b1b6197fc18f",
   "metadata": {},
   "source": [
    "### Last update: March 3, 2025"
   ]
  },
  {
   "cell_type": "markdown",
   "id": "d27d69f5-7114-4c87-a2fa-da72323e7875",
   "metadata": {},
   "source": [
    "#### Goal: Compute a Walkable Accessibility Score (WAS) at the block group scale using InfoUSA POI data and compare it to the official Walkscore"
   ]
  },
  {
   "cell_type": "markdown",
   "id": "ce0df50b-c3ce-483e-ad5c-98d502caed5e",
   "metadata": {},
   "source": [
    "This notebook creates a Walkable Accessibility Score (WAS) computing the distance between businesses (points) and the centroids of block groups (points). The goal is to show through an example how to compute an access metric and to make it accessible enough for practitioners and scholars to use for their own purpose. Thus, businesses could be easily changed with other data of interest, such as schools, parks, or any other data. Also, the polygons (in this case, block groups), can be interchanged with other geographies, such as tracts, blocks or a similar type of geography that you might be interested in.\n",
    "\n",
    "In this example, we use business data from INFO USA and the geometries of the block groups from [IPUMS NHGIS](https://data2.nhgis.org/)."
   ]
  },
  {
   "cell_type": "code",
   "execution_count": 1,
   "id": "49e08a22-b98e-4d9c-ad89-4549844cea0e",
   "metadata": {},
   "outputs": [],
   "source": [
    "# Add this cell to time how long it takes to run the notebook\n",
    "\n",
    "import timeit\n",
    "start_time = timeit.default_timer()"
   ]
  },
  {
   "cell_type": "markdown",
   "id": "2bb786ea-1afd-48bc-b79f-7329411d27f5",
   "metadata": {},
   "source": [
    "### 1. Load libraries needed"
   ]
  },
  {
   "cell_type": "code",
   "execution_count": 2,
   "id": "81300efd-c8c4-44a3-b382-0f3a1e772d29",
   "metadata": {},
   "outputs": [],
   "source": [
    "# Load libraries\n",
    "from sklearn.neighbors import BallTree\n",
    "import numpy as np\n",
    "import pandas as pd\n",
    "import geopandas as gpd\n",
    "from scipy import stats # for correlation\n",
    "from scipy.stats import spearmanr\n",
    "import matplotlib.pyplot as plt\n",
    "import os"
   ]
  },
  {
   "cell_type": "code",
   "execution_count": 3,
   "id": "db72735c-ded7-4d22-a8eb-048b4c414a83",
   "metadata": {},
   "outputs": [],
   "source": [
    "import sys  \n",
    "sys.path.insert(1, '/users/ifarah/appdata/roaming/python/python39/site-packages')"
   ]
  },
  {
   "cell_type": "markdown",
   "id": "c4ddcc16-5a41-4707-882c-99edbc8cbc8d",
   "metadata": {},
   "source": [
    "We must specify the correct directory path to load some packages. In the code below, REPLACE 'ifarah' with your personal username. It should be shown in the output directories of the installed packages above."
   ]
  },
  {
   "cell_type": "markdown",
   "id": "104f0762-dbe0-4d7d-aed1-0c54fe7b6d10",
   "metadata": {},
   "source": [
    "### 2. Load data"
   ]
  },
  {
   "cell_type": "markdown",
   "id": "b552d07a-fcf6-4511-a6a8-54fc509bfe6a",
   "metadata": {},
   "source": [
    "Load data that contain latitude and longitude as columns of the table. These could be points or centroids of polygons.\n",
    "In this case, we use data from Info USA that is private data. However, you can use any business data you have access to by adding it to the `data` folder."
   ]
  },
  {
   "cell_type": "code",
   "execution_count": 4,
   "id": "d2f01e8b-20f4-418d-87eb-d6dc59899326",
   "metadata": {},
   "outputs": [
    {
     "name": "stderr",
     "output_type": "stream",
     "text": [
      "/var/folders/93/2tplx4tn2jdc1zgf9bm7hmfr0000gn/T/ipykernel_4605/258433860.py:4: DtypeWarning: Columns (24,39,42,48) have mixed types. Specify dtype option on import or set low_memory=False.\n",
      "  df = pd.read_csv('../data/2011_Business_Academic_QCQ.txt', sep=\",\", encoding='latin-1')\n"
     ]
    }
   ],
   "source": [
    "# Load 2011 InfoUSA data - other data can be used\n",
    "# Takes ~2 min to run\n",
    "# df = pd.read_csv('../data/1997_Business_Academic_QCQ.txt', sep=\",\", encoding='latin-1')\n",
    "df = pd.read_csv('../data/2011_Business_Academic_QCQ.txt', sep=\",\", encoding='latin-1')"
   ]
  },
  {
   "cell_type": "markdown",
   "id": "d2aab740-ccd6-44f0-bb02-eb5de181db34",
   "metadata": {},
   "source": [
    "### 3. Know your data!"
   ]
  },
  {
   "cell_type": "markdown",
   "id": "077510da-1e5d-447e-854f-b910edd39794",
   "metadata": {},
   "source": [
    "#### Check how large is your data and what information it contains."
   ]
  },
  {
   "cell_type": "code",
   "execution_count": 5,
   "id": "34825572-80ce-49c7-9dda-c061c3263a54",
   "metadata": {},
   "outputs": [
    {
     "data": {
      "text/plain": [
       "'Your data contains 13468613 rows.'"
      ]
     },
     "execution_count": 5,
     "metadata": {},
     "output_type": "execute_result"
    }
   ],
   "source": [
    "\"Your data contains \" + str(len(df)) + \" rows.\""
   ]
  },
  {
   "cell_type": "markdown",
   "id": "96571426-09f4-4c1f-8363-41cf4c6ae72d",
   "metadata": {},
   "source": [
    "The table contains the followning information:"
   ]
  },
  {
   "cell_type": "code",
   "execution_count": 6,
   "id": "4b38790d-dcff-4132-852c-d453427cfdff",
   "metadata": {},
   "outputs": [
    {
     "data": {
      "text/plain": [
       "['ABI',\n",
       " 'Address Line 1',\n",
       " 'Address Type Indicator',\n",
       " 'Archive Version Year',\n",
       " 'Area Code',\n",
       " 'Business Status Code',\n",
       " 'CBSA Code',\n",
       " 'CBSA Level',\n",
       " 'CSA Code',\n",
       " 'Census Block',\n",
       " 'Census Tract',\n",
       " 'City',\n",
       " 'Company',\n",
       " 'Company Holding Status',\n",
       " 'County Code',\n",
       " 'Employee Size (5) - Location',\n",
       " 'FIPS Code',\n",
       " 'IDCode',\n",
       " 'Industry Specific First Byte',\n",
       " 'Latitude',\n",
       " 'Location Employee Size Code',\n",
       " 'Location Sales Volume Code',\n",
       " 'Longitude',\n",
       " 'Match Code',\n",
       " 'NAICS8 Descriptions',\n",
       " 'Office Size Code',\n",
       " 'Parent Actual Employee Size',\n",
       " 'Parent Actual Sales Volume',\n",
       " 'Parent Employee Size Code',\n",
       " 'Parent Number',\n",
       " 'Parent Sales Volume Code',\n",
       " 'Population Code',\n",
       " 'Primary NAICS Code',\n",
       " 'Primary SIC Code',\n",
       " 'SIC Code',\n",
       " 'SIC Code 1',\n",
       " 'SIC Code 2',\n",
       " 'SIC Code 3',\n",
       " 'SIC Code 4',\n",
       " 'SIC6_Descriptions',\n",
       " 'SIC6_Descriptions (SIC)',\n",
       " 'SIC6_Descriptions (SIC1)',\n",
       " 'SIC6_Descriptions(SIC2)',\n",
       " 'SIC6_Descriptions(SIC3)',\n",
       " 'SIC6_Descriptions(SIC4)',\n",
       " 'Sales Volume (9) - Location',\n",
       " 'Site Number',\n",
       " 'State',\n",
       " 'Subsidiary Number',\n",
       " 'Year Established',\n",
       " 'Yellow Page Code',\n",
       " 'Zip4',\n",
       " 'ZipCode']"
      ]
     },
     "execution_count": 6,
     "metadata": {},
     "output_type": "execute_result"
    }
   ],
   "source": [
    "sorted(list(df.columns.values.tolist()))"
   ]
  },
  {
   "cell_type": "markdown",
   "id": "4b33c32e-aa5f-40fb-8820-815c04c4a8e0",
   "metadata": {},
   "source": [
    "### 4. Clean data of interest"
   ]
  },
  {
   "cell_type": "markdown",
   "id": "5ae7b554-fb77-4738-8da1-b1a25051de8f",
   "metadata": {},
   "source": [
    "#### 4.1. Filter data"
   ]
  },
  {
   "cell_type": "markdown",
   "id": "6b99eb13-b0ea-439c-8794-c0f34c3e0986",
   "metadata": {},
   "source": [
    "Amenities that we select: groceries, restaurants, coffee shops, banks, parks, schools, bookstores, entertainment, and general shopping establishments.\n",
    "\n",
    "Data from schools comes from the 2011 [Great Schools](https://www.greatschools.org/catalog/pdf/GreatSchools-2011-AR-final.pdf) data and parks of the centroids extracted from open 2021 [ArcGIS data](https://www.arcgis.com/home/item.html?id=f092c20803a047cba81fbf1e30eff0b5).\n"
   ]
  },
  {
   "cell_type": "code",
   "execution_count": 7,
   "id": "e6f61ec9-26c0-40cc-b527-0d5f3651abd7",
   "metadata": {},
   "outputs": [],
   "source": [
    "#Convert the column to string\n",
    "df['Primary NAICS Code'].astype(str)\n",
    "\n",
    "#Created new categories of NAICS codes so it is easier to filter the categories of interest.\n",
    "df['NAICS'] = df['Primary NAICS Code'].astype(str)\n",
    "df['NAICS2'] = df.NAICS.str[:2]\n",
    "df['NAICS4'] = df.NAICS.str[:4]\n",
    "df['NAICS6'] = df.NAICS.str[:6]\n",
    "df.NAICS4.value_counts()\n",
    "\n",
    "# Filter by specific amenity NAICS codes\n",
    "filtered = df.loc[(df['NAICS2'] == '72') | (df['NAICS4'] == '4421') | (df['NAICS4'] == '4431') | (df['NAICS4'] == '4451') | \n",
    "                (df['NAICS4'] == '4461') | (df['NAICS4'] == '4481') | (df['NAICS4'] == '4482') | (df['NAICS4'] == '4483') |\n",
    "                (df['NAICS4'] == '4511') | (df['NAICS4'] == '4531') | (df['NAICS4'] == '4532') | (df['NAICS4'] == '4539') |\n",
    "                (df['NAICS4'] == '4453') | (df['NAICS4'] == '4523') | (df['NAICS4'] == '5221') | (df['NAICS6'] == '311811') |\n",
    "                (df['NAICS6'] == '451211')]\n",
    "\n",
    "# Remove Puerto Rico, Alaska, Hawaii, and US Virgin Islands because we will be measuring distances and islands will affect our analysis\n",
    "filtered = filtered[(filtered['State'] != 'PR') & (filtered['State'] != 'AK') & (filtered['State'] != 'HI') & (filtered['State'] != 'VI')]\n",
    "\n",
    "# Making sure that the latitude and longitude include all decimal points. # Is this right?\n",
    "filtered = filtered[filtered.Longitude != '-000.000-76']\n",
    "filtered = filtered[filtered.Latitude != '-000.000-76']"
   ]
  },
  {
   "cell_type": "markdown",
   "id": "66fd5ec4-8bc9-4e65-9770-0f3b5b21b50e",
   "metadata": {},
   "source": [
    "### Create Weights"
   ]
  },
  {
   "cell_type": "code",
   "execution_count": 8,
   "id": "ec35f194-1b7b-4239-9b4b-967964ccca53",
   "metadata": {},
   "outputs": [],
   "source": [
    "# Mapping values (you can change the assignments as needed)\n",
    "# Function to assign weights with a default of 1\n",
    "def assign_weights(type, mapping=None):\n",
    "    if mapping is None:\n",
    "        mapping = {}  # Default to empty dict\n",
    "    return mapping.get(type, 1)  # Return mapped value or default to 1"
   ]
  },
  {
   "cell_type": "code",
   "execution_count": 9,
   "id": "688fc539-5a30-4cfb-a30b-6efc8bf7dc21",
   "metadata": {},
   "outputs": [],
   "source": [
    "# Example. Change NAICS2 according to whatever your type of destination values are. In our case, amenities.\n",
    "filtered['NAICS2'] = filtered['NAICS2'].astype(int)  # Ensure integer type or whatever your category is\n",
    "\n",
    "#mapping = {72: 1, 44: 2, 45: 0.5, 23: 2, 52:1, 31:2}  # Example mapping for different types of weights\n",
    "mapping = {} # Defaults the weights to 1\n",
    "\n",
    "filtered['types_weights'] = filtered['NAICS2'].apply(lambda x: assign_weights(x, mapping))"
   ]
  },
  {
   "cell_type": "code",
   "execution_count": 10,
   "id": "e3350dd8-f8c0-4c40-9ece-e2f3244acd0a",
   "metadata": {},
   "outputs": [
    {
     "data": {
      "text/html": [
       "<div>\n",
       "<style scoped>\n",
       "    .dataframe tbody tr th:only-of-type {\n",
       "        vertical-align: middle;\n",
       "    }\n",
       "\n",
       "    .dataframe tbody tr th {\n",
       "        vertical-align: top;\n",
       "    }\n",
       "\n",
       "    .dataframe thead th {\n",
       "        text-align: right;\n",
       "    }\n",
       "</style>\n",
       "<table border=\"1\" class=\"dataframe\">\n",
       "  <thead>\n",
       "    <tr style=\"text-align: right;\">\n",
       "      <th></th>\n",
       "      <th>Company</th>\n",
       "      <th>Address Line 1</th>\n",
       "      <th>City</th>\n",
       "      <th>State</th>\n",
       "      <th>ZipCode</th>\n",
       "      <th>Zip4</th>\n",
       "      <th>County Code</th>\n",
       "      <th>Area Code</th>\n",
       "      <th>IDCode</th>\n",
       "      <th>Location Employee Size Code</th>\n",
       "      <th>...</th>\n",
       "      <th>Match Code</th>\n",
       "      <th>CBSA Code</th>\n",
       "      <th>CBSA Level</th>\n",
       "      <th>CSA Code</th>\n",
       "      <th>FIPS Code</th>\n",
       "      <th>NAICS</th>\n",
       "      <th>NAICS2</th>\n",
       "      <th>NAICS4</th>\n",
       "      <th>NAICS6</th>\n",
       "      <th>types_weights</th>\n",
       "    </tr>\n",
       "  </thead>\n",
       "  <tbody>\n",
       "    <tr>\n",
       "      <th>101581</th>\n",
       "      <td>AMGARI HOME &amp; GARDEN</td>\n",
       "      <td>127 LEALAND AVE</td>\n",
       "      <td>AGAWAM</td>\n",
       "      <td>MA</td>\n",
       "      <td>1001.0</td>\n",
       "      <td>2413.0</td>\n",
       "      <td>13.0</td>\n",
       "      <td>413</td>\n",
       "      <td>2</td>\n",
       "      <td>A</td>\n",
       "      <td>...</td>\n",
       "      <td>P</td>\n",
       "      <td>44140.0</td>\n",
       "      <td>2.0</td>\n",
       "      <td>521.0</td>\n",
       "      <td>25013.0</td>\n",
       "      <td>45311001.0</td>\n",
       "      <td>45</td>\n",
       "      <td>4531</td>\n",
       "      <td>453110</td>\n",
       "      <td>1</td>\n",
       "    </tr>\n",
       "    <tr>\n",
       "      <th>101590</th>\n",
       "      <td>ISTANBUL MEDITERRENEAN GRILL</td>\n",
       "      <td>365 WALNUT STREET EXT</td>\n",
       "      <td>AGAWAM</td>\n",
       "      <td>MA</td>\n",
       "      <td>1001.0</td>\n",
       "      <td>1523.0</td>\n",
       "      <td>13.0</td>\n",
       "      <td>413</td>\n",
       "      <td>2</td>\n",
       "      <td>C</td>\n",
       "      <td>...</td>\n",
       "      <td>P</td>\n",
       "      <td>44140.0</td>\n",
       "      <td>2.0</td>\n",
       "      <td>521.0</td>\n",
       "      <td>25013.0</td>\n",
       "      <td>72251117.0</td>\n",
       "      <td>72</td>\n",
       "      <td>7225</td>\n",
       "      <td>722511</td>\n",
       "      <td>1</td>\n",
       "    </tr>\n",
       "  </tbody>\n",
       "</table>\n",
       "<p>2 rows × 58 columns</p>\n",
       "</div>"
      ],
      "text/plain": [
       "                             Company         Address Line 1    City State  \\\n",
       "101581          AMGARI HOME & GARDEN        127 LEALAND AVE  AGAWAM    MA   \n",
       "101590  ISTANBUL MEDITERRENEAN GRILL  365 WALNUT STREET EXT  AGAWAM    MA   \n",
       "\n",
       "        ZipCode    Zip4  County Code  Area Code  IDCode  \\\n",
       "101581   1001.0  2413.0         13.0        413       2   \n",
       "101590   1001.0  1523.0         13.0        413       2   \n",
       "\n",
       "       Location Employee Size Code  ... Match Code  CBSA Code CBSA Level  \\\n",
       "101581                           A  ...          P    44140.0        2.0   \n",
       "101590                           C  ...          P    44140.0        2.0   \n",
       "\n",
       "        CSA Code FIPS Code       NAICS NAICS2  NAICS4  NAICS6  types_weights  \n",
       "101581     521.0   25013.0  45311001.0     45    4531  453110              1  \n",
       "101590     521.0   25013.0  72251117.0     72    7225  722511              1  \n",
       "\n",
       "[2 rows x 58 columns]"
      ]
     },
     "execution_count": 10,
     "metadata": {},
     "output_type": "execute_result"
    }
   ],
   "source": [
    "filtered.head(2)"
   ]
  },
  {
   "cell_type": "markdown",
   "id": "bce922c9-61ac-4d54-ba1f-5d371c1545f3",
   "metadata": {},
   "source": [
    "#### Check your data...How large is your filtered data and how does it look?"
   ]
  },
  {
   "cell_type": "code",
   "execution_count": 11,
   "id": "79359919-a38d-49a2-b13d-fbfce36c93a6",
   "metadata": {},
   "outputs": [
    {
     "data": {
      "text/plain": [
       "'Your filtered data contains 1968832 rows.'"
      ]
     },
     "execution_count": 11,
     "metadata": {},
     "output_type": "execute_result"
    }
   ],
   "source": [
    "\"Your filtered data contains \" + str(len(filtered)) + \" rows.\""
   ]
  },
  {
   "cell_type": "code",
   "execution_count": 12,
   "id": "af1c68bf-8444-447f-ab56-3e68dc9af2c6",
   "metadata": {},
   "outputs": [
    {
     "data": {
      "text/html": [
       "<div>\n",
       "<style scoped>\n",
       "    .dataframe tbody tr th:only-of-type {\n",
       "        vertical-align: middle;\n",
       "    }\n",
       "\n",
       "    .dataframe tbody tr th {\n",
       "        vertical-align: top;\n",
       "    }\n",
       "\n",
       "    .dataframe thead th {\n",
       "        text-align: right;\n",
       "    }\n",
       "</style>\n",
       "<table border=\"1\" class=\"dataframe\">\n",
       "  <thead>\n",
       "    <tr style=\"text-align: right;\">\n",
       "      <th></th>\n",
       "      <th>Company</th>\n",
       "      <th>Address Line 1</th>\n",
       "      <th>City</th>\n",
       "      <th>State</th>\n",
       "      <th>ZipCode</th>\n",
       "      <th>Zip4</th>\n",
       "      <th>County Code</th>\n",
       "      <th>Area Code</th>\n",
       "      <th>IDCode</th>\n",
       "      <th>Location Employee Size Code</th>\n",
       "      <th>...</th>\n",
       "      <th>Match Code</th>\n",
       "      <th>CBSA Code</th>\n",
       "      <th>CBSA Level</th>\n",
       "      <th>CSA Code</th>\n",
       "      <th>FIPS Code</th>\n",
       "      <th>NAICS</th>\n",
       "      <th>NAICS2</th>\n",
       "      <th>NAICS4</th>\n",
       "      <th>NAICS6</th>\n",
       "      <th>types_weights</th>\n",
       "    </tr>\n",
       "  </thead>\n",
       "  <tbody>\n",
       "    <tr>\n",
       "      <th>101581</th>\n",
       "      <td>AMGARI HOME &amp; GARDEN</td>\n",
       "      <td>127 LEALAND AVE</td>\n",
       "      <td>AGAWAM</td>\n",
       "      <td>MA</td>\n",
       "      <td>1001.0</td>\n",
       "      <td>2413.0</td>\n",
       "      <td>13.0</td>\n",
       "      <td>413</td>\n",
       "      <td>2</td>\n",
       "      <td>A</td>\n",
       "      <td>...</td>\n",
       "      <td>P</td>\n",
       "      <td>44140.0</td>\n",
       "      <td>2.0</td>\n",
       "      <td>521.0</td>\n",
       "      <td>25013.0</td>\n",
       "      <td>45311001.0</td>\n",
       "      <td>45</td>\n",
       "      <td>4531</td>\n",
       "      <td>453110</td>\n",
       "      <td>1</td>\n",
       "    </tr>\n",
       "    <tr>\n",
       "      <th>101590</th>\n",
       "      <td>ISTANBUL MEDITERRENEAN GRILL</td>\n",
       "      <td>365 WALNUT STREET EXT</td>\n",
       "      <td>AGAWAM</td>\n",
       "      <td>MA</td>\n",
       "      <td>1001.0</td>\n",
       "      <td>1523.0</td>\n",
       "      <td>13.0</td>\n",
       "      <td>413</td>\n",
       "      <td>2</td>\n",
       "      <td>C</td>\n",
       "      <td>...</td>\n",
       "      <td>P</td>\n",
       "      <td>44140.0</td>\n",
       "      <td>2.0</td>\n",
       "      <td>521.0</td>\n",
       "      <td>25013.0</td>\n",
       "      <td>72251117.0</td>\n",
       "      <td>72</td>\n",
       "      <td>7225</td>\n",
       "      <td>722511</td>\n",
       "      <td>1</td>\n",
       "    </tr>\n",
       "    <tr>\n",
       "      <th>101603</th>\n",
       "      <td>DAVE'S SODA &amp; PET CITY INC</td>\n",
       "      <td>151 SPRINGFIELD ST</td>\n",
       "      <td>AGAWAM</td>\n",
       "      <td>MA</td>\n",
       "      <td>1001.0</td>\n",
       "      <td>1553.0</td>\n",
       "      <td>13.0</td>\n",
       "      <td>413</td>\n",
       "      <td>2</td>\n",
       "      <td>D</td>\n",
       "      <td>...</td>\n",
       "      <td>P</td>\n",
       "      <td>44140.0</td>\n",
       "      <td>2.0</td>\n",
       "      <td>521.0</td>\n",
       "      <td>25013.0</td>\n",
       "      <td>45391003.0</td>\n",
       "      <td>45</td>\n",
       "      <td>4539</td>\n",
       "      <td>453910</td>\n",
       "      <td>1</td>\n",
       "    </tr>\n",
       "  </tbody>\n",
       "</table>\n",
       "<p>3 rows × 58 columns</p>\n",
       "</div>"
      ],
      "text/plain": [
       "                             Company         Address Line 1    City State  \\\n",
       "101581          AMGARI HOME & GARDEN        127 LEALAND AVE  AGAWAM    MA   \n",
       "101590  ISTANBUL MEDITERRENEAN GRILL  365 WALNUT STREET EXT  AGAWAM    MA   \n",
       "101603    DAVE'S SODA & PET CITY INC     151 SPRINGFIELD ST  AGAWAM    MA   \n",
       "\n",
       "        ZipCode    Zip4  County Code  Area Code  IDCode  \\\n",
       "101581   1001.0  2413.0         13.0        413       2   \n",
       "101590   1001.0  1523.0         13.0        413       2   \n",
       "101603   1001.0  1553.0         13.0        413       2   \n",
       "\n",
       "       Location Employee Size Code  ... Match Code  CBSA Code CBSA Level  \\\n",
       "101581                           A  ...          P    44140.0        2.0   \n",
       "101590                           C  ...          P    44140.0        2.0   \n",
       "101603                           D  ...          P    44140.0        2.0   \n",
       "\n",
       "        CSA Code FIPS Code       NAICS NAICS2  NAICS4  NAICS6  types_weights  \n",
       "101581     521.0   25013.0  45311001.0     45    4531  453110              1  \n",
       "101590     521.0   25013.0  72251117.0     72    7225  722511              1  \n",
       "101603     521.0   25013.0  45391003.0     45    4539  453910              1  \n",
       "\n",
       "[3 rows x 58 columns]"
      ]
     },
     "execution_count": 12,
     "metadata": {},
     "output_type": "execute_result"
    }
   ],
   "source": [
    "filtered.head(3)"
   ]
  },
  {
   "cell_type": "markdown",
   "id": "de239b44-44e9-43be-98ee-39da55249878",
   "metadata": {},
   "source": [
    "#### 4.2 Bring in the spatial!"
   ]
  },
  {
   "cell_type": "code",
   "execution_count": 13,
   "id": "ba2b5bf8-3366-4048-ac0d-bdc5483614ee",
   "metadata": {},
   "outputs": [],
   "source": [
    "# Create a geodataframe from coordinates (latitude and longitude)\n",
    "gdf = gpd.GeoDataFrame(\n",
    "    filtered,\n",
    "    geometry=gpd.points_from_xy(filtered.Longitude, filtered.Latitude),\n",
    "    crs='epsg:4326') # epsg specifies the projection\n",
    "\n",
    "# Change the Coordinate Reference System (CRS)\n",
    "# Check for different projections here: https://epsg.io/\n",
    "gdf = gdf.to_crs('esri:102003')"
   ]
  },
  {
   "cell_type": "code",
   "execution_count": 14,
   "id": "3af170ae-3b39-445d-9363-21e4bce1623a",
   "metadata": {},
   "outputs": [
    {
     "data": {
      "text/plain": [
       "<Projected CRS: ESRI:102003>\n",
       "Name: USA_Contiguous_Albers_Equal_Area_Conic\n",
       "Axis Info [cartesian]:\n",
       "- E[east]: Easting (metre)\n",
       "- N[north]: Northing (metre)\n",
       "Area of Use:\n",
       "- name: United States (USA) - CONUS onshore - Alabama; Arizona; Arkansas; California; Colorado; Connecticut; Delaware; Florida; Georgia; Idaho; Illinois; Indiana; Iowa; Kansas; Kentucky; Louisiana; Maine; Maryland; Massachusetts; Michigan; Minnesota; Mississippi; Missouri; Montana; Nebraska; Nevada; New Hampshire; New Jersey; New Mexico; New York; North Carolina; North Dakota; Ohio; Oklahoma; Oregon; Pennsylvania; Rhode Island; South Carolina; South Dakota; Tennessee; Texas; Utah; Vermont; Virginia; Washington; West Virginia; Wisconsin; Wyoming.\n",
       "- bounds: (-124.79, 24.41, -66.91, 49.38)\n",
       "Coordinate Operation:\n",
       "- name: USA_Contiguous_Albers_Equal_Area_Conic\n",
       "- method: Albers Equal Area\n",
       "Datum: North American Datum 1983\n",
       "- Ellipsoid: GRS 1980\n",
       "- Prime Meridian: Greenwich"
      ]
     },
     "execution_count": 14,
     "metadata": {},
     "output_type": "execute_result"
    }
   ],
   "source": [
    "# Check that the CRS actually changed\n",
    "gdf.crs"
   ]
  },
  {
   "cell_type": "code",
   "execution_count": 15,
   "id": "4b0e8c69-ccb5-4042-bdc6-873dae8570ef",
   "metadata": {},
   "outputs": [],
   "source": [
    "# Make sure that the geometry for each row has a value\n",
    "gdf = gdf[~gdf.is_empty]"
   ]
  },
  {
   "cell_type": "code",
   "execution_count": 16,
   "id": "f5c5c5e9-2dc0-497b-98b7-d5b6226ee31c",
   "metadata": {},
   "outputs": [
    {
     "data": {
      "text/plain": [
       "'The data contains 1968809 rows.'"
      ]
     },
     "execution_count": 16,
     "metadata": {},
     "output_type": "execute_result"
    }
   ],
   "source": [
    "\"The data contains \" + str(len(gdf)) + \" rows.\""
   ]
  },
  {
   "cell_type": "markdown",
   "id": "c958a837-f2e4-4e3f-ac0b-88bad097c9a4",
   "metadata": {},
   "source": [
    "#### 4.3 Add more data: schools and parks"
   ]
  },
  {
   "cell_type": "code",
   "execution_count": 17,
   "id": "697c4ed5-879c-4fc3-af83-7d7eac158cb6",
   "metadata": {},
   "outputs": [
    {
     "data": {
      "text/html": [
       "<div>\n",
       "<style scoped>\n",
       "    .dataframe tbody tr th:only-of-type {\n",
       "        vertical-align: middle;\n",
       "    }\n",
       "\n",
       "    .dataframe tbody tr th {\n",
       "        vertical-align: top;\n",
       "    }\n",
       "\n",
       "    .dataframe thead th {\n",
       "        text-align: right;\n",
       "    }\n",
       "</style>\n",
       "<table border=\"1\" class=\"dataframe\">\n",
       "  <thead>\n",
       "    <tr style=\"text-align: right;\">\n",
       "      <th></th>\n",
       "      <th>geometry</th>\n",
       "      <th>types_weights</th>\n",
       "    </tr>\n",
       "  </thead>\n",
       "  <tbody>\n",
       "    <tr>\n",
       "      <th>101581</th>\n",
       "      <td>POINT (1902104.651 747129.973)</td>\n",
       "      <td>1</td>\n",
       "    </tr>\n",
       "    <tr>\n",
       "      <th>101590</th>\n",
       "      <td>POINT (1900945.730 748835.840)</td>\n",
       "      <td>1</td>\n",
       "    </tr>\n",
       "    <tr>\n",
       "      <th>101603</th>\n",
       "      <td>POINT (1900558.840 748889.230)</td>\n",
       "      <td>1</td>\n",
       "    </tr>\n",
       "  </tbody>\n",
       "</table>\n",
       "</div>"
      ],
      "text/plain": [
       "                              geometry  types_weights\n",
       "101581  POINT (1902104.651 747129.973)              1\n",
       "101590  POINT (1900945.730 748835.840)              1\n",
       "101603  POINT (1900558.840 748889.230)              1"
      ]
     },
     "execution_count": 17,
     "metadata": {},
     "output_type": "execute_result"
    }
   ],
   "source": [
    "# Add 2011 GreatSchools school data (can use other sources)\n",
    "sch = gpd.read_file('../data/GreatSchools_2011_us48/GreatSchools_2011_us48.shp') \n",
    "sch = sch.to_crs('esri:102003')\n",
    "#2021 ESRI parks data (centroids)\n",
    "prk = gpd.read_file('../data/Centroids_for_USA_Parks_2021_Buffer2/Centroids_for_USA_Parks_2021_Buffer2.shp') \n",
    "prk = prk.to_crs('esri:102003')\n",
    "\n",
    "# For our example, assign equal weights = 1 to parks and schools\n",
    "sch[\"types_weights\"] = 1\n",
    "prk[\"types_weights\"] = 1\n",
    "\n",
    "# Get amenities, schools, and parks into one dataframe\n",
    "lst=[gdf,sch,prk]\n",
    "am=pd.concat(lst, ignore_index=True, axis=0)\n",
    "am[\"ID\"] = am.index\n",
    "\n",
    "# Keep only the geometry and the weights\n",
    "am_id = gdf[['geometry', 'types_weights']]\n",
    "am_id.head(3)"
   ]
  },
  {
   "cell_type": "markdown",
   "id": "ab612b1e-1335-40e3-a6ca-53602e40291a",
   "metadata": {},
   "source": [
    "### 5. Load the geography!"
   ]
  },
  {
   "cell_type": "markdown",
   "id": "3cbed8ee-325f-4501-a8ec-b9c3329a9142",
   "metadata": {},
   "source": [
    "#### 5.1. In this case, we upload block groups"
   ]
  },
  {
   "cell_type": "code",
   "execution_count": 18,
   "id": "7dd49790-5ac9-4d7c-8208-0b03509bc24a",
   "metadata": {},
   "outputs": [
    {
     "data": {
      "text/html": [
       "<div>\n",
       "<style scoped>\n",
       "    .dataframe tbody tr th:only-of-type {\n",
       "        vertical-align: middle;\n",
       "    }\n",
       "\n",
       "    .dataframe tbody tr th {\n",
       "        vertical-align: top;\n",
       "    }\n",
       "\n",
       "    .dataframe thead th {\n",
       "        text-align: right;\n",
       "    }\n",
       "</style>\n",
       "<table border=\"1\" class=\"dataframe\">\n",
       "  <thead>\n",
       "    <tr style=\"text-align: right;\">\n",
       "      <th></th>\n",
       "      <th>geometry</th>\n",
       "    </tr>\n",
       "  </thead>\n",
       "  <tbody>\n",
       "    <tr>\n",
       "      <th>0</th>\n",
       "      <td>POINT (-2256868.242 354675.748)</td>\n",
       "    </tr>\n",
       "    <tr>\n",
       "      <th>1</th>\n",
       "      <td>POINT (-2258832.974 353148.920)</td>\n",
       "    </tr>\n",
       "    <tr>\n",
       "      <th>2</th>\n",
       "      <td>POINT (-2259050.925 352843.123)</td>\n",
       "    </tr>\n",
       "  </tbody>\n",
       "</table>\n",
       "</div>"
      ],
      "text/plain": [
       "                          geometry\n",
       "0  POINT (-2256868.242 354675.748)\n",
       "1  POINT (-2258832.974 353148.920)\n",
       "2  POINT (-2259050.925 352843.123)"
      ]
     },
     "execution_count": 18,
     "metadata": {},
     "output_type": "execute_result"
    }
   ],
   "source": [
    "# Load geography (oftentimes as shapefile).\n",
    "# Read the block group file we're using in this case that we got from IPUMS- one spatial definition of demand units for all time periods\n",
    "\n",
    "s_v = gpd.read_file('../data/2015_US_BG/BG_mainland.shp') # Load geography (oftentimes as shapefile).\n",
    "\n",
    "# Change the Coordinate Refernce System\n",
    "s_v = s_v.set_crs('esri:102003', allow_override=True) # Set the Coordinate Reference System\n",
    "s_v.rename(columns={'GEOID': 'ID'}, inplace=True) # Rename the columns for convenience\n",
    "\n",
    "# Extract the centroids of the polygons.\n",
    "# Replace the column \"geometry\" with the centroids of geography.\n",
    "# This will change the geometry from \"polygon\" to \"point\" geometry.\n",
    "s_v['geometry'] = s_v.centroid\n",
    "\n",
    "# Check that the geometry is indeed in point form\n",
    "s_v[['geometry']].head(3)"
   ]
  },
  {
   "cell_type": "code",
   "execution_count": 19,
   "id": "9097cf2a-d63c-462f-8fac-9305ccc94ba2",
   "metadata": {},
   "outputs": [],
   "source": [
    "# This cell is creating a function for eastimating nearest neighbors from point to point.\n",
    "def get_nearest_neighbors(gdf1, gdf2, k_neighbors=2):\n",
    "    '''Find k nearest neighbors for all source points from a set of candidate points\n",
    "    modified from: https://automating-gis-processes.github.io/site/notebooks/L3/nearest-neighbor-faster.html    \n",
    "    Parameters\n",
    "    ----------\n",
    "    gdf1 : geopandas.DataFrame\n",
    "    Geometries to search from.\n",
    "    gdf2 : geopandas.DataFrame\n",
    "    Geoemtries to be searched.\n",
    "    k_neighbors : int, optional\n",
    "    Number of nearest neighbors. The default is 2.\n",
    "    Returns\n",
    "    -------\n",
    "    gdf_final : geopandas.DataFrame\n",
    "    gdf1 with distance, index and all other columns from gdf2.'''\n",
    "\n",
    "    src_points = [(x,y) for x,y in zip(gdf1.geometry.x , gdf1.geometry.y)]\n",
    "    candidates =  [(x,y) for x,y in zip(gdf2.geometry.x , gdf2.geometry.y)]\n",
    "\n",
    "    # Create tree from the candidate points\n",
    "    tree = BallTree(candidates, leaf_size=15, metric='euclidean')\n",
    "\n",
    "    # Find closest points and distances\n",
    "    distances, indices = tree.query(src_points, k=k_neighbors)\n",
    "\n",
    "    # Transpose to get distances and indices into arrays\n",
    "    distances = distances.transpose()\n",
    "    indices = indices.transpose()\n",
    "\n",
    "    closest_gdfs = []\n",
    "    for k in np.arange(k_neighbors):\n",
    "        gdf_new = gdf2.iloc[indices[k]].reset_index()\n",
    "        gdf_new['distance'] =  distances[k]\n",
    "        gdf_new = gdf_new.add_suffix(f'_{k+1}')\n",
    "        closest_gdfs.append(gdf_new)\n",
    "    \n",
    "    closest_gdfs.insert(0,gdf1)    \n",
    "    gdf_final = pd.concat(closest_gdfs,axis=1)\n",
    "\n",
    "    return gdf_final\n",
    "\n",
    "def clean_dataframe(df):\n",
    "    # Create the ID2 column\n",
    "    df[\"ID2\"] = df.index\n",
    "\n",
    "    # Reshape the dataframe from wide to long format using the provided suffix\n",
    "    long_df = pd.wide_to_long(df, stubnames=[\"distance_\", \"index_\", \"geometry_\", \"types_weights_\"], i=\"ID2\", j=\"neighbor\") #Irene\n",
    "\n",
    "    # Rename columns\n",
    "    long_df.loc[:, 'origin'] = long_df['ID']\n",
    "    long_df.loc[:, 'dest'] = long_df['index_']\n",
    "    long_df.loc[:, 'euclidean'] = long_df['distance_']\n",
    "    long_df.loc[:, 'weights'] = long_df['types_weights_'] \n",
    "\n",
    "    # Reset index and keep necessary columns\n",
    "    long_df = long_df.reset_index(level=\"neighbor\")\n",
    "    cost_df = long_df[['euclidean', 'origin', 'dest', 'neighbor', 'weights']] \n",
    "\n",
    "    # Sort the dataframe by origin and euclidean distance\n",
    "    cost_df.sort_values(by=['origin', 'euclidean'], inplace=True)\n",
    "\n",
    "    return cost_df\n",
    "    \n",
    "def access_measure(df_cost, df_sv, upper, decay):\n",
    "    # Calculate time from euclidean distance\n",
    "    # https://journals-sagepub-com.may.idm.oclc.org/doi/10.1177/0265813516641685\n",
    "    df_cost['time'] = (df_cost['euclidean'] * 3600) / 5000  # convert distance into time (rate of 5kph)\n",
    "    \n",
    "    # Calculate LogitT_5 using the provided formula\n",
    "    df_cost['LogitT_5'] = 1 - (1 / (np.exp((upper / 180) - decay * df_cost['time']) + 1))\n",
    "    \n",
    "    # Apply weights to the accessibility score\n",
    "    df_cost['weighted_access'] = df_cost['LogitT_5'] * df_cost['weights']\n",
    "    \n",
    "    # Sum weighted distances by tract (origin) ID\n",
    "    cost_sum = df_cost.groupby(\"origin\").sum()\n",
    "    cost_sum['ID'] = cost_sum.index\n",
    "    \n",
    "    # Merge with the corresponding smaller sv original dataframe\n",
    "    cost_merge = df_sv.merge(cost_sum, how='inner', on='ID')\n",
    "    \n",
    "    # If you wan’t do standarize the score, you can include code here\n",
    "    \n",
    "    return cost_merge"
   ]
  },
  {
   "cell_type": "markdown",
   "id": "3b93f76f-ee99-49b8-a8b7-c3e6ee6fc6be",
   "metadata": {},
   "source": [
    "### 6. Estimate Access Metrics"
   ]
  },
  {
   "cell_type": "markdown",
   "id": "11c0c87f-f99c-4ea8-86b4-f10dd5b0c619",
   "metadata": {},
   "source": [
    "### Estimate the Correlation betweeen the Official Walkscore and the Walkable Accessibility Score"
   ]
  },
  {
   "cell_type": "code",
   "execution_count": 20,
   "id": "3717bb9e-0a82-4019-926f-cb671ac28635",
   "metadata": {},
   "outputs": [],
   "source": [
    "#  Read in Official Walkscore\n",
    "ws = gpd.read_file('../data/2011_walkscore/2011ws.shp')\n",
    "# ws = ws.set_crs('esri:102003', allow_override=True)"
   ]
  },
  {
   "cell_type": "code",
   "execution_count": 21,
   "id": "8c75eff5-fb13-4b60-bbbf-37683cd5ba2e",
   "metadata": {},
   "outputs": [],
   "source": [
    "ws.rename(columns={'GEOID': 'ID'}, inplace=True)"
   ]
  },
  {
   "cell_type": "code",
   "execution_count": 22,
   "id": "e1ab9d11",
   "metadata": {},
   "outputs": [],
   "source": [
    "ws = ws[['ID', 'ssws2use_m']]"
   ]
  },
  {
   "cell_type": "markdown",
   "id": "e0f9576c",
   "metadata": {},
   "source": [
    "### Find Optimal Nearest Neighbors and Upper Threshold Comparing to Walkscore"
   ]
  },
  {
   "cell_type": "markdown",
   "id": "f9b609d8-601c-4d7b-a8e8-f47d6b85101b",
   "metadata": {},
   "source": [
    "#### Loop through correlations between Walkscore and the Walkable Accesibility Score from k=5 to the maximum number of neighbors (k = 155) with upper = 800, 1600, and 2400."
   ]
  },
  {
   "cell_type": "code",
   "execution_count": 33,
   "id": "487abb2c",
   "metadata": {},
   "outputs": [],
   "source": [
    "# Ensure results directory exists\n",
    "os.makedirs(\"../output/correlations\", exist_ok=True)"
   ]
  },
  {
   "cell_type": "markdown",
   "id": "7d95f825-3b99-44a6-ae88-f3e423464e24",
   "metadata": {},
   "source": [
    "#### Create functions for looping over the upper threshold and the different levels of k."
   ]
  },
  {
   "cell_type": "code",
   "execution_count": 25,
   "id": "137c0061-349b-43b4-8f2f-8128ea86d17d",
   "metadata": {},
   "outputs": [],
   "source": [
    "def get_nearest_neighbors(gdf1, gdf2, tree=None, k_neighbors=2):\n",
    "    '''Find k nearest neighbors for all source points from a set of candidate points.'''\n",
    "    \n",
    "    # If the tree is not provided, create it (this should only happen once outside the loop)\n",
    "    if tree is None:\n",
    "        candidates = [(x, y) for x, y in zip(gdf2.geometry.x, gdf2.geometry.y)]\n",
    "        tree = BallTree(candidates, leaf_size=15, metric='euclidean')\n",
    "    \n",
    "    src_points = [(x, y) for x, y in zip(gdf1.geometry.x , gdf1.geometry.y)]\n",
    "\n",
    "    # Find closest points and distances\n",
    "    distances, indices = tree.query(src_points, k=k_neighbors)\n",
    "\n",
    "    # Transpose to get distances and indices into arrays\n",
    "    distances = distances.transpose()\n",
    "    indices = indices.transpose()\n",
    "\n",
    "    closest_gdfs = []\n",
    "    for k in np.arange(k_neighbors):\n",
    "        gdf_new = gdf2.iloc[indices[k]].reset_index()\n",
    "        gdf_new['distance'] =  distances[k]\n",
    "        gdf_new = gdf_new.add_suffix(f'_{k+1}')\n",
    "        closest_gdfs.append(gdf_new)\n",
    "    \n",
    "    closest_gdfs.insert(0,gdf1)    \n",
    "    gdf_final = pd.concat(closest_gdfs,axis=1)\n",
    "\n",
    "    return gdf_final, tree\n",
    "\n",
    "\n",
    "def clean_dataframe(df):\n",
    "    # Create the ID2 column\n",
    "    df[\"ID2\"] = df.index\n",
    "\n",
    "    # Reshape the dataframe from wide to long format using the provided suffix\n",
    "    long_df = pd.wide_to_long(df, stubnames=[\"distance_\", \"index_\", \"geometry_\", \"types_weights_\"], i=\"ID2\", j=\"neighbor\")\n",
    "\n",
    "    # Rename columns all at once\n",
    "    long_df = long_df.rename(columns={\n",
    "        'ID': 'origin',\n",
    "        'index_': 'dest',\n",
    "        'distance_': 'euclidean',\n",
    "        'types_weights_': 'weights'\n",
    "    })\n",
    "\n",
    "    # Reset index\n",
    "    long_df = long_df.reset_index(level=\"neighbor\")\n",
    "\n",
    "    # Keep only relevant columns and sort by origin and euclidean distance\n",
    "    cost_df = long_df[['euclidean', 'origin', 'dest', 'neighbor', 'weights']].sort_values(by=['origin', 'euclidean'])\n",
    "    return cost_df\n",
    "    \n",
    "def access_measure(df_cost, df_sv, upper, decay):\n",
    "    # Calculate time from euclidean distance\n",
    "    # https://journals-sagepub-com.may.idm.oclc.org/doi/10.1177/0265813516641685\n",
    "    df_cost['time'] = df_cost['euclidean'] * 3600 / 5000  # Convert distance to time (rate of 5kph)\n",
    "    \n",
    "    # Precompute the constant part of the LogitT_5 formula\n",
    "    logit_factor = upper / 180\n",
    "    decay_times = decay * df_cost['time']\n",
    "    \n",
    "    # Calculate LogitT_5 using the provided formula\n",
    "    df_cost['LogitT_5'] = 1 - (1 / (np.exp(logit_factor - decay_times) + 1))\n",
    "    \n",
    "    # Apply weights to the accessibility score\n",
    "    df_cost['weighted_access'] = df_cost['LogitT_5'] * df_cost['weights']\n",
    "\n",
    "    \n",
    "    # Sum weighted distances by tract (origin) ID\n",
    "    cost_sum = df_cost.groupby(\"origin\").sum()\n",
    "    cost_sum['ID'] = cost_sum.index\n",
    "    \n",
    "    # Merge with the corresponding smaller sv original dataframe\n",
    "    cost_merge = df_sv.merge(cost_sum, how='inner', on='ID')\n",
    "    \n",
    "    # If you wan’t do standarize the score, you can include code here\n",
    "    \n",
    "    return cost_merge"
   ]
  },
  {
   "cell_type": "markdown",
   "id": "3ac11d07-cb71-4ec2-b8e7-d4cb6a331a14",
   "metadata": {},
   "source": [
    "#### Loop takes approximately 2 hours and a half to run"
   ]
  },
  {
   "cell_type": "code",
   "execution_count": 26,
   "id": "c6827fa7",
   "metadata": {},
   "outputs": [
    {
     "name": "stderr",
     "output_type": "stream",
     "text": [
      "/Users/irenefarah/Library/Python/3.9/lib/python/site-packages/geopandas/geodataframe.py:1528: PerformanceWarning: DataFrame is highly fragmented.  This is usually the result of calling `frame.insert` many times, which has poor performance.  Consider joining all columns at once using pd.concat(axis=1) instead. To get a de-fragmented frame, use `newframe = frame.copy()`\n",
      "  super().__setitem__(key, value)\n",
      "/Users/irenefarah/Library/Python/3.9/lib/python/site-packages/geopandas/geodataframe.py:1528: PerformanceWarning: DataFrame is highly fragmented.  This is usually the result of calling `frame.insert` many times, which has poor performance.  Consider joining all columns at once using pd.concat(axis=1) instead. To get a de-fragmented frame, use `newframe = frame.copy()`\n",
      "  super().__setitem__(key, value)\n",
      "/Users/irenefarah/Library/Python/3.9/lib/python/site-packages/geopandas/geodataframe.py:1528: PerformanceWarning: DataFrame is highly fragmented.  This is usually the result of calling `frame.insert` many times, which has poor performance.  Consider joining all columns at once using pd.concat(axis=1) instead. To get a de-fragmented frame, use `newframe = frame.copy()`\n",
      "  super().__setitem__(key, value)\n",
      "/Users/irenefarah/Library/Python/3.9/lib/python/site-packages/geopandas/geodataframe.py:1528: PerformanceWarning: DataFrame is highly fragmented.  This is usually the result of calling `frame.insert` many times, which has poor performance.  Consider joining all columns at once using pd.concat(axis=1) instead. To get a de-fragmented frame, use `newframe = frame.copy()`\n",
      "  super().__setitem__(key, value)\n",
      "/Users/irenefarah/Library/Python/3.9/lib/python/site-packages/geopandas/geodataframe.py:1528: PerformanceWarning: DataFrame is highly fragmented.  This is usually the result of calling `frame.insert` many times, which has poor performance.  Consider joining all columns at once using pd.concat(axis=1) instead. To get a de-fragmented frame, use `newframe = frame.copy()`\n",
      "  super().__setitem__(key, value)\n",
      "/Users/irenefarah/Library/Python/3.9/lib/python/site-packages/geopandas/geodataframe.py:1528: PerformanceWarning: DataFrame is highly fragmented.  This is usually the result of calling `frame.insert` many times, which has poor performance.  Consider joining all columns at once using pd.concat(axis=1) instead. To get a de-fragmented frame, use `newframe = frame.copy()`\n",
      "  super().__setitem__(key, value)\n",
      "/Users/irenefarah/Library/Python/3.9/lib/python/site-packages/geopandas/geodataframe.py:1528: PerformanceWarning: DataFrame is highly fragmented.  This is usually the result of calling `frame.insert` many times, which has poor performance.  Consider joining all columns at once using pd.concat(axis=1) instead. To get a de-fragmented frame, use `newframe = frame.copy()`\n",
      "  super().__setitem__(key, value)\n",
      "/Users/irenefarah/Library/Python/3.9/lib/python/site-packages/geopandas/geodataframe.py:1528: PerformanceWarning: DataFrame is highly fragmented.  This is usually the result of calling `frame.insert` many times, which has poor performance.  Consider joining all columns at once using pd.concat(axis=1) instead. To get a de-fragmented frame, use `newframe = frame.copy()`\n",
      "  super().__setitem__(key, value)\n",
      "/Users/irenefarah/Library/Python/3.9/lib/python/site-packages/geopandas/geodataframe.py:1528: PerformanceWarning: DataFrame is highly fragmented.  This is usually the result of calling `frame.insert` many times, which has poor performance.  Consider joining all columns at once using pd.concat(axis=1) instead. To get a de-fragmented frame, use `newframe = frame.copy()`\n",
      "  super().__setitem__(key, value)\n",
      "/Users/irenefarah/Library/Python/3.9/lib/python/site-packages/geopandas/geodataframe.py:1528: PerformanceWarning: DataFrame is highly fragmented.  This is usually the result of calling `frame.insert` many times, which has poor performance.  Consider joining all columns at once using pd.concat(axis=1) instead. To get a de-fragmented frame, use `newframe = frame.copy()`\n",
      "  super().__setitem__(key, value)\n",
      "/Users/irenefarah/Library/Python/3.9/lib/python/site-packages/geopandas/geodataframe.py:1528: PerformanceWarning: DataFrame is highly fragmented.  This is usually the result of calling `frame.insert` many times, which has poor performance.  Consider joining all columns at once using pd.concat(axis=1) instead. To get a de-fragmented frame, use `newframe = frame.copy()`\n",
      "  super().__setitem__(key, value)\n",
      "/Users/irenefarah/Library/Python/3.9/lib/python/site-packages/geopandas/geodataframe.py:1528: PerformanceWarning: DataFrame is highly fragmented.  This is usually the result of calling `frame.insert` many times, which has poor performance.  Consider joining all columns at once using pd.concat(axis=1) instead. To get a de-fragmented frame, use `newframe = frame.copy()`\n",
      "  super().__setitem__(key, value)\n",
      "/Users/irenefarah/Library/Python/3.9/lib/python/site-packages/geopandas/geodataframe.py:1528: PerformanceWarning: DataFrame is highly fragmented.  This is usually the result of calling `frame.insert` many times, which has poor performance.  Consider joining all columns at once using pd.concat(axis=1) instead. To get a de-fragmented frame, use `newframe = frame.copy()`\n",
      "  super().__setitem__(key, value)\n",
      "/Users/irenefarah/Library/Python/3.9/lib/python/site-packages/geopandas/geodataframe.py:1528: PerformanceWarning: DataFrame is highly fragmented.  This is usually the result of calling `frame.insert` many times, which has poor performance.  Consider joining all columns at once using pd.concat(axis=1) instead. To get a de-fragmented frame, use `newframe = frame.copy()`\n",
      "  super().__setitem__(key, value)\n",
      "/Users/irenefarah/Library/Python/3.9/lib/python/site-packages/geopandas/geodataframe.py:1528: PerformanceWarning: DataFrame is highly fragmented.  This is usually the result of calling `frame.insert` many times, which has poor performance.  Consider joining all columns at once using pd.concat(axis=1) instead. To get a de-fragmented frame, use `newframe = frame.copy()`\n",
      "  super().__setitem__(key, value)\n",
      "/Users/irenefarah/Library/Python/3.9/lib/python/site-packages/geopandas/geodataframe.py:1528: PerformanceWarning: DataFrame is highly fragmented.  This is usually the result of calling `frame.insert` many times, which has poor performance.  Consider joining all columns at once using pd.concat(axis=1) instead. To get a de-fragmented frame, use `newframe = frame.copy()`\n",
      "  super().__setitem__(key, value)\n",
      "/Users/irenefarah/Library/Python/3.9/lib/python/site-packages/geopandas/geodataframe.py:1528: PerformanceWarning: DataFrame is highly fragmented.  This is usually the result of calling `frame.insert` many times, which has poor performance.  Consider joining all columns at once using pd.concat(axis=1) instead. To get a de-fragmented frame, use `newframe = frame.copy()`\n",
      "  super().__setitem__(key, value)\n",
      "/Users/irenefarah/Library/Python/3.9/lib/python/site-packages/geopandas/geodataframe.py:1528: PerformanceWarning: DataFrame is highly fragmented.  This is usually the result of calling `frame.insert` many times, which has poor performance.  Consider joining all columns at once using pd.concat(axis=1) instead. To get a de-fragmented frame, use `newframe = frame.copy()`\n",
      "  super().__setitem__(key, value)\n",
      "/Users/irenefarah/Library/Python/3.9/lib/python/site-packages/geopandas/geodataframe.py:1528: PerformanceWarning: DataFrame is highly fragmented.  This is usually the result of calling `frame.insert` many times, which has poor performance.  Consider joining all columns at once using pd.concat(axis=1) instead. To get a de-fragmented frame, use `newframe = frame.copy()`\n",
      "  super().__setitem__(key, value)\n",
      "/Users/irenefarah/Library/Python/3.9/lib/python/site-packages/geopandas/geodataframe.py:1528: PerformanceWarning: DataFrame is highly fragmented.  This is usually the result of calling `frame.insert` many times, which has poor performance.  Consider joining all columns at once using pd.concat(axis=1) instead. To get a de-fragmented frame, use `newframe = frame.copy()`\n",
      "  super().__setitem__(key, value)\n",
      "/Users/irenefarah/Library/Python/3.9/lib/python/site-packages/geopandas/geodataframe.py:1528: PerformanceWarning: DataFrame is highly fragmented.  This is usually the result of calling `frame.insert` many times, which has poor performance.  Consider joining all columns at once using pd.concat(axis=1) instead. To get a de-fragmented frame, use `newframe = frame.copy()`\n",
      "  super().__setitem__(key, value)\n",
      "/Users/irenefarah/Library/Python/3.9/lib/python/site-packages/geopandas/geodataframe.py:1528: PerformanceWarning: DataFrame is highly fragmented.  This is usually the result of calling `frame.insert` many times, which has poor performance.  Consider joining all columns at once using pd.concat(axis=1) instead. To get a de-fragmented frame, use `newframe = frame.copy()`\n",
      "  super().__setitem__(key, value)\n",
      "/Users/irenefarah/Library/Python/3.9/lib/python/site-packages/geopandas/geodataframe.py:1528: PerformanceWarning: DataFrame is highly fragmented.  This is usually the result of calling `frame.insert` many times, which has poor performance.  Consider joining all columns at once using pd.concat(axis=1) instead. To get a de-fragmented frame, use `newframe = frame.copy()`\n",
      "  super().__setitem__(key, value)\n",
      "/Users/irenefarah/Library/Python/3.9/lib/python/site-packages/geopandas/geodataframe.py:1528: PerformanceWarning: DataFrame is highly fragmented.  This is usually the result of calling `frame.insert` many times, which has poor performance.  Consider joining all columns at once using pd.concat(axis=1) instead. To get a de-fragmented frame, use `newframe = frame.copy()`\n",
      "  super().__setitem__(key, value)\n",
      "/Users/irenefarah/Library/Python/3.9/lib/python/site-packages/geopandas/geodataframe.py:1528: PerformanceWarning: DataFrame is highly fragmented.  This is usually the result of calling `frame.insert` many times, which has poor performance.  Consider joining all columns at once using pd.concat(axis=1) instead. To get a de-fragmented frame, use `newframe = frame.copy()`\n",
      "  super().__setitem__(key, value)\n",
      "/Users/irenefarah/Library/Python/3.9/lib/python/site-packages/geopandas/geodataframe.py:1528: PerformanceWarning: DataFrame is highly fragmented.  This is usually the result of calling `frame.insert` many times, which has poor performance.  Consider joining all columns at once using pd.concat(axis=1) instead. To get a de-fragmented frame, use `newframe = frame.copy()`\n",
      "  super().__setitem__(key, value)\n",
      "/Users/irenefarah/Library/Python/3.9/lib/python/site-packages/geopandas/geodataframe.py:1528: PerformanceWarning: DataFrame is highly fragmented.  This is usually the result of calling `frame.insert` many times, which has poor performance.  Consider joining all columns at once using pd.concat(axis=1) instead. To get a de-fragmented frame, use `newframe = frame.copy()`\n",
      "  super().__setitem__(key, value)\n",
      "/Users/irenefarah/Library/Python/3.9/lib/python/site-packages/geopandas/geodataframe.py:1528: PerformanceWarning: DataFrame is highly fragmented.  This is usually the result of calling `frame.insert` many times, which has poor performance.  Consider joining all columns at once using pd.concat(axis=1) instead. To get a de-fragmented frame, use `newframe = frame.copy()`\n",
      "  super().__setitem__(key, value)\n",
      "/Users/irenefarah/Library/Python/3.9/lib/python/site-packages/geopandas/geodataframe.py:1528: PerformanceWarning: DataFrame is highly fragmented.  This is usually the result of calling `frame.insert` many times, which has poor performance.  Consider joining all columns at once using pd.concat(axis=1) instead. To get a de-fragmented frame, use `newframe = frame.copy()`\n",
      "  super().__setitem__(key, value)\n",
      "/Users/irenefarah/Library/Python/3.9/lib/python/site-packages/geopandas/geodataframe.py:1528: PerformanceWarning: DataFrame is highly fragmented.  This is usually the result of calling `frame.insert` many times, which has poor performance.  Consider joining all columns at once using pd.concat(axis=1) instead. To get a de-fragmented frame, use `newframe = frame.copy()`\n",
      "  super().__setitem__(key, value)\n",
      "/Users/irenefarah/Library/Python/3.9/lib/python/site-packages/geopandas/geodataframe.py:1528: PerformanceWarning: DataFrame is highly fragmented.  This is usually the result of calling `frame.insert` many times, which has poor performance.  Consider joining all columns at once using pd.concat(axis=1) instead. To get a de-fragmented frame, use `newframe = frame.copy()`\n",
      "  super().__setitem__(key, value)\n",
      "/Users/irenefarah/Library/Python/3.9/lib/python/site-packages/geopandas/geodataframe.py:1528: PerformanceWarning: DataFrame is highly fragmented.  This is usually the result of calling `frame.insert` many times, which has poor performance.  Consider joining all columns at once using pd.concat(axis=1) instead. To get a de-fragmented frame, use `newframe = frame.copy()`\n",
      "  super().__setitem__(key, value)\n",
      "/Users/irenefarah/Library/Python/3.9/lib/python/site-packages/geopandas/geodataframe.py:1528: PerformanceWarning: DataFrame is highly fragmented.  This is usually the result of calling `frame.insert` many times, which has poor performance.  Consider joining all columns at once using pd.concat(axis=1) instead. To get a de-fragmented frame, use `newframe = frame.copy()`\n",
      "  super().__setitem__(key, value)\n",
      "/Users/irenefarah/Library/Python/3.9/lib/python/site-packages/geopandas/geodataframe.py:1528: PerformanceWarning: DataFrame is highly fragmented.  This is usually the result of calling `frame.insert` many times, which has poor performance.  Consider joining all columns at once using pd.concat(axis=1) instead. To get a de-fragmented frame, use `newframe = frame.copy()`\n",
      "  super().__setitem__(key, value)\n",
      "/Users/irenefarah/Library/Python/3.9/lib/python/site-packages/geopandas/geodataframe.py:1528: PerformanceWarning: DataFrame is highly fragmented.  This is usually the result of calling `frame.insert` many times, which has poor performance.  Consider joining all columns at once using pd.concat(axis=1) instead. To get a de-fragmented frame, use `newframe = frame.copy()`\n",
      "  super().__setitem__(key, value)\n",
      "/Users/irenefarah/Library/Python/3.9/lib/python/site-packages/geopandas/geodataframe.py:1528: PerformanceWarning: DataFrame is highly fragmented.  This is usually the result of calling `frame.insert` many times, which has poor performance.  Consider joining all columns at once using pd.concat(axis=1) instead. To get a de-fragmented frame, use `newframe = frame.copy()`\n",
      "  super().__setitem__(key, value)\n",
      "/Users/irenefarah/Library/Python/3.9/lib/python/site-packages/geopandas/geodataframe.py:1528: PerformanceWarning: DataFrame is highly fragmented.  This is usually the result of calling `frame.insert` many times, which has poor performance.  Consider joining all columns at once using pd.concat(axis=1) instead. To get a de-fragmented frame, use `newframe = frame.copy()`\n",
      "  super().__setitem__(key, value)\n",
      "/Users/irenefarah/Library/Python/3.9/lib/python/site-packages/geopandas/geodataframe.py:1528: PerformanceWarning: DataFrame is highly fragmented.  This is usually the result of calling `frame.insert` many times, which has poor performance.  Consider joining all columns at once using pd.concat(axis=1) instead. To get a de-fragmented frame, use `newframe = frame.copy()`\n",
      "  super().__setitem__(key, value)\n",
      "/Users/irenefarah/Library/Python/3.9/lib/python/site-packages/geopandas/geodataframe.py:1528: PerformanceWarning: DataFrame is highly fragmented.  This is usually the result of calling `frame.insert` many times, which has poor performance.  Consider joining all columns at once using pd.concat(axis=1) instead. To get a de-fragmented frame, use `newframe = frame.copy()`\n",
      "  super().__setitem__(key, value)\n",
      "/Users/irenefarah/Library/Python/3.9/lib/python/site-packages/geopandas/geodataframe.py:1528: PerformanceWarning: DataFrame is highly fragmented.  This is usually the result of calling `frame.insert` many times, which has poor performance.  Consider joining all columns at once using pd.concat(axis=1) instead. To get a de-fragmented frame, use `newframe = frame.copy()`\n",
      "  super().__setitem__(key, value)\n",
      "/Users/irenefarah/Library/Python/3.9/lib/python/site-packages/geopandas/geodataframe.py:1528: PerformanceWarning: DataFrame is highly fragmented.  This is usually the result of calling `frame.insert` many times, which has poor performance.  Consider joining all columns at once using pd.concat(axis=1) instead. To get a de-fragmented frame, use `newframe = frame.copy()`\n",
      "  super().__setitem__(key, value)\n",
      "/Users/irenefarah/Library/Python/3.9/lib/python/site-packages/geopandas/geodataframe.py:1528: PerformanceWarning: DataFrame is highly fragmented.  This is usually the result of calling `frame.insert` many times, which has poor performance.  Consider joining all columns at once using pd.concat(axis=1) instead. To get a de-fragmented frame, use `newframe = frame.copy()`\n",
      "  super().__setitem__(key, value)\n",
      "/Users/irenefarah/Library/Python/3.9/lib/python/site-packages/geopandas/geodataframe.py:1528: PerformanceWarning: DataFrame is highly fragmented.  This is usually the result of calling `frame.insert` many times, which has poor performance.  Consider joining all columns at once using pd.concat(axis=1) instead. To get a de-fragmented frame, use `newframe = frame.copy()`\n",
      "  super().__setitem__(key, value)\n",
      "/Users/irenefarah/Library/Python/3.9/lib/python/site-packages/geopandas/geodataframe.py:1528: PerformanceWarning: DataFrame is highly fragmented.  This is usually the result of calling `frame.insert` many times, which has poor performance.  Consider joining all columns at once using pd.concat(axis=1) instead. To get a de-fragmented frame, use `newframe = frame.copy()`\n",
      "  super().__setitem__(key, value)\n",
      "/Users/irenefarah/Library/Python/3.9/lib/python/site-packages/geopandas/geodataframe.py:1528: PerformanceWarning: DataFrame is highly fragmented.  This is usually the result of calling `frame.insert` many times, which has poor performance.  Consider joining all columns at once using pd.concat(axis=1) instead. To get a de-fragmented frame, use `newframe = frame.copy()`\n",
      "  super().__setitem__(key, value)\n",
      "/Users/irenefarah/Library/Python/3.9/lib/python/site-packages/geopandas/geodataframe.py:1528: PerformanceWarning: DataFrame is highly fragmented.  This is usually the result of calling `frame.insert` many times, which has poor performance.  Consider joining all columns at once using pd.concat(axis=1) instead. To get a de-fragmented frame, use `newframe = frame.copy()`\n",
      "  super().__setitem__(key, value)\n",
      "/Users/irenefarah/Library/Python/3.9/lib/python/site-packages/geopandas/geodataframe.py:1528: PerformanceWarning: DataFrame is highly fragmented.  This is usually the result of calling `frame.insert` many times, which has poor performance.  Consider joining all columns at once using pd.concat(axis=1) instead. To get a de-fragmented frame, use `newframe = frame.copy()`\n",
      "  super().__setitem__(key, value)\n",
      "/Users/irenefarah/Library/Python/3.9/lib/python/site-packages/geopandas/geodataframe.py:1528: PerformanceWarning: DataFrame is highly fragmented.  This is usually the result of calling `frame.insert` many times, which has poor performance.  Consider joining all columns at once using pd.concat(axis=1) instead. To get a de-fragmented frame, use `newframe = frame.copy()`\n",
      "  super().__setitem__(key, value)\n",
      "/Users/irenefarah/Library/Python/3.9/lib/python/site-packages/geopandas/geodataframe.py:1528: PerformanceWarning: DataFrame is highly fragmented.  This is usually the result of calling `frame.insert` many times, which has poor performance.  Consider joining all columns at once using pd.concat(axis=1) instead. To get a de-fragmented frame, use `newframe = frame.copy()`\n",
      "  super().__setitem__(key, value)\n",
      "/Users/irenefarah/Library/Python/3.9/lib/python/site-packages/geopandas/geodataframe.py:1528: PerformanceWarning: DataFrame is highly fragmented.  This is usually the result of calling `frame.insert` many times, which has poor performance.  Consider joining all columns at once using pd.concat(axis=1) instead. To get a de-fragmented frame, use `newframe = frame.copy()`\n",
      "  super().__setitem__(key, value)\n",
      "/Users/irenefarah/Library/Python/3.9/lib/python/site-packages/geopandas/geodataframe.py:1528: PerformanceWarning: DataFrame is highly fragmented.  This is usually the result of calling `frame.insert` many times, which has poor performance.  Consider joining all columns at once using pd.concat(axis=1) instead. To get a de-fragmented frame, use `newframe = frame.copy()`\n",
      "  super().__setitem__(key, value)\n",
      "/Users/irenefarah/Library/Python/3.9/lib/python/site-packages/geopandas/geodataframe.py:1528: PerformanceWarning: DataFrame is highly fragmented.  This is usually the result of calling `frame.insert` many times, which has poor performance.  Consider joining all columns at once using pd.concat(axis=1) instead. To get a de-fragmented frame, use `newframe = frame.copy()`\n",
      "  super().__setitem__(key, value)\n",
      "/Users/irenefarah/Library/Python/3.9/lib/python/site-packages/geopandas/geodataframe.py:1528: PerformanceWarning: DataFrame is highly fragmented.  This is usually the result of calling `frame.insert` many times, which has poor performance.  Consider joining all columns at once using pd.concat(axis=1) instead. To get a de-fragmented frame, use `newframe = frame.copy()`\n",
      "  super().__setitem__(key, value)\n",
      "/Users/irenefarah/Library/Python/3.9/lib/python/site-packages/geopandas/geodataframe.py:1528: PerformanceWarning: DataFrame is highly fragmented.  This is usually the result of calling `frame.insert` many times, which has poor performance.  Consider joining all columns at once using pd.concat(axis=1) instead. To get a de-fragmented frame, use `newframe = frame.copy()`\n",
      "  super().__setitem__(key, value)\n",
      "/Users/irenefarah/Library/Python/3.9/lib/python/site-packages/geopandas/geodataframe.py:1528: PerformanceWarning: DataFrame is highly fragmented.  This is usually the result of calling `frame.insert` many times, which has poor performance.  Consider joining all columns at once using pd.concat(axis=1) instead. To get a de-fragmented frame, use `newframe = frame.copy()`\n",
      "  super().__setitem__(key, value)\n",
      "/Users/irenefarah/Library/Python/3.9/lib/python/site-packages/geopandas/geodataframe.py:1528: PerformanceWarning: DataFrame is highly fragmented.  This is usually the result of calling `frame.insert` many times, which has poor performance.  Consider joining all columns at once using pd.concat(axis=1) instead. To get a de-fragmented frame, use `newframe = frame.copy()`\n",
      "  super().__setitem__(key, value)\n",
      "/Users/irenefarah/Library/Python/3.9/lib/python/site-packages/geopandas/geodataframe.py:1528: PerformanceWarning: DataFrame is highly fragmented.  This is usually the result of calling `frame.insert` many times, which has poor performance.  Consider joining all columns at once using pd.concat(axis=1) instead. To get a de-fragmented frame, use `newframe = frame.copy()`\n",
      "  super().__setitem__(key, value)\n",
      "/Users/irenefarah/Library/Python/3.9/lib/python/site-packages/geopandas/geodataframe.py:1528: PerformanceWarning: DataFrame is highly fragmented.  This is usually the result of calling `frame.insert` many times, which has poor performance.  Consider joining all columns at once using pd.concat(axis=1) instead. To get a de-fragmented frame, use `newframe = frame.copy()`\n",
      "  super().__setitem__(key, value)\n",
      "/Users/irenefarah/Library/Python/3.9/lib/python/site-packages/geopandas/geodataframe.py:1528: PerformanceWarning: DataFrame is highly fragmented.  This is usually the result of calling `frame.insert` many times, which has poor performance.  Consider joining all columns at once using pd.concat(axis=1) instead. To get a de-fragmented frame, use `newframe = frame.copy()`\n",
      "  super().__setitem__(key, value)\n",
      "/Users/irenefarah/Library/Python/3.9/lib/python/site-packages/geopandas/geodataframe.py:1528: PerformanceWarning: DataFrame is highly fragmented.  This is usually the result of calling `frame.insert` many times, which has poor performance.  Consider joining all columns at once using pd.concat(axis=1) instead. To get a de-fragmented frame, use `newframe = frame.copy()`\n",
      "  super().__setitem__(key, value)\n",
      "/Users/irenefarah/Library/Python/3.9/lib/python/site-packages/geopandas/geodataframe.py:1528: PerformanceWarning: DataFrame is highly fragmented.  This is usually the result of calling `frame.insert` many times, which has poor performance.  Consider joining all columns at once using pd.concat(axis=1) instead. To get a de-fragmented frame, use `newframe = frame.copy()`\n",
      "  super().__setitem__(key, value)\n",
      "/Users/irenefarah/Library/Python/3.9/lib/python/site-packages/geopandas/geodataframe.py:1528: PerformanceWarning: DataFrame is highly fragmented.  This is usually the result of calling `frame.insert` many times, which has poor performance.  Consider joining all columns at once using pd.concat(axis=1) instead. To get a de-fragmented frame, use `newframe = frame.copy()`\n",
      "  super().__setitem__(key, value)\n",
      "/Users/irenefarah/Library/Python/3.9/lib/python/site-packages/geopandas/geodataframe.py:1528: PerformanceWarning: DataFrame is highly fragmented.  This is usually the result of calling `frame.insert` many times, which has poor performance.  Consider joining all columns at once using pd.concat(axis=1) instead. To get a de-fragmented frame, use `newframe = frame.copy()`\n",
      "  super().__setitem__(key, value)\n",
      "/Users/irenefarah/Library/Python/3.9/lib/python/site-packages/geopandas/geodataframe.py:1528: PerformanceWarning: DataFrame is highly fragmented.  This is usually the result of calling `frame.insert` many times, which has poor performance.  Consider joining all columns at once using pd.concat(axis=1) instead. To get a de-fragmented frame, use `newframe = frame.copy()`\n",
      "  super().__setitem__(key, value)\n",
      "/Users/irenefarah/Library/Python/3.9/lib/python/site-packages/geopandas/geodataframe.py:1528: PerformanceWarning: DataFrame is highly fragmented.  This is usually the result of calling `frame.insert` many times, which has poor performance.  Consider joining all columns at once using pd.concat(axis=1) instead. To get a de-fragmented frame, use `newframe = frame.copy()`\n",
      "  super().__setitem__(key, value)\n",
      "/Users/irenefarah/Library/Python/3.9/lib/python/site-packages/geopandas/geodataframe.py:1528: PerformanceWarning: DataFrame is highly fragmented.  This is usually the result of calling `frame.insert` many times, which has poor performance.  Consider joining all columns at once using pd.concat(axis=1) instead. To get a de-fragmented frame, use `newframe = frame.copy()`\n",
      "  super().__setitem__(key, value)\n"
     ]
    },
    {
     "name": "stdout",
     "output_type": "stream",
     "text": [
      "Total execution time for 800, 1600, and 2400 values: 8670.40 seconds\n"
     ]
    }
   ],
   "source": [
    "import time\n",
    "\n",
    "# Function to process the data for different upper values\n",
    "def process_data_for_upper(upper_value):\n",
    "    # Initialize the BallTree for the first iteration\n",
    "    tree = None\n",
    "    merged_dfs = []\n",
    "    correlation_results = []\n",
    "\n",
    "    for k in range(5, 160, 5):\n",
    "        # Step 1: Get nearest neighbors\n",
    "        closest, tree = get_nearest_neighbors(s_v, am_id, tree=tree, k_neighbors=k)\n",
    "\n",
    "        # Step 2: Clean dataframe\n",
    "        cost = clean_dataframe(closest)\n",
    "\n",
    "        # Step 3: Apply access measure\n",
    "        ''' This metric uses the nearest neighbor dataframe, the spatial geometry,\n",
    "          the upper limit to estimate the distance (in meters),\n",
    "          and the specify the parameter of the distance decay function.\n",
    "          This parameter specifies how willing a person is to travel,\n",
    "          weighing down the amenities that are at a particular distance. '''\n",
    "        \n",
    "        result = access_measure(cost, s_v, upper=upper_value, decay=0.008)\n",
    "\n",
    "        # Step 4: Merge with ws before saving\n",
    "        merged_df = ws.merge(result, on='ID')\n",
    "        merged_df = merged_df[['ssws2use_m', 'LogitT_5']].dropna()\n",
    "\n",
    "        # Append the merged dataframe to the list\n",
    "        merged_dfs.append(merged_df)\n",
    "\n",
    "        # Step 5: Calculate Spearman correlation for the current k and store it\n",
    "        correlation, _ = spearmanr(merged_df['ssws2use_m'], merged_df['LogitT_5'])\n",
    "        correlation_results.append({'k': k, 'correlation': correlation})\n",
    "\n",
    "    # After the loop, concatenate all the merged dataframes into one final dataframe\n",
    "    final_df = pd.concat(merged_dfs, ignore_index=True)\n",
    "\n",
    "    # Save the final concatenated dataframe if needed (optional)\n",
    "    #final_df.to_csv(f\"../output/correlations/final_merged_results{upper_value}.csv\", index=False)\n",
    "\n",
    "    # Convert correlation results to DataFrame and save\n",
    "    correlation_df = pd.DataFrame(correlation_results)\n",
    "    correlation_df.to_csv(f\"../output/correlations/final_correlation_results{upper_value}.csv\", index=False)\n",
    "\n",
    "# Start timing outside the function\n",
    "start_time = time.time()\n",
    "\n",
    "# Process for different upper values\n",
    "for upper in [800, 1600, 2400]:\n",
    "    process_data_for_upper(upper)\n",
    "\n",
    "# End time tracking\n",
    "end_time = time.time()\n",
    "\n",
    "# Calculate and print the total time taken\n",
    "execution_time = end_time - start_time\n",
    "print(f\"Total execution time for 800, 1600, and 2400 values: {execution_time:.2f} seconds\")"
   ]
  },
  {
   "cell_type": "markdown",
   "id": "f2443253-bde4-48bb-bfb0-3a6400269ca7",
   "metadata": {},
   "source": [
    "#### Create histogram"
   ]
  },
  {
   "cell_type": "code",
   "execution_count": 30,
   "id": "cc8e0ee0",
   "metadata": {},
   "outputs": [
    {
     "name": "stdout",
     "output_type": "stream",
     "text": [
      "k              30.000000\n",
      "correlation     0.911566\n",
      "Name: 5, dtype: float64\n"
     ]
    },
    {
     "data": {
      "image/png": "[encoded data removed]",
      "text/plain": [
       "<Figure size 1000x500 with 1 Axes>"
      ]
     },
     "metadata": {},
     "output_type": "display_data"
    },
    {
     "name": "stdout",
     "output_type": "stream",
     "text": [
      "k              15.000000\n",
      "correlation     0.907414\n",
      "Name: 2, dtype: float64\n"
     ]
    },
    {
     "data": {
      "image/png": "[encoded data removed]",
      "text/plain": [
       "<Figure size 1000x500 with 1 Axes>"
      ]
     },
     "metadata": {},
     "output_type": "display_data"
    },
    {
     "name": "stdout",
     "output_type": "stream",
     "text": [
      "k              15.000000\n",
      "correlation     0.905371\n",
      "Name: 2, dtype: float64\n"
     ]
    },
    {
     "data": {
      "image/png": "[encoded data removed]",
      "text/plain": [
       "<Figure size 1000x500 with 1 Axes>"
      ]
     },
     "metadata": {},
     "output_type": "display_data"
    }
   ],
   "source": [
    "# List of upper values to plot histograms for\n",
    "upper_values = [800, 1600, 2400]\n",
    "\n",
    "# Loop through each upper value and plot the histogram\n",
    "for upper in upper_values:\n",
    "    # Read the correlation CSV\n",
    "    correlation_df = pd.read_csv(f\"../output/correlations/final_correlation_results{upper}.csv\")\n",
    "\n",
    "    print(correlation_df.loc[correlation_df['correlation'].idxmax()])\n",
    "    \n",
    "    # Plot histogram\n",
    "    plt.figure(figsize=(10, 5))\n",
    "    plt.bar(correlation_df['k'], correlation_df['correlation'], width=4, edgecolor='black')\n",
    "    plt.xlabel('k (Neighbours)')\n",
    "    plt.ylabel('Spearman Correlation')\n",
    "    plt.title(f'Spearman Correlation vs k for upper={upper}')\n",
    "    plt.ylim(0.83, 0.92)\n",
    "    plt.show()\n"
   ]
  },
  {
   "cell_type": "markdown",
   "id": "abcdaa6a-4eca-4baf-ba1b-b9e4a07b8c14",
   "metadata": {},
   "source": [
    "Since the best correlation is between the original Walkscore and the model that has an upper threshold of 800 meters and 30 nearest neighbors amenities, we choose that model to estimate the historical data."
   ]
  }
 ],
 "metadata": {
  "kernelspec": {
   "display_name": "Python 3 (ipykernel)",
   "language": "python",
   "name": "python3"
  },
  "language_info": {
   "codemirror_mode": {
    "name": "ipython",
    "version": 3
   },
   "file_extension": ".py",
   "mimetype": "text/x-python",
   "name": "python",
   "nbconvert_exporter": "python",
   "pygments_lexer": "ipython3",
   "version": "3.9.6"
  }
 },
 "nbformat": 4,
 "nbformat_minor": 5
}
