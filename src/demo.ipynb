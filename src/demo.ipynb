{
 "cells": [
  {
   "cell_type": "markdown",
   "metadata": {},
   "source": [
    "# Demo -- Walkable Accessibility Score (WAS)"
   ]
  },
  {
   "cell_type": "markdown",
   "metadata": {},
   "source": [
    "### Date: July, 25, 2024"
   ]
  },
  {
   "cell_type": "markdown",
   "metadata": {},
   "source": [
    "### Compute a Walkable Accessibility Score (WAS) with a small number of data"
   ]
  },
  {
   "cell_type": "markdown",
   "metadata": {},
   "source": [
    "This notebook creates a Walkable Accessibility Score (WAS) computing the distance between businesses (points) and the centroids of block groups (points). The goal is to show through an example how to compute an access metric and to make it accessible enough for practitioners and scholars to use for their own purpose. Thus, businesses could be easily changed with other data of interest, such as schools, parks, or any other data. Also, the polygons (in this case, block groups), can be interchanged with other geographies, such as tracts, blocks or a similar type of geography that you might be interested in."
   ]
  },
  {
   "cell_type": "markdown",
   "metadata": {},
   "source": [
    "### 1. Load libraries needed"
   ]
  },
  {
   "cell_type": "code",
   "execution_count": 1,
   "metadata": {},
   "outputs": [
    {
     "name": "stderr",
     "output_type": "stream",
     "text": [
      "/Users/irenefarah/Library/Python/3.9/lib/python/site-packages/urllib3/__init__.py:34: NotOpenSSLWarning: urllib3 v2 only supports OpenSSL 1.1.1+, currently the 'ssl' module is compiled with 'LibreSSL 2.8.3'. See: https://github.com/urllib3/urllib3/issues/3020\n",
      "  warnings.warn(\n"
     ]
    }
   ],
   "source": [
    "# Load libraries for creating the score.\n",
    "from sklearn.neighbors import BallTree # Estimate nearest neighbors\n",
    "import numpy as np # Manipulate data and create functions\n",
    "import pandas as pd # Manipulate data frames (tables)\n",
    "import geopandas as gpd # Manipulate geographic data frames (tables with a geometry such as lines, polygons, or points.)\n",
    "\n",
    "# Libraries to download and format data from web URLs.\n",
    "import json      # Working with JSON-formatted text strings\n",
    "import requests  # Accessing content from web URLs"
   ]
  },
  {
   "cell_type": "code",
   "execution_count": 27,
   "metadata": {},
   "outputs": [],
   "source": [
    "# In case that you don't have the libraries installed, you can install them from here uncommenting the libraries needed:\n",
    "#! pip install sklearn\n",
    "#! pip install numpy\n",
    "#! pip install pandas\n",
    "#! pip install geopandas\n",
    "#! pip install json\n",
    "#! pip install requests"
   ]
  },
  {
   "cell_type": "markdown",
   "metadata": {},
   "source": [
    "### 2. Download data"
   ]
  },
  {
   "cell_type": "markdown",
   "metadata": {},
   "source": [
    "We need data that contain latitude and longitude as columns of the table.\n",
    "\n",
    "These could be points or centroids of polygons.\n",
    "In this example, using an API, we download business data from the City of Chicago open data portal: [data.cityofchicago.org](https://data.cityofchicago.org/Community-Economic-Development/Business-Licenses-Current-Active/uupf-x98q/about_data) and the geometries of the block groups from [IPUMS NHGIS](https://data2.nhgis.org/)."
   ]
  },
  {
   "cell_type": "code",
   "execution_count": 9,
   "metadata": {},
   "outputs": [
    {
     "data": {
      "text/html": [
       "<div>\n",
       "<style scoped>\n",
       "    .dataframe tbody tr th:only-of-type {\n",
       "        vertical-align: middle;\n",
       "    }\n",
       "\n",
       "    .dataframe tbody tr th {\n",
       "        vertical-align: top;\n",
       "    }\n",
       "\n",
       "    .dataframe thead th {\n",
       "        text-align: right;\n",
       "    }\n",
       "</style>\n",
       "<table border=\"1\" class=\"dataframe\">\n",
       "  <thead>\n",
       "    <tr style=\"text-align: right;\">\n",
       "      <th></th>\n",
       "      <th>license_description</th>\n",
       "      <th>zip_code</th>\n",
       "      <th>license_id</th>\n",
       "      <th>location</th>\n",
       "      <th>date_issued</th>\n",
       "      <th>city</th>\n",
       "      <th>ward_precinct</th>\n",
       "      <th>address</th>\n",
       "      <th>license_status</th>\n",
       "      <th>conditional_approval</th>\n",
       "      <th>...</th>\n",
       "      <th>license_number</th>\n",
       "      <th>license_approved_for_issuance</th>\n",
       "      <th>expiration_date</th>\n",
       "      <th>account_number</th>\n",
       "      <th>site_number</th>\n",
       "      <th>license_code</th>\n",
       "      <th>legal_name</th>\n",
       "      <th>id</th>\n",
       "      <th>payment_date</th>\n",
       "      <th>ssa</th>\n",
       "    </tr>\n",
       "  </thead>\n",
       "  <tbody>\n",
       "    <tr>\n",
       "      <th>0</th>\n",
       "      <td>Valet Parking Operator</td>\n",
       "      <td>60611</td>\n",
       "      <td>2977242</td>\n",
       "      <td>{'latitude': '41.89019627869941', 'human_addre...</td>\n",
       "      <td>2024-07-17T00:00:00.000</td>\n",
       "      <td>CHICAGO</td>\n",
       "      <td>42-25</td>\n",
       "      <td>30 E HUBBARD ST</td>\n",
       "      <td>AAI</td>\n",
       "      <td>N</td>\n",
       "      <td>...</td>\n",
       "      <td>2917753</td>\n",
       "      <td>2024-07-16T00:00:00.000</td>\n",
       "      <td>2025-06-30T00:00:00.000</td>\n",
       "      <td>488915</td>\n",
       "      <td>10</td>\n",
       "      <td>2101</td>\n",
       "      <td>ADVANCE PARKING SERVICE INC.</td>\n",
       "      <td>2917753-20241116</td>\n",
       "      <td>NaN</td>\n",
       "      <td>NaN</td>\n",
       "    </tr>\n",
       "    <tr>\n",
       "      <th>1</th>\n",
       "      <td>Limited Business License</td>\n",
       "      <td>60607</td>\n",
       "      <td>2978227</td>\n",
       "      <td>{'latitude': '41.876855139603904', 'human_addr...</td>\n",
       "      <td>2024-07-16T00:00:00.000</td>\n",
       "      <td>CHICAGO</td>\n",
       "      <td>34-16</td>\n",
       "      <td>550 W VAN BUREN ST 3 300</td>\n",
       "      <td>AAI</td>\n",
       "      <td>N</td>\n",
       "      <td>...</td>\n",
       "      <td>2896069</td>\n",
       "      <td>2024-07-15T00:00:00.000</td>\n",
       "      <td>2026-09-15T00:00:00.000</td>\n",
       "      <td>4553</td>\n",
       "      <td>4</td>\n",
       "      <td>1010</td>\n",
       "      <td>SUPERIOR GRAPHITE CO</td>\n",
       "      <td>2896069-20240916</td>\n",
       "      <td>2024-07-15T00:00:00.000</td>\n",
       "      <td>NaN</td>\n",
       "    </tr>\n",
       "    <tr>\n",
       "      <th>2</th>\n",
       "      <td>Limited Business License</td>\n",
       "      <td>60601</td>\n",
       "      <td>2980225</td>\n",
       "      <td>{'latitude': '41.88670773797291', 'human_addre...</td>\n",
       "      <td>2024-07-17T00:00:00.000</td>\n",
       "      <td>CHICAGO</td>\n",
       "      <td>42-9</td>\n",
       "      <td>77 W WACKER DR 7TH 700</td>\n",
       "      <td>AAI</td>\n",
       "      <td>N</td>\n",
       "      <td>...</td>\n",
       "      <td>1893713</td>\n",
       "      <td>2024-07-16T00:00:00.000</td>\n",
       "      <td>2026-09-15T00:00:00.000</td>\n",
       "      <td>325308</td>\n",
       "      <td>2</td>\n",
       "      <td>1010</td>\n",
       "      <td>ALYESKA INVESTMENT GROUP, L.P.</td>\n",
       "      <td>1893713-20240916</td>\n",
       "      <td>2024-07-16T00:00:00.000</td>\n",
       "      <td>NaN</td>\n",
       "    </tr>\n",
       "    <tr>\n",
       "      <th>3</th>\n",
       "      <td>Limited Business License</td>\n",
       "      <td>60606</td>\n",
       "      <td>2980276</td>\n",
       "      <td>{'latitude': '41.88053924995021', 'human_addre...</td>\n",
       "      <td>2024-07-18T00:00:00.000</td>\n",
       "      <td>CHICAGO</td>\n",
       "      <td>42-9</td>\n",
       "      <td>227 W MONROE ST 21ST</td>\n",
       "      <td>AAI</td>\n",
       "      <td>N</td>\n",
       "      <td>...</td>\n",
       "      <td>2972492</td>\n",
       "      <td>2024-07-17T00:00:00.000</td>\n",
       "      <td>2026-09-15T00:00:00.000</td>\n",
       "      <td>327365</td>\n",
       "      <td>2</td>\n",
       "      <td>1010</td>\n",
       "      <td>THE CHICAGO HIRE COMPANY</td>\n",
       "      <td>2972492-20240916</td>\n",
       "      <td>2024-07-17T00:00:00.000</td>\n",
       "      <td>NaN</td>\n",
       "    </tr>\n",
       "    <tr>\n",
       "      <th>4</th>\n",
       "      <td>Retail Food Establishment</td>\n",
       "      <td>60610</td>\n",
       "      <td>2980530</td>\n",
       "      <td>{'latitude': '41.89816036918342', 'human_addre...</td>\n",
       "      <td>2024-07-16T00:00:00.000</td>\n",
       "      <td>CHICAGO</td>\n",
       "      <td>42-45</td>\n",
       "      <td>850 N STATE ST</td>\n",
       "      <td>AAI</td>\n",
       "      <td>N</td>\n",
       "      <td>...</td>\n",
       "      <td>2856308</td>\n",
       "      <td>2024-07-15T00:00:00.000</td>\n",
       "      <td>2026-09-15T00:00:00.000</td>\n",
       "      <td>349928</td>\n",
       "      <td>19</td>\n",
       "      <td>1006</td>\n",
       "      <td>RDK VENTURES LLC</td>\n",
       "      <td>2856308-20240916</td>\n",
       "      <td>2024-07-15T00:00:00.000</td>\n",
       "      <td>NaN</td>\n",
       "    </tr>\n",
       "  </tbody>\n",
       "</table>\n",
       "<p>5 rows × 32 columns</p>\n",
       "</div>"
      ],
      "text/plain": [
       "         license_description zip_code license_id  \\\n",
       "0     Valet Parking Operator    60611    2977242   \n",
       "1   Limited Business License    60607    2978227   \n",
       "2   Limited Business License    60601    2980225   \n",
       "3   Limited Business License    60606    2980276   \n",
       "4  Retail Food Establishment    60610    2980530   \n",
       "\n",
       "                                            location              date_issued  \\\n",
       "0  {'latitude': '41.89019627869941', 'human_addre...  2024-07-17T00:00:00.000   \n",
       "1  {'latitude': '41.876855139603904', 'human_addr...  2024-07-16T00:00:00.000   \n",
       "2  {'latitude': '41.88670773797291', 'human_addre...  2024-07-17T00:00:00.000   \n",
       "3  {'latitude': '41.88053924995021', 'human_addre...  2024-07-18T00:00:00.000   \n",
       "4  {'latitude': '41.89816036918342', 'human_addre...  2024-07-16T00:00:00.000   \n",
       "\n",
       "      city ward_precinct                   address license_status  \\\n",
       "0  CHICAGO         42-25           30 E HUBBARD ST            AAI   \n",
       "1  CHICAGO         34-16  550 W VAN BUREN ST 3 300            AAI   \n",
       "2  CHICAGO          42-9    77 W WACKER DR 7TH 700            AAI   \n",
       "3  CHICAGO          42-9      227 W MONROE ST 21ST            AAI   \n",
       "4  CHICAGO         42-45            850 N STATE ST            AAI   \n",
       "\n",
       "  conditional_approval  ... license_number license_approved_for_issuance  \\\n",
       "0                    N  ...        2917753       2024-07-16T00:00:00.000   \n",
       "1                    N  ...        2896069       2024-07-15T00:00:00.000   \n",
       "2                    N  ...        1893713       2024-07-16T00:00:00.000   \n",
       "3                    N  ...        2972492       2024-07-17T00:00:00.000   \n",
       "4                    N  ...        2856308       2024-07-15T00:00:00.000   \n",
       "\n",
       "           expiration_date account_number site_number license_code  \\\n",
       "0  2025-06-30T00:00:00.000         488915          10         2101   \n",
       "1  2026-09-15T00:00:00.000           4553           4         1010   \n",
       "2  2026-09-15T00:00:00.000         325308           2         1010   \n",
       "3  2026-09-15T00:00:00.000         327365           2         1010   \n",
       "4  2026-09-15T00:00:00.000         349928          19         1006   \n",
       "\n",
       "                       legal_name                id             payment_date  \\\n",
       "0    ADVANCE PARKING SERVICE INC.  2917753-20241116                      NaN   \n",
       "1            SUPERIOR GRAPHITE CO  2896069-20240916  2024-07-15T00:00:00.000   \n",
       "2  ALYESKA INVESTMENT GROUP, L.P.  1893713-20240916  2024-07-16T00:00:00.000   \n",
       "3        THE CHICAGO HIRE COMPANY  2972492-20240916  2024-07-17T00:00:00.000   \n",
       "4                RDK VENTURES LLC  2856308-20240916  2024-07-15T00:00:00.000   \n",
       "\n",
       "   ssa  \n",
       "0  NaN  \n",
       "1  NaN  \n",
       "2  NaN  \n",
       "3  NaN  \n",
       "4  NaN  \n",
       "\n",
       "[5 rows x 32 columns]"
      ]
     },
     "execution_count": 9,
     "metadata": {},
     "output_type": "execute_result"
    }
   ],
   "source": [
    "# Download data\n",
    "endpoint_url = \"https://data.cityofchicago.org/resource/uupf-x98q.json\" # Reads up to a 1,000 rows\n",
    "response = requests.get(endpoint_url)\n",
    "results = response.text\n",
    "\n",
    "# parse the string into a Python dictionary (loads = \"load string\")\n",
    "data = json.loads(results)\n",
    "\n",
    "# Convert list of dictionaries to Pandas dataframe (easier to read and format)\n",
    "df = pd.DataFrame.from_records(data)\n",
    "\n",
    "df.head()"
   ]
  },
  {
   "cell_type": "markdown",
   "metadata": {},
   "source": [
    "### 3. Know your data!"
   ]
  },
  {
   "cell_type": "markdown",
   "metadata": {},
   "source": [
    "#### Check how large is your data and what information it contains."
   ]
  },
  {
   "cell_type": "code",
   "execution_count": 11,
   "metadata": {},
   "outputs": [
    {
     "name": "stdout",
     "output_type": "stream",
     "text": [
      "There are 1000 rows in your dataset.\n"
     ]
    }
   ],
   "source": [
    "print(\"There are \" + str(len(df)) + \" rows in your dataset.\")"
   ]
  },
  {
   "cell_type": "markdown",
   "metadata": {},
   "source": [
    "The table contains the followning information:"
   ]
  },
  {
   "cell_type": "code",
   "execution_count": 9,
   "metadata": {},
   "outputs": [
    {
     "data": {
      "text/plain": [
       "['account_number',\n",
       " 'address',\n",
       " 'application_requirements_complete',\n",
       " 'application_type',\n",
       " 'business_activity',\n",
       " 'business_activity_id',\n",
       " 'city',\n",
       " 'conditional_approval',\n",
       " 'date_issued',\n",
       " 'doing_business_as_name',\n",
       " 'expiration_date',\n",
       " 'id',\n",
       " 'latitude',\n",
       " 'legal_name',\n",
       " 'license_approved_for_issuance',\n",
       " 'license_code',\n",
       " 'license_description',\n",
       " 'license_id',\n",
       " 'license_number',\n",
       " 'license_start_date',\n",
       " 'license_status',\n",
       " 'location',\n",
       " 'longitude',\n",
       " 'payment_date',\n",
       " 'police_district',\n",
       " 'precinct',\n",
       " 'site_number',\n",
       " 'ssa',\n",
       " 'state',\n",
       " 'ward',\n",
       " 'ward_precinct',\n",
       " 'zip_code']"
      ]
     },
     "execution_count": 9,
     "metadata": {},
     "output_type": "execute_result"
    }
   ],
   "source": [
    "sorted(list(df.columns.values.tolist())) # Make sure there are \"latitude\" and \"longitude\" columns"
   ]
  },
  {
   "cell_type": "markdown",
   "metadata": {},
   "source": [
    "### 4. Bring in the spatial!"
   ]
  },
  {
   "cell_type": "code",
   "execution_count": 12,
   "metadata": {},
   "outputs": [],
   "source": [
    "# Create a geodataframe from coordinates (latitude and longitude)\n",
    "gdf = gpd.GeoDataFrame(\n",
    "    df,\n",
    "    geometry=gpd.points_from_xy(df.longitude, df.latitude),\n",
    "    crs='epsg:4326') # epsg specifies the projection"
   ]
  },
  {
   "cell_type": "code",
   "execution_count": 13,
   "metadata": {},
   "outputs": [
    {
     "data": {
      "text/html": [
       "<div>\n",
       "<style scoped>\n",
       "    .dataframe tbody tr th:only-of-type {\n",
       "        vertical-align: middle;\n",
       "    }\n",
       "\n",
       "    .dataframe tbody tr th {\n",
       "        vertical-align: top;\n",
       "    }\n",
       "\n",
       "    .dataframe thead th {\n",
       "        text-align: right;\n",
       "    }\n",
       "</style>\n",
       "<table border=\"1\" class=\"dataframe\">\n",
       "  <thead>\n",
       "    <tr style=\"text-align: right;\">\n",
       "      <th></th>\n",
       "      <th>license_description</th>\n",
       "      <th>zip_code</th>\n",
       "      <th>license_id</th>\n",
       "      <th>location</th>\n",
       "      <th>date_issued</th>\n",
       "      <th>city</th>\n",
       "      <th>ward_precinct</th>\n",
       "      <th>address</th>\n",
       "      <th>license_status</th>\n",
       "      <th>conditional_approval</th>\n",
       "      <th>...</th>\n",
       "      <th>license_approved_for_issuance</th>\n",
       "      <th>expiration_date</th>\n",
       "      <th>account_number</th>\n",
       "      <th>site_number</th>\n",
       "      <th>license_code</th>\n",
       "      <th>legal_name</th>\n",
       "      <th>id</th>\n",
       "      <th>payment_date</th>\n",
       "      <th>ssa</th>\n",
       "      <th>geometry</th>\n",
       "    </tr>\n",
       "  </thead>\n",
       "  <tbody>\n",
       "    <tr>\n",
       "      <th>0</th>\n",
       "      <td>Valet Parking Operator</td>\n",
       "      <td>60611</td>\n",
       "      <td>2977242</td>\n",
       "      <td>{'latitude': '41.89019627869941', 'human_addre...</td>\n",
       "      <td>2024-07-17T00:00:00.000</td>\n",
       "      <td>CHICAGO</td>\n",
       "      <td>42-25</td>\n",
       "      <td>30 E HUBBARD ST</td>\n",
       "      <td>AAI</td>\n",
       "      <td>N</td>\n",
       "      <td>...</td>\n",
       "      <td>2024-07-16T00:00:00.000</td>\n",
       "      <td>2025-06-30T00:00:00.000</td>\n",
       "      <td>488915</td>\n",
       "      <td>10</td>\n",
       "      <td>2101</td>\n",
       "      <td>ADVANCE PARKING SERVICE INC.</td>\n",
       "      <td>2917753-20241116</td>\n",
       "      <td>NaN</td>\n",
       "      <td>NaN</td>\n",
       "      <td>POINT (-87.62674 41.8902)</td>\n",
       "    </tr>\n",
       "    <tr>\n",
       "      <th>1</th>\n",
       "      <td>Limited Business License</td>\n",
       "      <td>60607</td>\n",
       "      <td>2978227</td>\n",
       "      <td>{'latitude': '41.876855139603904', 'human_addr...</td>\n",
       "      <td>2024-07-16T00:00:00.000</td>\n",
       "      <td>CHICAGO</td>\n",
       "      <td>34-16</td>\n",
       "      <td>550 W VAN BUREN ST 3 300</td>\n",
       "      <td>AAI</td>\n",
       "      <td>N</td>\n",
       "      <td>...</td>\n",
       "      <td>2024-07-15T00:00:00.000</td>\n",
       "      <td>2026-09-15T00:00:00.000</td>\n",
       "      <td>4553</td>\n",
       "      <td>4</td>\n",
       "      <td>1010</td>\n",
       "      <td>SUPERIOR GRAPHITE CO</td>\n",
       "      <td>2896069-20240916</td>\n",
       "      <td>2024-07-15T00:00:00.000</td>\n",
       "      <td>NaN</td>\n",
       "      <td>POINT (-87.64154 41.87686)</td>\n",
       "    </tr>\n",
       "    <tr>\n",
       "      <th>2</th>\n",
       "      <td>Limited Business License</td>\n",
       "      <td>60601</td>\n",
       "      <td>2980225</td>\n",
       "      <td>{'latitude': '41.88670773797291', 'human_addre...</td>\n",
       "      <td>2024-07-17T00:00:00.000</td>\n",
       "      <td>CHICAGO</td>\n",
       "      <td>42-9</td>\n",
       "      <td>77 W WACKER DR 7TH 700</td>\n",
       "      <td>AAI</td>\n",
       "      <td>N</td>\n",
       "      <td>...</td>\n",
       "      <td>2024-07-16T00:00:00.000</td>\n",
       "      <td>2026-09-15T00:00:00.000</td>\n",
       "      <td>325308</td>\n",
       "      <td>2</td>\n",
       "      <td>1010</td>\n",
       "      <td>ALYESKA INVESTMENT GROUP, L.P.</td>\n",
       "      <td>1893713-20240916</td>\n",
       "      <td>2024-07-16T00:00:00.000</td>\n",
       "      <td>NaN</td>\n",
       "      <td>POINT (-87.63079 41.88671)</td>\n",
       "    </tr>\n",
       "  </tbody>\n",
       "</table>\n",
       "<p>3 rows × 33 columns</p>\n",
       "</div>"
      ],
      "text/plain": [
       "        license_description zip_code license_id  \\\n",
       "0    Valet Parking Operator    60611    2977242   \n",
       "1  Limited Business License    60607    2978227   \n",
       "2  Limited Business License    60601    2980225   \n",
       "\n",
       "                                            location              date_issued  \\\n",
       "0  {'latitude': '41.89019627869941', 'human_addre...  2024-07-17T00:00:00.000   \n",
       "1  {'latitude': '41.876855139603904', 'human_addr...  2024-07-16T00:00:00.000   \n",
       "2  {'latitude': '41.88670773797291', 'human_addre...  2024-07-17T00:00:00.000   \n",
       "\n",
       "      city ward_precinct                   address license_status  \\\n",
       "0  CHICAGO         42-25           30 E HUBBARD ST            AAI   \n",
       "1  CHICAGO         34-16  550 W VAN BUREN ST 3 300            AAI   \n",
       "2  CHICAGO          42-9    77 W WACKER DR 7TH 700            AAI   \n",
       "\n",
       "  conditional_approval  ... license_approved_for_issuance  \\\n",
       "0                    N  ...       2024-07-16T00:00:00.000   \n",
       "1                    N  ...       2024-07-15T00:00:00.000   \n",
       "2                    N  ...       2024-07-16T00:00:00.000   \n",
       "\n",
       "           expiration_date account_number site_number license_code  \\\n",
       "0  2025-06-30T00:00:00.000         488915          10         2101   \n",
       "1  2026-09-15T00:00:00.000           4553           4         1010   \n",
       "2  2026-09-15T00:00:00.000         325308           2         1010   \n",
       "\n",
       "                       legal_name                id             payment_date  \\\n",
       "0    ADVANCE PARKING SERVICE INC.  2917753-20241116                      NaN   \n",
       "1            SUPERIOR GRAPHITE CO  2896069-20240916  2024-07-15T00:00:00.000   \n",
       "2  ALYESKA INVESTMENT GROUP, L.P.  1893713-20240916  2024-07-16T00:00:00.000   \n",
       "\n",
       "   ssa                    geometry  \n",
       "0  NaN   POINT (-87.62674 41.8902)  \n",
       "1  NaN  POINT (-87.64154 41.87686)  \n",
       "2  NaN  POINT (-87.63079 41.88671)  \n",
       "\n",
       "[3 rows x 33 columns]"
      ]
     },
     "execution_count": 13,
     "metadata": {},
     "output_type": "execute_result"
    }
   ],
   "source": [
    "# Note that a geometry column is added at the end of the table\n",
    "gdf.head(3)"
   ]
  },
  {
   "cell_type": "code",
   "execution_count": 14,
   "metadata": {},
   "outputs": [],
   "source": [
    "# Change the Coordinate Reference System (CRS)\n",
    "# Check for different projections here: https://epsg.io/\n",
    "gdf = gdf.to_crs('esri:102003')"
   ]
  },
  {
   "cell_type": "code",
   "execution_count": 15,
   "metadata": {},
   "outputs": [
    {
     "data": {
      "text/plain": [
       "<Projected CRS: ESRI:102003>\n",
       "Name: USA_Contiguous_Albers_Equal_Area_Conic\n",
       "Axis Info [cartesian]:\n",
       "- E[east]: Easting (metre)\n",
       "- N[north]: Northing (metre)\n",
       "Area of Use:\n",
       "- name: United States (USA) - CONUS onshore - Alabama; Arizona; Arkansas; California; Colorado; Connecticut; Delaware; Florida; Georgia; Idaho; Illinois; Indiana; Iowa; Kansas; Kentucky; Louisiana; Maine; Maryland; Massachusetts; Michigan; Minnesota; Mississippi; Missouri; Montana; Nebraska; Nevada; New Hampshire; New Jersey; New Mexico; New York; North Carolina; North Dakota; Ohio; Oklahoma; Oregon; Pennsylvania; Rhode Island; South Carolina; South Dakota; Tennessee; Texas; Utah; Vermont; Virginia; Washington; West Virginia; Wisconsin; Wyoming.\n",
       "- bounds: (-124.79, 24.41, -66.91, 49.38)\n",
       "Coordinate Operation:\n",
       "- name: USA_Contiguous_Albers_Equal_Area_Conic\n",
       "- method: Albers Equal Area\n",
       "Datum: North American Datum 1983\n",
       "- Ellipsoid: GRS 1980\n",
       "- Prime Meridian: Greenwich"
      ]
     },
     "execution_count": 15,
     "metadata": {},
     "output_type": "execute_result"
    }
   ],
   "source": [
    "# Check that the CRS actually changed\n",
    "gdf.crs"
   ]
  },
  {
   "cell_type": "code",
   "execution_count": 16,
   "metadata": {},
   "outputs": [],
   "source": [
    "# Make sure that the geometry for each row has a value\n",
    "gdf = gdf[~gdf.is_empty]"
   ]
  },
  {
   "cell_type": "code",
   "execution_count": 17,
   "metadata": {},
   "outputs": [
    {
     "name": "stdout",
     "output_type": "stream",
     "text": [
      "The data contains 923 rows.\n"
     ]
    }
   ],
   "source": [
    "print(\"The data contains \" + str(len(gdf)) + \" rows.\")"
   ]
  },
  {
   "cell_type": "markdown",
   "metadata": {},
   "source": [
    "#### 4.3 Add more data: schools and parks"
   ]
  },
  {
   "cell_type": "code",
   "execution_count": null,
   "metadata": {},
   "outputs": [],
   "source": [
    "\n",
    "# I skipped this one now (Irene)\n",
    "\n",
    "# Add 2011 GreatSchools school data (can use other sources)\n",
    "sch = gpd.read_file('GreatSchools_2011_us48.shp') \n",
    "sch = sch.to_crs('esri:102003')\n",
    "#2021 ESRI parks data (centroids)\n",
    "prk = gpd.read_file('Centroids_for_USA_Parks_2021_Buffer2.shp') \n",
    "prk = prk.to_crs('esri:102003')"
   ]
  },
  {
   "cell_type": "code",
   "execution_count": null,
   "metadata": {},
   "outputs": [],
   "source": [
    "\n",
    "#I skipped this one now (Irene)\n",
    "\n",
    "lst=[gbis,sch,prk]\n",
    "am=pd.concat(lst, ignore_index=True, axis=0)\n",
    "am[\"ID\"] = am.index"
   ]
  },
  {
   "cell_type": "code",
   "execution_count": 18,
   "metadata": {},
   "outputs": [
    {
     "data": {
      "text/html": [
       "<div>\n",
       "<style scoped>\n",
       "    .dataframe tbody tr th:only-of-type {\n",
       "        vertical-align: middle;\n",
       "    }\n",
       "\n",
       "    .dataframe tbody tr th {\n",
       "        vertical-align: top;\n",
       "    }\n",
       "\n",
       "    .dataframe thead th {\n",
       "        text-align: right;\n",
       "    }\n",
       "</style>\n",
       "<table border=\"1\" class=\"dataframe\">\n",
       "  <thead>\n",
       "    <tr style=\"text-align: right;\">\n",
       "      <th></th>\n",
       "      <th>geometry</th>\n",
       "    </tr>\n",
       "  </thead>\n",
       "  <tbody>\n",
       "    <tr>\n",
       "      <th>0</th>\n",
       "      <td>POINT (689027.03 522216.763)</td>\n",
       "    </tr>\n",
       "    <tr>\n",
       "      <th>1</th>\n",
       "      <td>POINT (687942.698 520622.685)</td>\n",
       "    </tr>\n",
       "    <tr>\n",
       "      <th>2</th>\n",
       "      <td>POINT (688728.2 521798.565)</td>\n",
       "    </tr>\n",
       "    <tr>\n",
       "      <th>3</th>\n",
       "      <td>POINT (688477.137 521083.604)</td>\n",
       "    </tr>\n",
       "    <tr>\n",
       "      <th>4</th>\n",
       "      <td>POINT (688813.081 523092.326)</td>\n",
       "    </tr>\n",
       "    <tr>\n",
       "      <th>...</th>\n",
       "      <td>...</td>\n",
       "    </tr>\n",
       "    <tr>\n",
       "      <th>995</th>\n",
       "      <td>POINT (678490.812 524274.869)</td>\n",
       "    </tr>\n",
       "    <tr>\n",
       "      <th>996</th>\n",
       "      <td>POINT (672704.208 531505.752)</td>\n",
       "    </tr>\n",
       "    <tr>\n",
       "      <th>997</th>\n",
       "      <td>POINT (688649.216 521117.42)</td>\n",
       "    </tr>\n",
       "    <tr>\n",
       "      <th>998</th>\n",
       "      <td>POINT (689722 518075.108)</td>\n",
       "    </tr>\n",
       "    <tr>\n",
       "      <th>999</th>\n",
       "      <td>POINT (683395.416 528457.237)</td>\n",
       "    </tr>\n",
       "  </tbody>\n",
       "</table>\n",
       "<p>923 rows × 1 columns</p>\n",
       "</div>"
      ],
      "text/plain": [
       "                          geometry\n",
       "0     POINT (689027.03 522216.763)\n",
       "1    POINT (687942.698 520622.685)\n",
       "2      POINT (688728.2 521798.565)\n",
       "3    POINT (688477.137 521083.604)\n",
       "4    POINT (688813.081 523092.326)\n",
       "..                             ...\n",
       "995  POINT (678490.812 524274.869)\n",
       "996  POINT (672704.208 531505.752)\n",
       "997   POINT (688649.216 521117.42)\n",
       "998      POINT (689722 518075.108)\n",
       "999  POINT (683395.416 528457.237)\n",
       "\n",
       "[923 rows x 1 columns]"
      ]
     },
     "execution_count": 18,
     "metadata": {},
     "output_type": "execute_result"
    }
   ],
   "source": [
    "# Change this one back from gdf to am (Irene)\n",
    "\n",
    "# Isolate the geometry of the data\n",
    "am_id = gdf[['geometry']]\n",
    "am_id"
   ]
  },
  {
   "cell_type": "markdown",
   "metadata": {},
   "source": [
    "### 5. Load the geography!"
   ]
  },
  {
   "cell_type": "markdown",
   "metadata": {},
   "source": [
    "#### 5.1. In this case, we upload block groups"
   ]
  },
  {
   "cell_type": "code",
   "execution_count": 23,
   "metadata": {},
   "outputs": [
    {
     "data": {
      "text/html": [
       "<div>\n",
       "<style scoped>\n",
       "    .dataframe tbody tr th:only-of-type {\n",
       "        vertical-align: middle;\n",
       "    }\n",
       "\n",
       "    .dataframe tbody tr th {\n",
       "        vertical-align: top;\n",
       "    }\n",
       "\n",
       "    .dataframe thead th {\n",
       "        text-align: right;\n",
       "    }\n",
       "</style>\n",
       "<table border=\"1\" class=\"dataframe\">\n",
       "  <thead>\n",
       "    <tr style=\"text-align: right;\">\n",
       "      <th></th>\n",
       "      <th>STATEFP</th>\n",
       "      <th>COUNTYFP</th>\n",
       "      <th>TRACTCE</th>\n",
       "      <th>BLKGRPCE</th>\n",
       "      <th>GEOID</th>\n",
       "      <th>NAMELSAD</th>\n",
       "      <th>MTFCC</th>\n",
       "      <th>FUNCSTAT</th>\n",
       "      <th>ALAND</th>\n",
       "      <th>AWATER</th>\n",
       "      <th>INTPTLAT</th>\n",
       "      <th>INTPTLON</th>\n",
       "      <th>GISJOIN</th>\n",
       "      <th>Shape_Leng</th>\n",
       "      <th>Shape_Area</th>\n",
       "      <th>geometry</th>\n",
       "    </tr>\n",
       "  </thead>\n",
       "  <tbody>\n",
       "    <tr>\n",
       "      <th>0</th>\n",
       "      <td>06</td>\n",
       "      <td>001</td>\n",
       "      <td>400100</td>\n",
       "      <td>1</td>\n",
       "      <td>060014001001</td>\n",
       "      <td>Block Group 1</td>\n",
       "      <td>G5030</td>\n",
       "      <td>S</td>\n",
       "      <td>6894340.0</td>\n",
       "      <td>0.0</td>\n",
       "      <td>+37.8676275</td>\n",
       "      <td>-122.2319460</td>\n",
       "      <td>G06000104001001</td>\n",
       "      <td>14302.720874</td>\n",
       "      <td>6.894336e+06</td>\n",
       "      <td>POLYGON ((-2255602.272 353149.335, -2255597.39...</td>\n",
       "    </tr>\n",
       "    <tr>\n",
       "      <th>1</th>\n",
       "      <td>06</td>\n",
       "      <td>001</td>\n",
       "      <td>400200</td>\n",
       "      <td>1</td>\n",
       "      <td>060014002001</td>\n",
       "      <td>Block Group 1</td>\n",
       "      <td>G5030</td>\n",
       "      <td>S</td>\n",
       "      <td>288960.0</td>\n",
       "      <td>0.0</td>\n",
       "      <td>+37.8497418</td>\n",
       "      <td>-122.2488605</td>\n",
       "      <td>G06000104002001</td>\n",
       "      <td>2970.286365</td>\n",
       "      <td>2.889614e+05</td>\n",
       "      <td>POLYGON ((-2258184.246 353217.527, -2258186.81...</td>\n",
       "    </tr>\n",
       "    <tr>\n",
       "      <th>2</th>\n",
       "      <td>06</td>\n",
       "      <td>001</td>\n",
       "      <td>400200</td>\n",
       "      <td>2</td>\n",
       "      <td>060014002002</td>\n",
       "      <td>Block Group 2</td>\n",
       "      <td>G5030</td>\n",
       "      <td>S</td>\n",
       "      <td>298490.0</td>\n",
       "      <td>0.0</td>\n",
       "      <td>+37.8465865</td>\n",
       "      <td>-122.2503095</td>\n",
       "      <td>G06000104002002</td>\n",
       "      <td>3162.343955</td>\n",
       "      <td>2.984887e+05</td>\n",
       "      <td>POLYGON ((-2258439.13 352894.146, -2258619.651...</td>\n",
       "    </tr>\n",
       "    <tr>\n",
       "      <th>3</th>\n",
       "      <td>06</td>\n",
       "      <td>001</td>\n",
       "      <td>400300</td>\n",
       "      <td>1</td>\n",
       "      <td>060014003001</td>\n",
       "      <td>Block Group 1</td>\n",
       "      <td>G5030</td>\n",
       "      <td>S</td>\n",
       "      <td>265695.0</td>\n",
       "      <td>0.0</td>\n",
       "      <td>+37.8439848</td>\n",
       "      <td>-122.2486668</td>\n",
       "      <td>G06000104003001</td>\n",
       "      <td>2553.074982</td>\n",
       "      <td>2.656948e+05</td>\n",
       "      <td>POLYGON ((-2258662.984 352641.307, -2258755.16...</td>\n",
       "    </tr>\n",
       "    <tr>\n",
       "      <th>4</th>\n",
       "      <td>06</td>\n",
       "      <td>001</td>\n",
       "      <td>400300</td>\n",
       "      <td>2</td>\n",
       "      <td>060014003002</td>\n",
       "      <td>Block Group 2</td>\n",
       "      <td>G5030</td>\n",
       "      <td>S</td>\n",
       "      <td>269098.0</td>\n",
       "      <td>0.0</td>\n",
       "      <td>+37.8362550</td>\n",
       "      <td>-122.2516875</td>\n",
       "      <td>G06000104003002</td>\n",
       "      <td>3529.914115</td>\n",
       "      <td>2.690995e+05</td>\n",
       "      <td>POLYGON ((-2259955.644 352133.337, -2259945.80...</td>\n",
       "    </tr>\n",
       "  </tbody>\n",
       "</table>\n",
       "</div>"
      ],
      "text/plain": [
       "  STATEFP COUNTYFP TRACTCE BLKGRPCE         GEOID       NAMELSAD  MTFCC  \\\n",
       "0      06      001  400100        1  060014001001  Block Group 1  G5030   \n",
       "1      06      001  400200        1  060014002001  Block Group 1  G5030   \n",
       "2      06      001  400200        2  060014002002  Block Group 2  G5030   \n",
       "3      06      001  400300        1  060014003001  Block Group 1  G5030   \n",
       "4      06      001  400300        2  060014003002  Block Group 2  G5030   \n",
       "\n",
       "  FUNCSTAT      ALAND  AWATER     INTPTLAT      INTPTLON          GISJOIN  \\\n",
       "0        S  6894340.0     0.0  +37.8676275  -122.2319460  G06000104001001   \n",
       "1        S   288960.0     0.0  +37.8497418  -122.2488605  G06000104002001   \n",
       "2        S   298490.0     0.0  +37.8465865  -122.2503095  G06000104002002   \n",
       "3        S   265695.0     0.0  +37.8439848  -122.2486668  G06000104003001   \n",
       "4        S   269098.0     0.0  +37.8362550  -122.2516875  G06000104003002   \n",
       "\n",
       "     Shape_Leng    Shape_Area  \\\n",
       "0  14302.720874  6.894336e+06   \n",
       "1   2970.286365  2.889614e+05   \n",
       "2   3162.343955  2.984887e+05   \n",
       "3   2553.074982  2.656948e+05   \n",
       "4   3529.914115  2.690995e+05   \n",
       "\n",
       "                                            geometry  \n",
       "0  POLYGON ((-2255602.272 353149.335, -2255597.39...  \n",
       "1  POLYGON ((-2258184.246 353217.527, -2258186.81...  \n",
       "2  POLYGON ((-2258439.13 352894.146, -2258619.651...  \n",
       "3  POLYGON ((-2258662.984 352641.307, -2258755.16...  \n",
       "4  POLYGON ((-2259955.644 352133.337, -2259945.80...  "
      ]
     },
     "execution_count": 23,
     "metadata": {},
     "output_type": "execute_result"
    }
   ],
   "source": [
    "# Block group file we're using in this case - one spatial deifnition of demand units for all time periods\n",
    "s_v = gpd.read_file('WAS_USA/data/US_blck_grp_2015.shp') # Load geography (oftentimes as shapefile).\n",
    "\n",
    "# Check the data\n",
    "s_v.head()"
   ]
  },
  {
   "cell_type": "code",
   "execution_count": 24,
   "metadata": {},
   "outputs": [],
   "source": [
    "# Clean the geometry data\n",
    "s_v = s_v.set_crs('esri:102003', allow_override=True) # Set the Coordinate Reference System\n",
    "s_v.rename(columns={'GEOID': 'ID'}, inplace=True) # Rename the columns for convenience"
   ]
  },
  {
   "cell_type": "code",
   "execution_count": 26,
   "metadata": {},
   "outputs": [
    {
     "data": {
      "text/plain": [
       "219768"
      ]
     },
     "execution_count": 26,
     "metadata": {},
     "output_type": "execute_result"
    }
   ],
   "source": [
    "#Size of the dataset\n",
    "len(s_v)"
   ]
  },
  {
   "cell_type": "markdown",
   "metadata": {},
   "source": [
    "#### 5.2 Create subsets of data to *avoid* computing irrelevant distances."
   ]
  },
  {
   "cell_type": "markdown",
   "metadata": {},
   "source": [
    "In this case, we create a subset of continental US Block Groups to avoid estimating distances between a business in California and a block group in New York."
   ]
  },
  {
   "cell_type": "code",
   "execution_count": 27,
   "metadata": {},
   "outputs": [],
   "source": [
    "# Kevin -- not sure how you defined these cutoffs? (Irene)\n",
    "s_v1 = s_v.iloc[0:43167]\n",
    "s_v1 = s_v1.reset_index(drop=True)\n",
    "\n",
    "s_v2 = s_v.iloc[43167:86333]\n",
    "s_v2 = s_v2.reset_index(drop=True)\n",
    "\n",
    "s_v3 = s_v.iloc[86333:129500]\n",
    "s_v3 = s_v3.reset_index(drop=True)\n",
    "\n",
    "s_v4 = s_v.iloc[129500:172666]\n",
    "s_v4 = s_v4.reset_index(drop=True)\n",
    "\n",
    "s_v5 = s_v.iloc[172666:len(s_v)]\n",
    "s_v5 = s_v5.reset_index(drop=True)"
   ]
  },
  {
   "cell_type": "markdown",
   "metadata": {},
   "source": [
    "### 6. We have the data ready, let's create the access score!"
   ]
  },
  {
   "cell_type": "markdown",
   "metadata": {},
   "source": [
    "#### 6.1. Find number of nearest k POI points to each block group"
   ]
  },
  {
   "cell_type": "code",
   "execution_count": 28,
   "metadata": {},
   "outputs": [],
   "source": [
    "# This cell is creating a function for eastimating nearest neighbors from point to point.\n",
    "\n",
    "def get_nearest_neighbors(gdf1, gdf2, k_neighbors=2):\n",
    "    '''Find k nearest neighbors for all source points from a set of candidate points\n",
    "    modified from: https://automating-gis-processes.github.io/site/notebooks/L3/nearest-neighbor-faster.html    \n",
    "    Parameters\n",
    "    ----------\n",
    "    gdf1 : geopandas.DataFrame\n",
    "    Geometries to search from.\n",
    "    gdf2 : geopandas.DataFrame\n",
    "    Geoemtries to be searched.\n",
    "    k_neighbors : int, optional\n",
    "    Number of nearest neighbors. The default is 2.\n",
    "    Returns\n",
    "    -------\n",
    "    gdf_final : geopandas.DataFrame\n",
    "    gdf1 with distance, index and all other columns from gdf2.'''\n",
    "\n",
    "    src_points = [(x,y) for x,y in zip(gdf1.geometry.x , gdf1.geometry.y)]\n",
    "    candidates =  [(x,y) for x,y in zip(gdf2.geometry.x , gdf2.geometry.y)]\n",
    "\n",
    "    # Create tree from the candidate points\n",
    "    tree = BallTree(candidates, leaf_size=15, metric='euclidean')\n",
    "\n",
    "    # Find closest points and distances\n",
    "    distances, indices = tree.query(src_points, k=k_neighbors)\n",
    "\n",
    "    # Transpose to get distances and indices into arrays\n",
    "    distances = distances.transpose()\n",
    "    indices = indices.transpose()\n",
    "\n",
    "    closest_gdfs = []\n",
    "    for k in np.arange(k_neighbors):\n",
    "        gdf_new = gdf2.iloc[indices[k]].reset_index()\n",
    "        gdf_new['distance'] =  distances[k]\n",
    "        gdf_new = gdf_new.add_suffix(f'_{k+1}')\n",
    "        closest_gdfs.append(gdf_new)\n",
    "    \n",
    "    closest_gdfs.insert(0,gdf1)    \n",
    "    gdf_final = pd.concat(closest_gdfs,axis=1)\n",
    "\n",
    "    return gdf_final"
   ]
  },
  {
   "cell_type": "code",
   "execution_count": 29,
   "metadata": {},
   "outputs": [
    {
     "ename": "ValueError",
     "evalue": "x attribute access only provided for Point geometries",
     "output_type": "error",
     "traceback": [
      "\u001b[0;31m---------------------------------------------------------------------------\u001b[0m",
      "\u001b[0;31mValueError\u001b[0m                                Traceback (most recent call last)",
      "Cell \u001b[0;32mIn[29], line 3\u001b[0m\n\u001b[1;32m      1\u001b[0m \u001b[38;5;66;03m#find closest k amenities for each BG and get also the distance based on Euclidean distance\u001b[39;00m\n\u001b[1;32m      2\u001b[0m \u001b[38;5;66;03m#whole US subsets\u001b[39;00m\n\u001b[0;32m----> 3\u001b[0m closest_am1 \u001b[38;5;241m=\u001b[39m \u001b[43mget_nearest_neighbors\u001b[49m\u001b[43m(\u001b[49m\u001b[43ms_v1\u001b[49m\u001b[43m,\u001b[49m\u001b[43m \u001b[49m\u001b[43mam_id\u001b[49m\u001b[43m,\u001b[49m\u001b[43m \u001b[49m\u001b[43mk_neighbors\u001b[49m\u001b[38;5;241;43m=\u001b[39;49m\u001b[38;5;241;43m150\u001b[39;49m\u001b[43m)\u001b[49m\n\u001b[1;32m      4\u001b[0m closest_am2 \u001b[38;5;241m=\u001b[39m get_nearest_neighbors(s_v2, am_id, k_neighbors\u001b[38;5;241m=\u001b[39m\u001b[38;5;241m150\u001b[39m)\n\u001b[1;32m      5\u001b[0m closest_am3 \u001b[38;5;241m=\u001b[39m get_nearest_neighbors(s_v3, am_id, k_neighbors\u001b[38;5;241m=\u001b[39m\u001b[38;5;241m150\u001b[39m)\n",
      "Cell \u001b[0;32mIn[28], line 19\u001b[0m, in \u001b[0;36mget_nearest_neighbors\u001b[0;34m(gdf1, gdf2, k_neighbors)\u001b[0m\n\u001b[1;32m      3\u001b[0m \u001b[38;5;28;01mdef\u001b[39;00m \u001b[38;5;21mget_nearest_neighbors\u001b[39m(gdf1, gdf2, k_neighbors\u001b[38;5;241m=\u001b[39m\u001b[38;5;241m2\u001b[39m):\n\u001b[1;32m      4\u001b[0m \u001b[38;5;250m    \u001b[39m\u001b[38;5;124;03m'''Find k nearest neighbors for all source points from a set of candidate points\u001b[39;00m\n\u001b[1;32m      5\u001b[0m \u001b[38;5;124;03m    modified from: https://automating-gis-processes.github.io/site/notebooks/L3/nearest-neighbor-faster.html    \u001b[39;00m\n\u001b[1;32m      6\u001b[0m \u001b[38;5;124;03m    Parameters\u001b[39;00m\n\u001b[0;32m   (...)\u001b[0m\n\u001b[1;32m     16\u001b[0m \u001b[38;5;124;03m    gdf_final : geopandas.DataFrame\u001b[39;00m\n\u001b[1;32m     17\u001b[0m \u001b[38;5;124;03m    gdf1 with distance, index and all other columns from gdf2.'''\u001b[39;00m\n\u001b[0;32m---> 19\u001b[0m     src_points \u001b[38;5;241m=\u001b[39m [(x,y) \u001b[38;5;28;01mfor\u001b[39;00m x,y \u001b[38;5;129;01min\u001b[39;00m \u001b[38;5;28mzip\u001b[39m(\u001b[43mgdf1\u001b[49m\u001b[38;5;241;43m.\u001b[39;49m\u001b[43mgeometry\u001b[49m\u001b[38;5;241;43m.\u001b[39;49m\u001b[43mx\u001b[49m , gdf1\u001b[38;5;241m.\u001b[39mgeometry\u001b[38;5;241m.\u001b[39my)]\n\u001b[1;32m     20\u001b[0m     candidates \u001b[38;5;241m=\u001b[39m  [(x,y) \u001b[38;5;28;01mfor\u001b[39;00m x,y \u001b[38;5;129;01min\u001b[39;00m \u001b[38;5;28mzip\u001b[39m(gdf2\u001b[38;5;241m.\u001b[39mgeometry\u001b[38;5;241m.\u001b[39mx , gdf2\u001b[38;5;241m.\u001b[39mgeometry\u001b[38;5;241m.\u001b[39my)]\n\u001b[1;32m     22\u001b[0m     \u001b[38;5;66;03m# Create tree from the candidate points\u001b[39;00m\n",
      "File \u001b[0;32m~/Library/Python/3.9/lib/python/site-packages/geopandas/geoseries.py:281\u001b[0m, in \u001b[0;36mGeoSeries.x\u001b[0;34m(self)\u001b[0m\n\u001b[1;32m    255\u001b[0m \u001b[38;5;129m@property\u001b[39m\n\u001b[1;32m    256\u001b[0m \u001b[38;5;28;01mdef\u001b[39;00m \u001b[38;5;21mx\u001b[39m(\u001b[38;5;28mself\u001b[39m) \u001b[38;5;241m-\u001b[39m\u001b[38;5;241m>\u001b[39m Series:\n\u001b[1;32m    257\u001b[0m \u001b[38;5;250m    \u001b[39m\u001b[38;5;124;03m\"\"\"Return the x location of point geometries in a GeoSeries\u001b[39;00m\n\u001b[1;32m    258\u001b[0m \n\u001b[1;32m    259\u001b[0m \u001b[38;5;124;03m    Returns\u001b[39;00m\n\u001b[0;32m   (...)\u001b[0m\n\u001b[1;32m    279\u001b[0m \n\u001b[1;32m    280\u001b[0m \u001b[38;5;124;03m    \"\"\"\u001b[39;00m\n\u001b[0;32m--> 281\u001b[0m     \u001b[38;5;28;01mreturn\u001b[39;00m \u001b[43m_delegate_property\u001b[49m\u001b[43m(\u001b[49m\u001b[38;5;124;43m\"\u001b[39;49m\u001b[38;5;124;43mx\u001b[39;49m\u001b[38;5;124;43m\"\u001b[39;49m\u001b[43m,\u001b[49m\u001b[43m \u001b[49m\u001b[38;5;28;43mself\u001b[39;49m\u001b[43m)\u001b[49m\n",
      "File \u001b[0;32m~/Library/Python/3.9/lib/python/site-packages/geopandas/base.py:83\u001b[0m, in \u001b[0;36m_delegate_property\u001b[0;34m(op, this)\u001b[0m\n\u001b[1;32m     80\u001b[0m \u001b[38;5;28;01mdef\u001b[39;00m \u001b[38;5;21m_delegate_property\u001b[39m(op, this):\n\u001b[1;32m     81\u001b[0m     \u001b[38;5;66;03m# type: (str, GeoSeries) -> GeoSeries/Series\u001b[39;00m\n\u001b[1;32m     82\u001b[0m     a_this \u001b[38;5;241m=\u001b[39m GeometryArray(this\u001b[38;5;241m.\u001b[39mgeometry\u001b[38;5;241m.\u001b[39mvalues)\n\u001b[0;32m---> 83\u001b[0m     data \u001b[38;5;241m=\u001b[39m \u001b[38;5;28;43mgetattr\u001b[39;49m\u001b[43m(\u001b[49m\u001b[43ma_this\u001b[49m\u001b[43m,\u001b[49m\u001b[43m \u001b[49m\u001b[43mop\u001b[49m\u001b[43m)\u001b[49m\n\u001b[1;32m     84\u001b[0m     \u001b[38;5;28;01mif\u001b[39;00m \u001b[38;5;28misinstance\u001b[39m(data, GeometryArray):\n\u001b[1;32m     85\u001b[0m         \u001b[38;5;28;01mfrom\u001b[39;00m \u001b[38;5;21;01m.\u001b[39;00m\u001b[38;5;21;01mgeoseries\u001b[39;00m \u001b[38;5;28;01mimport\u001b[39;00m GeoSeries\n",
      "File \u001b[0;32m~/Library/Python/3.9/lib/python/site-packages/geopandas/array.py:1123\u001b[0m, in \u001b[0;36mGeometryArray.x\u001b[0;34m(self)\u001b[0m\n\u001b[1;32m   1121\u001b[0m \u001b[38;5;28;01melse\u001b[39;00m:\n\u001b[1;32m   1122\u001b[0m     message \u001b[38;5;241m=\u001b[39m \u001b[38;5;124m\"\u001b[39m\u001b[38;5;124mx attribute access only provided for Point geometries\u001b[39m\u001b[38;5;124m\"\u001b[39m\n\u001b[0;32m-> 1123\u001b[0m     \u001b[38;5;28;01mraise\u001b[39;00m \u001b[38;5;167;01mValueError\u001b[39;00m(message)\n",
      "\u001b[0;31mValueError\u001b[0m: x attribute access only provided for Point geometries"
     ]
    }
   ],
   "source": [
    "#find closest k amenities for each BG and get also the distance based on Euclidean distance\n",
    "#whole US subsets\n",
    "closest_am1 = get_nearest_neighbors(s_v1, am_id, k_neighbors=150)\n",
    "closest_am2 = get_nearest_neighbors(s_v2, am_id, k_neighbors=150)\n",
    "closest_am3 = get_nearest_neighbors(s_v3, am_id, k_neighbors=150)\n",
    "closest_am4 = get_nearest_neighbors(s_v4, am_id, k_neighbors=150)\n",
    "closest_am5 = get_nearest_neighbors(s_v5, am_id, k_neighbors=150)"
   ]
  },
  {
   "cell_type": "code",
   "execution_count": null,
   "metadata": {},
   "outputs": [],
   "source": [
    "#Wide to long\n",
    "#Whole US subsets\n",
    "closest_am1[\"ID2\"] = closest_am1.index\n",
    "closest_l1 = pd.wide_to_long(closest_am1, [\"distance_\",\"index_\",\"geometry_\"], i=\"ID2\", j=\"neighbor\")"
   ]
  },
  {
   "cell_type": "code",
   "execution_count": null,
   "metadata": {},
   "outputs": [],
   "source": [
    "closest_am2[\"ID2\"] = closest_am2.index\n",
    "closest_l2 = pd.wide_to_long(closest_am2, [\"distance_\",\"index_\",\"geometry_\"], i=\"ID2\", j=\"neighbor\")"
   ]
  },
  {
   "cell_type": "code",
   "execution_count": null,
   "metadata": {},
   "outputs": [],
   "source": [
    "closest_am3[\"ID2\"] = closest_am3.index\n",
    "closest_l3 = pd.wide_to_long(closest_am3, [\"distance_\",\"index_\",\"geometry_\"], i=\"ID2\", j=\"neighbor\")"
   ]
  },
  {
   "cell_type": "code",
   "execution_count": null,
   "metadata": {},
   "outputs": [],
   "source": [
    "closest_am4[\"ID2\"] = closest_am4.index\n",
    "closest_l4 = pd.wide_to_long(closest_am4, [\"distance_\",\"index_\",\"geometry_\"], i=\"ID2\", j=\"neighbor\")"
   ]
  },
  {
   "cell_type": "code",
   "execution_count": null,
   "metadata": {},
   "outputs": [],
   "source": [
    "closest_am5[\"ID2\"] = closest_am5.index\n",
    "closest_l5 = pd.wide_to_long(closest_am5, [\"distance_\",\"index_\",\"geometry_\"], i=\"ID2\", j=\"neighbor\")"
   ]
  },
  {
   "cell_type": "code",
   "execution_count": null,
   "metadata": {},
   "outputs": [],
   "source": [
    "#rename to 'eucidean', 'origin', 'dest'\n",
    "#whole US subsets\n",
    "closest_l1['origin'] = closest_l1['ID']\n",
    "closest_l1['dest'] = closest_l1['index_']\n",
    "closest_l1['euclidean'] = closest_l1['distance_']\n",
    "closest_l1= closest_l1.reset_index(level=(\"neighbor\",))\n",
    "cost1 = closest_l1[['euclidean', 'origin', 'dest','neighbor']]\n",
    "cost1.sort_values(by=['origin','euclidean'],inplace=True)"
   ]
  },
  {
   "cell_type": "code",
   "execution_count": null,
   "metadata": {},
   "outputs": [],
   "source": [
    "closest_l2['origin'] = closest_l2['ID']\n",
    "closest_l2['dest'] = closest_l2['index_']\n",
    "closest_l2['euclidean'] = closest_l2['distance_']\n",
    "closest_l2= closest_l2.reset_index(level=(\"neighbor\",))\n",
    "cost2 = closest_l2[['euclidean', 'origin', 'dest','neighbor']]\n",
    "cost2.sort_values(by=['origin','euclidean'],inplace=True)"
   ]
  },
  {
   "cell_type": "code",
   "execution_count": null,
   "metadata": {},
   "outputs": [],
   "source": [
    "closest_l3['origin'] = closest_l3['ID']\n",
    "closest_l3['dest'] = closest_l3['index_']\n",
    "closest_l3['euclidean'] = closest_l3['distance_']\n",
    "closest_l3= closest_l3.reset_index(level=(\"neighbor\",))\n",
    "cost3 = closest_l3[['euclidean', 'origin', 'dest','neighbor']]\n",
    "cost3.sort_values(by=['origin','euclidean'],inplace=True)"
   ]
  },
  {
   "cell_type": "code",
   "execution_count": null,
   "metadata": {},
   "outputs": [],
   "source": [
    "closest_l4['origin'] = closest_l4['ID']\n",
    "closest_l4['dest'] = closest_l4['index_']\n",
    "closest_l4['euclidean'] = closest_l4['distance_']\n",
    "closest_l4= closest_l4.reset_index(level=(\"neighbor\",))\n",
    "cost4 = closest_l4[['euclidean', 'origin', 'dest','neighbor']]\n",
    "cost4.sort_values(by=['origin','euclidean'],inplace=True)"
   ]
  },
  {
   "cell_type": "code",
   "execution_count": null,
   "metadata": {},
   "outputs": [],
   "source": [
    "closest_l5['origin'] = closest_l5['ID']\n",
    "closest_l5['dest'] = closest_l5['index_']\n",
    "closest_l5['euclidean'] = closest_l5['distance_']\n",
    "closest_l5= closest_l5.reset_index(level=(\"neighbor\",))\n",
    "cost5 = closest_l5[['euclidean', 'origin', 'dest','neighbor']]\n",
    "cost5.sort_values(by=['origin','euclidean'],inplace=True)"
   ]
  },
  {
   "cell_type": "markdown",
   "metadata": {},
   "source": [
    "#### 6.2. Calculate accessibility measure"
   ]
  },
  {
   "cell_type": "code",
   "execution_count": null,
   "metadata": {},
   "outputs": [],
   "source": [
    "# https://journals-sagepub-com.may.idm.oclc.org/doi/10.1177/0265813516641685\n",
    "#convert distance into time (rate of 5kph)\n",
    "cost1['time'] = (cost1.euclidean*3600)/5000\n",
    "cost2['time'] = (cost2.euclidean*3600)/5000\n",
    "cost3['time'] = (cost3.euclidean*3600)/5000\n",
    "cost4['time'] = (cost4.euclidean*3600)/5000\n",
    "cost5['time'] = (cost5.euclidean*3600)/5000\n",
    "\n",
    "# choose 'upper' parameter (for testing)\n",
    "# upper = 800\n",
    "# upper = 1600\n",
    "# upper = 2400\n",
    "\n",
    "# choose decay rate\n",
    "# decay = .005\n",
    "# decay = .008\n",
    "# decay = .01"
   ]
  },
  {
   "cell_type": "code",
   "execution_count": null,
   "metadata": {},
   "outputs": [],
   "source": [
    "cost1['LogitT_5'] = 1-(1/(np.e**((upper/180)-decay*cost1.time)+1))\n",
    "cost2['LogitT_5'] = 1-(1/(np.e**((upper/180)-decay*cost2.time)+1))\n",
    "cost3['LogitT_5'] = 1-(1/(np.e**((upper/180)-decay*cost3.time)+1))\n",
    "cost4['LogitT_5'] = 1-(1/(np.e**((upper/180)-decay*cost4.time)+1))\n",
    "cost5['LogitT_5'] = 1-(1/(np.e**((upper/180)-decay*cost5.time)+1))"
   ]
  },
  {
   "cell_type": "code",
   "execution_count": null,
   "metadata": {},
   "outputs": [],
   "source": [
    "# plt.hist(cost.LogitT_5, bins=50)\n",
    "# plt.hist(cost1.LogitT_5, bins=50)"
   ]
  },
  {
   "cell_type": "code",
   "execution_count": null,
   "metadata": {},
   "outputs": [],
   "source": [
    "#sum weighted distances by tract (origin) ID\n",
    "cost_sum1 = cost1.groupby(\"origin\").sum()\n",
    "cost_sum1['ID'] = cost_sum1.index\n",
    "cost_sum2 = cost2.groupby(\"origin\").sum()\n",
    "cost_sum2['ID'] = cost_sum2.index\n",
    "cost_sum3 = cost3.groupby(\"origin\").sum()\n",
    "cost_sum3['ID'] = cost_sum3.index\n",
    "cost_sum4 = cost4.groupby(\"origin\").sum()\n",
    "cost_sum4['ID'] = cost_sum4.index\n",
    "cost_sum5 = cost5.groupby(\"origin\").sum()\n",
    "cost_sum5['ID'] = cost_sum5.index"
   ]
  },
  {
   "cell_type": "code",
   "execution_count": null,
   "metadata": {},
   "outputs": [],
   "source": [
    "cost_merge1 = s_v1.merge(cost_sum1, how='inner', on='ID')\n",
    "cost_merge2 = s_v2.merge(cost_sum2, how='inner', on='ID')\n",
    "cost_merge3 = s_v3.merge(cost_sum3, how='inner', on='ID')\n",
    "cost_merge4 = s_v4.merge(cost_sum4, how='inner', on='ID')\n",
    "cost_merge5 = s_v5.merge(cost_sum5, how='inner', on='ID')"
   ]
  },
  {
   "cell_type": "code",
   "execution_count": null,
   "metadata": {},
   "outputs": [],
   "source": [
    "#export for given year\n",
    "# cost_merge1.to_file('us_walkability_access_score_2019_1.shp')\n",
    "# cost_merge2.to_file('us_walkability_access_score_2019_2.shp')\n",
    "# cost_merge3.to_file('us_walkability_access_score_2019_3.shp')\n",
    "# cost_merge4.to_file('us_walkability_access_score_2019_4.shp')\n",
    "# cost_merge5.to_file('us_walkability_access_score_2019_5.shp')"
   ]
  }
 ],
 "metadata": {
  "kernelspec": {
   "display_name": "Python 3 (ipykernel)",
   "language": "python",
   "name": "python3"
  },
  "language_info": {
   "codemirror_mode": {
    "name": "ipython",
    "version": 3
   },
   "file_extension": ".py",
   "mimetype": "text/x-python",
   "name": "python",
   "nbconvert_exporter": "python",
   "pygments_lexer": "ipython3",
   "version": "3.9.6"
  }
 },
 "nbformat": 4,
 "nbformat_minor": 4
}
