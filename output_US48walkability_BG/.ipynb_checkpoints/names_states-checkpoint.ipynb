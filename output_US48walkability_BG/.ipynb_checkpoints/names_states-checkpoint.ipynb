{
 "cells": [
  {
   "cell_type": "code",
   "execution_count": 2,
   "id": "75e9f97c-1590-4361-81d9-cf03fa3429ac",
   "metadata": {},
   "outputs": [],
   "source": [
    "# ADD STATE ABBVR "
   ]
  },
  {
   "cell_type": "code",
   "execution_count": 10,
   "id": "119d6613-f5be-44b9-8d55-d3a0532e0b5a",
   "metadata": {},
   "outputs": [],
   "source": [
    "import pandas as pd\n",
    "\n",
    "# Read the CSV file into a DataFrame\n",
    "df = pd.read_csv('/US48walkability_BG.csv')\n",
    "\n",
    "# Create a dictionary mapping state codes to state abbreviations\n",
    "state_code_to_abbr = {\n",
    "    1: 'AL', 2: 'AK', 4: 'AZ', 5: 'AR', 6: 'CA', 8: 'CO', 9: 'CT',\n",
    "    10: 'DE', 11: 'DC', 12: 'FL', 13: 'GA', 15: 'HI', 16: 'ID', 17: 'IL',\n",
    "    18: 'IN', 19: 'IA', 20: 'KS', 21: 'KY', 22: 'LA', 23: 'ME', 24: 'MD',\n",
    "    25: 'MA', 26: 'MI', 27: 'MN', 28: 'MS', 29: 'MO', 30: 'MT', 31: 'NE',\n",
    "    32: 'NV', 33: 'NH', 34: 'NJ', 35: 'NM', 36: 'NY', 37: 'NC', 38: 'ND',\n",
    "    39: 'OH', 40: 'OK', 41: 'OR', 42: 'PA', 44: 'RI', 45: 'SC', 46: 'SD',\n",
    "    47: 'TN', 48: 'TX', 49: 'UT', 50: 'VT', 51: 'VA', 53: 'WA', 54: 'WV',\n",
    "    55: 'WI', 56: 'WY'\n",
    "}\n",
    "\n",
    "# Ensure the state code column is treated as integers\n",
    "df['STATEFP'] = df['STATEFP'].astype(int)\n",
    "\n",
    "# Create the state_name column based on the state codes\n",
    "df['state_name'] = df['STATEFP'].map(state_code_to_abbr)\n",
    "\n",
    "# Save the updated DataFrame back to a CSV file\n",
    "df.to_csv('US48walkability_BG_state.csv', index=False)\n"
   ]
  },
  {
   "cell_type": "code",
   "execution_count": 11,
   "id": "20fc39ac-b44d-4103-b99d-e7ef1624ec72",
   "metadata": {},
   "outputs": [
    {
     "data": {
      "text/plain": [
       "215833"
      ]
     },
     "execution_count": 11,
     "metadata": {},
     "output_type": "execute_result"
    }
   ],
   "source": [
    "len(df)"
   ]
  },
  {
   "cell_type": "code",
   "execution_count": 12,
   "id": "f0083a93-5f5f-4e53-94da-ab593255eed0",
   "metadata": {},
   "outputs": [],
   "source": [
    "import csv\n",
    "\n",
    "with open('US48walkability_BG_state.csv') as fin:    \n",
    "    csvin = csv.DictReader(fin)\n",
    "    # Category -> open file lookup\n",
    "    outputs = {}\n",
    "    for row in csvin:\n",
    "        cat = row['state_name']\n",
    "        # Open a new file and write the header\n",
    "        if cat not in outputs:\n",
    "            fout = open('{}.csv'.format(cat), 'w')\n",
    "            dw = csv.DictWriter(fout, fieldnames=csvin.fieldnames)\n",
    "            dw.writeheader()\n",
    "            outputs[cat] = fout, dw\n",
    "        # Always write the row\n",
    "        outputs[cat][1].writerow(row)\n",
    "    # Close all the files\n",
    "    for fout, _ in outputs.values():\n",
    "        fout.close()"
   ]
  }
 ],
 "metadata": {
  "kernelspec": {
   "display_name": "Python 3 (ipykernel)",
   "language": "python",
   "name": "python3"
  },
  "language_info": {
   "codemirror_mode": {
    "name": "ipython",
    "version": 3
   },
   "file_extension": ".py",
   "mimetype": "text/x-python",
   "name": "python",
   "nbconvert_exporter": "python",
   "pygments_lexer": "ipython3",
   "version": "3.9.6"
  }
 },
 "nbformat": 4,
 "nbformat_minor": 5
}
